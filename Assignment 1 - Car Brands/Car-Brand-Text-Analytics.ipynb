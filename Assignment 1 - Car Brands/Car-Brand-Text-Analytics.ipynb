{
 "cells": [
  {
   "cell_type": "code",
   "execution_count": 1,
   "metadata": {
    "id": "Ry9CSxQnGADO"
   },
   "outputs": [],
   "source": [
    "import pandas as pd\n",
    "import numpy as np\n",
    "import matplotlib.pyplot as plt\n",
    "import seaborn as sns"
   ]
  },
  {
   "cell_type": "markdown",
   "metadata": {
    "id": "rmPR1eOJW-Sk"
   },
   "source": [
    "## Edmunds scrapping - Selenium"
   ]
  },
  {
   "cell_type": "code",
   "execution_count": null,
   "metadata": {
    "colab": {
     "base_uri": "https://localhost:8080/"
    },
    "id": "IxgTUZvlW-Sl",
    "outputId": "80455445-0c08-4bb8-bd9e-ac7baa3a6d3f"
   },
   "outputs": [],
   "source": [
    "# Use this code if using Colab to run Selenium\n",
    "\n",
    "# Make sure to go to Runtime -> Change runtime and set GPU as hardware accelerator\n",
    "\n",
    "# !kill -9 -1 # Use this line to delete this VM and start a new one. \n",
    "# The above line deletes all files and folders from the current VM and allocates a new one.\n",
    "\n",
    "#Selenium is an open-source tool that automates web browsers.\n",
    "!pip install selenium\n",
    "!apt-get -q update   #Used to handle installation and removal of softwares and libraries\n",
    "!apt install -yq chromium-chromedriver #ChromeDriver is a separate executable that Selenium WebDriver uses to control Chrome.\n",
    "!cp /usr/lib/chromium-browser/chromedriver /usr/bin\n",
    "\n",
    "import sys\n",
    "sys.path.insert(0,'/usr/lib/chromium-browser/chromedriver')\n",
    "\n",
    "import pandas as pd\n",
    "from datetime import datetime as dt\n",
    "from selenium import webdriver\n",
    "from selenium.common.exceptions import NoSuchElementException\n",
    "#WebDriver is a browser automation framework that works with open source APIs. \n",
    "#The framework operates by accepting commands, sending those commands to a browser, and interacting with applications.\n",
    "chrome_options = webdriver.ChromeOptions()\n",
    "chrome_options.add_argument('--headless')\n",
    "chrome_options.add_argument('--no-sandbox')\n",
    "chrome_options.add_argument('--disable-dev-shm-usage')"
   ]
  },
  {
   "cell_type": "code",
   "execution_count": null,
   "metadata": {
    "id": "cLlPjNWeW-Sl"
   },
   "outputs": [],
   "source": [
    "def get_web_page_details(url, page):\n",
    "    \n",
    "    wd.get(url + page)\n",
    "    \n",
    "    date_posted_list = []\n",
    "    comments_list = []\n",
    "\n",
    "    databox_comments_div = wd.find_element_by_xpath(\"//div[@class='DataBox DataBox-Comments']//ul\")\n",
    "#     li_el_list = databox_comments_div.find_elements_by_tag_name('li')\n",
    "    li_el_list = databox_comments_div.find_elements_by_xpath(\"li[contains(@class,'Item')]\")\n",
    "    print(len(li_el_list))\n",
    "    for el in li_el_list:\n",
    "        blq_len = 0\n",
    "        try:\n",
    "            blq_len = len(el.find_element_by_xpath(\".//blockquote[@class='UserQuote blockquote']\").text)\n",
    "        except NoSuchElementException as e:\n",
    "            pass\n",
    "        \n",
    "        # print(el.get_attribute('id'))\n",
    "        comment = el.find_element_by_xpath(\".//div[@class='Message userContent']\").text[blq_len:].strip('\\n ')\n",
    "        \n",
    "        date_posted = el.find_element_by_xpath(\".//time\").get_attribute(\"datetime\").split('+')[0]\n",
    "        \n",
    "        # print(date_posted)\n",
    "        \n",
    "        # print(\"\\n\")\n",
    "\n",
    "        date_posted_list.append(str(dt.strptime(date_posted, \"%Y-%m-%dT%H:%M:%S\")))\n",
    "        comments_list.append(comment)\n",
    "    \n",
    "    return date_posted_list, comments_list"
   ]
  },
  {
   "cell_type": "code",
   "execution_count": null,
   "metadata": {
    "id": "M-jvFpyEW-Sm"
   },
   "outputs": [],
   "source": [
    "wd = webdriver.Chrome('chromedriver',options=chrome_options)\n",
    "url = \"https://forums.edmunds.com/discussion/2864/general/x/entry-level-luxury-performance-sedans\""
   ]
  },
  {
   "cell_type": "code",
   "execution_count": null,
   "metadata": {
    "colab": {
     "base_uri": "https://localhost:8080/"
    },
    "id": "lNNUAUSQW-Sm",
    "outputId": "8bef3214-0b89-4d53-a31b-2a3ba86e4ba8"
   },
   "outputs": [],
   "source": [
    "url = \"https://forums.edmunds.com/discussion/2864/general/x/entry-level-luxury-performance-sedans\"\n",
    "\n",
    "comments_df = pd.DataFrame(columns = ['date', 'comment'])\n",
    "for i in range(1,436):\n",
    "    page = \"/p\" + str(i)\n",
    "    if i==1:\n",
    "        page = ''\n",
    "    \n",
    "    print(\"Scrapping page :\", i)\n",
    "    date_posted_list, comments_list = get_web_page_details(url, page)\n",
    "#     print(len(date_posted_list), \"dates found !\", len(comments_list), \"comments found!\")\n",
    "    \n",
    "    df = pd.DataFrame({\n",
    "        'date' : date_posted_list,\n",
    "        'comment' : comments_list\n",
    "    })\n",
    "    \n",
    "    comments_df = comments_df.append(df)"
   ]
  },
  {
   "cell_type": "code",
   "execution_count": null,
   "metadata": {
    "colab": {
     "base_uri": "https://localhost:8080/",
     "height": 17
    },
    "id": "LtYdFs-_W-Sn",
    "outputId": "bec487fa-7be3-4d89-cfec-5f5f02e1cdce"
   },
   "outputs": [],
   "source": [
    "from google.colab import files\n",
    "comments_df.to_csv('comments_data_complete.csv', index=False)\n",
    "files.download(\"comments_data_complete.csv\")"
   ]
  },
  {
   "cell_type": "code",
   "execution_count": null,
   "metadata": {
    "colab": {
     "base_uri": "https://localhost:8080/"
    },
    "id": "U1-gxFacW-Sn",
    "outputId": "e6dd6370-2246-48e1-c80d-08a914ac6c6a"
   },
   "outputs": [],
   "source": [
    "comments_df.shape"
   ]
  },
  {
   "cell_type": "markdown",
   "metadata": {
    "id": "AoOwcJwZW-So"
   },
   "source": [
    "## Data read"
   ]
  },
  {
   "cell_type": "code",
   "execution_count": 2,
   "metadata": {
    "colab": {
     "base_uri": "https://localhost:8080/",
     "height": 204
    },
    "id": "H1mwkfZixkxB",
    "outputId": "05b69c38-38a4-430b-f97b-62f6f6662cf1"
   },
   "outputs": [
    {
     "data": {
      "text/html": [
       "<div>\n",
       "<style scoped>\n",
       "    .dataframe tbody tr th:only-of-type {\n",
       "        vertical-align: middle;\n",
       "    }\n",
       "\n",
       "    .dataframe tbody tr th {\n",
       "        vertical-align: top;\n",
       "    }\n",
       "\n",
       "    .dataframe thead th {\n",
       "        text-align: right;\n",
       "    }\n",
       "</style>\n",
       "<table border=\"1\" class=\"dataframe\">\n",
       "  <thead>\n",
       "    <tr style=\"text-align: right;\">\n",
       "      <th></th>\n",
       "      <th>date</th>\n",
       "      <th>comment</th>\n",
       "    </tr>\n",
       "  </thead>\n",
       "  <tbody>\n",
       "    <tr>\n",
       "      <th>0</th>\n",
       "      <td>2/26/2014 21:51</td>\n",
       "      <td>'02 rx300. gonna sit back, smell the oil and c...</td>\n",
       "    </tr>\n",
       "    <tr>\n",
       "      <th>1</th>\n",
       "      <td>2/27/2014 2:45</td>\n",
       "      <td>@markcincinnati - like i mentioned i got the 1...</td>\n",
       "    </tr>\n",
       "    <tr>\n",
       "      <th>2</th>\n",
       "      <td>2/27/2014 2:57</td>\n",
       "      <td>@stickguy i like the new feature to add pix- b...</td>\n",
       "    </tr>\n",
       "    <tr>\n",
       "      <th>3</th>\n",
       "      <td>2/27/2014 14:59</td>\n",
       "      <td>@sweendogy: i read an article about the \"indiv...</td>\n",
       "    </tr>\n",
       "    <tr>\n",
       "      <th>4</th>\n",
       "      <td>2/27/2014 15:08</td>\n",
       "      <td>my wife's mazda cx-7 does that as well ... wil...</td>\n",
       "    </tr>\n",
       "  </tbody>\n",
       "</table>\n",
       "</div>"
      ],
      "text/plain": [
       "              date                                            comment\n",
       "0  2/26/2014 21:51  '02 rx300. gonna sit back, smell the oil and c...\n",
       "1   2/27/2014 2:45  @markcincinnati - like i mentioned i got the 1...\n",
       "2   2/27/2014 2:57  @stickguy i like the new feature to add pix- b...\n",
       "3  2/27/2014 14:59  @sweendogy: i read an article about the \"indiv...\n",
       "4  2/27/2014 15:08  my wife's mazda cx-7 does that as well ... wil..."
      ]
     },
     "execution_count": 2,
     "metadata": {},
     "output_type": "execute_result"
    }
   ],
   "source": [
    "# reading the data\n",
    "data = pd.read_csv('scrapper/comments_data_complete.csv')\n",
    "\n",
    "# removing nulls\n",
    "data = data.dropna().reset_index(drop=True)\n",
    "data.isnull().sum()\n",
    "\n",
    "# taking latest 5000 comments only\n",
    "data = data.tail(5000)\n",
    "data.reset_index(drop=True, inplace=True)\n",
    "\n",
    "# lowering the comment for consistency\n",
    "data['comment'] = data['comment'].str.lower()\n",
    "data.head()"
   ]
  },
  {
   "cell_type": "code",
   "execution_count": 3,
   "metadata": {
    "colab": {
     "base_uri": "https://localhost:8080/"
    },
    "id": "4h0FWVSoynez",
    "outputId": "3fef2788-8b9c-4812-e9ca-e29e889bd272"
   },
   "outputs": [
    {
     "data": {
      "text/plain": [
       "(5000, 2)"
      ]
     },
     "execution_count": 3,
     "metadata": {},
     "output_type": "execute_result"
    }
   ],
   "source": [
    "data.shape"
   ]
  },
  {
   "cell_type": "markdown",
   "metadata": {
    "id": "lkDPT18k09nz"
   },
   "source": [
    "## Task A - Ziff's law"
   ]
  },
  {
   "cell_type": "code",
   "execution_count": 4,
   "metadata": {
    "colab": {
     "base_uri": "https://localhost:8080/",
     "height": 36
    },
    "id": "mOYogd8WW-Sp",
    "outputId": "acd161c8-f733-42f8-ceda-8784baedb804",
    "scrolled": true
   },
   "outputs": [
    {
     "data": {
      "text/plain": [
       "\"'02 rx300. gonna sit back, smell the oil and chill. researching a second opinion. wife wants at least another 4 years/40k miles out of it for kids to \""
      ]
     },
     "execution_count": 4,
     "metadata": {},
     "output_type": "execute_result"
    }
   ],
   "source": [
    "# creating the text from comments \n",
    "text = ' '.join(data['comment'].tail(5000))\n",
    "text = text.lower()\n",
    "\n",
    "# setting top 'N' words for ziff's law\n",
    "rank_limit = 100\n",
    "\n",
    "text[:150]"
   ]
  },
  {
   "cell_type": "code",
   "execution_count": 5,
   "metadata": {
    "colab": {
     "base_uri": "https://localhost:8080/"
    },
    "id": "tAKPoLkZW-Sq",
    "outputId": "47a0e552-b6b0-4a34-e965-5269359f965c"
   },
   "outputs": [
    {
     "name": "stdout",
     "output_type": "stream",
     "text": [
      "Requirement already satisfied: nltk in c:\\users\\gupta\\anaconda3\\lib\\site-packages (3.6.1)\n",
      "Requirement already satisfied: click in c:\\users\\gupta\\anaconda3\\lib\\site-packages (from nltk) (7.1.2)\n",
      "Requirement already satisfied: tqdm in c:\\users\\gupta\\anaconda3\\lib\\site-packages (from nltk) (4.59.0)\n",
      "Requirement already satisfied: regex in c:\\users\\gupta\\anaconda3\\lib\\site-packages (from nltk) (2021.4.4)\n",
      "Requirement already satisfied: joblib in c:\\users\\gupta\\anaconda3\\lib\\site-packages (from nltk) (1.0.1)\n"
     ]
    },
    {
     "name": "stderr",
     "output_type": "stream",
     "text": [
      "[nltk_data] Downloading package punkt to\n",
      "[nltk_data]     C:\\Users\\gupta\\AppData\\Roaming\\nltk_data...\n",
      "[nltk_data]   Package punkt is already up-to-date!\n"
     ]
    },
    {
     "data": {
      "text/plain": [
       "Counter({\"'02\": 7,\n",
       "         'rx300': 3,\n",
       "         '.': 21189,\n",
       "         'gon': 31,\n",
       "         'na': 52,\n",
       "         'sit': 43,\n",
       "         'back': 530,\n",
       "         ',': 22281,\n",
       "         'smell': 6,\n",
       "         'the': 24385,\n",
       "         'oil': 200,\n",
       "         'and': 9952,\n",
       "         'chill': 3,\n",
       "         'researching': 4,\n",
       "         'a': 11626,\n",
       "         'second': 130,\n",
       "         'opinion': 69,\n",
       "         'wife': 327,\n",
       "         'wants': 66,\n",
       "         'at': 2539,\n",
       "         'least': 407,\n",
       "         'another': 307,\n",
       "         '4': 294,\n",
       "         'years/40k': 1,\n",
       "         'miles': 527,\n",
       "         'out': 1104,\n",
       "         'of': 7487,\n",
       "         'it': 6815,\n",
       "         'for': 4775,\n",
       "         'kids': 35,\n",
       "         'to': 10165,\n",
       "         'use': 242,\n",
       "         'big': 322,\n",
       "         'grocery': 5,\n",
       "         'runs': 21,\n",
       "         'bjs': 1,\n",
       "         '...': 688,\n",
       "         'my': 3117,\n",
       "         'guess': 204,\n",
       "         'is': 6524,\n",
       "         'ai': 26,\n",
       "         \"n't\": 2988,\n",
       "         'make': 533,\n",
       "         'that': 6142,\n",
       "         'far': 259,\n",
       "         'without': 219,\n",
       "         'some': 1103,\n",
       "         'kind': 146,\n",
       "         'tlc': 1,\n",
       "         'doubt': 66,\n",
       "         'issue': 175,\n",
       "         'will': 1302,\n",
       "         'heal': 1,\n",
       "         'thyself': 1,\n",
       "         '!': 827,\n",
       "         '@': 335,\n",
       "         'markcincinnati': 29,\n",
       "         '-': 990,\n",
       "         'like': 1761,\n",
       "         'i': 11120,\n",
       "         'mentioned': 85,\n",
       "         'got': 454,\n",
       "         '13': 26,\n",
       "         's4': 657,\n",
       "         'mine': 92,\n",
       "         'has': 1467,\n",
       "         'sports': 114,\n",
       "         'diff': 29,\n",
       "         'audi': 1122,\n",
       "         'select-': 1,\n",
       "         'sd': 5,\n",
       "         'not': 2788,\n",
       "         'noticeable': 19,\n",
       "         '90': 48,\n",
       "         '%': 516,\n",
       "         'or': 2374,\n",
       "         'more': 1607,\n",
       "         'time': 826,\n",
       "         'under': 193,\n",
       "         'normal': 62,\n",
       "         'conditions': 31,\n",
       "         'in': 5993,\n",
       "         'reading': 46,\n",
       "         'other': 674,\n",
       "         'post': 87,\n",
       "         'enthusiast': 27,\n",
       "         'love': 215,\n",
       "         'it-': 11,\n",
       "         'me': 1258,\n",
       "         \"'m\": 869,\n",
       "         'totally': 61,\n",
       "         'sold': 106,\n",
       "         'its': 471,\n",
       "         'must': 139,\n",
       "         'have': 3098,\n",
       "         'but': 3403,\n",
       "         'extra': 157,\n",
       "         '1k': 24,\n",
       "         'on': 3501,\n",
       "         '55-60k': 1,\n",
       "         'car': 2786,\n",
       "         'could': 757,\n",
       "         'see': 538,\n",
       "         'wanting': 29,\n",
       "         'prestige': 71,\n",
       "         'package': 251,\n",
       "         'just': 1513,\n",
       "         'bunch': 36,\n",
       "         'small': 181,\n",
       "         'extras': 3,\n",
       "         'do': 1944,\n",
       "         'nothing': 178,\n",
       "         'performance': 430,\n",
       "         'are': 2701,\n",
       "         'added': 79,\n",
       "         'lux': 48,\n",
       "         \"'ve\": 570,\n",
       "         'only': 737,\n",
       "         'had': 1269,\n",
       "         '2': 274,\n",
       "         'weeks-': 1,\n",
       "         'say': 486,\n",
       "         'with': 3866,\n",
       "         'snow': 131,\n",
       "         'tires': 374,\n",
       "         'bull': 2,\n",
       "         'hills': 3,\n",
       "         'turns': 35,\n",
       "         'an': 1924,\n",
       "         'even': 1070,\n",
       "         '6': 184,\n",
       "         'inches': 18,\n",
       "         'loose': 9,\n",
       "         'snows': 9,\n",
       "         'noisier': 3,\n",
       "         'then': 746,\n",
       "         'old': 331,\n",
       "         'g': 41,\n",
       "         'was': 2808,\n",
       "         'does': 747,\n",
       "         'get': 1285,\n",
       "         '4-5': 4,\n",
       "         'mpg': 172,\n",
       "         'better': 702,\n",
       "         'limited': 44,\n",
       "         'mixed': 15,\n",
       "         'driving': 474,\n",
       "         'drive': 762,\n",
       "         'mostly': 95,\n",
       "         'individual': 31,\n",
       "         'mode-': 4,\n",
       "         'set': 132,\n",
       "         'exhaust': 37,\n",
       "         'be': 2874,\n",
       "         'dynamic': 32,\n",
       "         '(': 3402,\n",
       "         'infinit': 4,\n",
       "         'standard': 241,\n",
       "         ')': 3437,\n",
       "         'steering': 216,\n",
       "         'engine': 425,\n",
       "         'auto': 146,\n",
       "         'also': 636,\n",
       "         'speed': 201,\n",
       "         'limit': 47,\n",
       "         'alert': 4,\n",
       "         '80mph': 4,\n",
       "         'as': 2613,\n",
       "         'very': 710,\n",
       "         'easy': 55,\n",
       "         'miss': 36,\n",
       "         'given': 164,\n",
       "         'readout-': 1,\n",
       "         'found': 134,\n",
       "         'digital': 7,\n",
       "         'speedo': 3,\n",
       "         'extremely': 21,\n",
       "         'helpful-': 1,\n",
       "         'v1': 6,\n",
       "         'hard': 182,\n",
       "         'mounted': 9,\n",
       "         'near': 79,\n",
       "         'passenger': 43,\n",
       "         'visor': 1,\n",
       "         'well': 792,\n",
       "         'excited': 8,\n",
       "         'about': 1412,\n",
       "         'bit': 318,\n",
       "         'worried': 18,\n",
       "         'german': 179,\n",
       "         'gremlins': 5,\n",
       "         'maybe': 332,\n",
       "         'hiding': 3,\n",
       "         'stickguy': 31,\n",
       "         'new': 1277,\n",
       "         'feature': 66,\n",
       "         'add': 129,\n",
       "         'pix-': 1,\n",
       "         'badges': 14,\n",
       "         'really': 795,\n",
       "         '?': 1956,\n",
       "         'need': 367,\n",
       "         'no': 1127,\n",
       "         'stinking': 1,\n",
       "         '....': 516,\n",
       "         'sweendogy': 14,\n",
       "         ':': 1012,\n",
       "         'read': 175,\n",
       "         'article': 78,\n",
       "         '``': 2464,\n",
       "         \"''\": 2702,\n",
       "         'settings': 12,\n",
       "         'suggested': 17,\n",
       "         'perform': 20,\n",
       "         'best': 241,\n",
       "         'if': 1996,\n",
       "         'ca': 340,\n",
       "         'seem': 247,\n",
       "         'locate': 1,\n",
       "         'know': 705,\n",
       "         'fairly': 43,\n",
       "         'recent': 63,\n",
       "         '&': 330,\n",
       "         'driver': 175,\n",
       "         'automobile': 35,\n",
       "         'road': 200,\n",
       "         'track': 154,\n",
       "         'since': 434,\n",
       "         'those': 611,\n",
       "         'publications': 2,\n",
       "         'subscribe': 4,\n",
       "         'can': 1300,\n",
       "         'honestly': 20,\n",
       "         'tell': 138,\n",
       "         'much': 861,\n",
       "         'difference': 159,\n",
       "         'what': 1306,\n",
       "         \"'s\": 3510,\n",
       "         'worth': 127,\n",
       "         'comfort': 52,\n",
       "         'engine/transmission': 3,\n",
       "         'sound': 141,\n",
       "         'respectively': 4,\n",
       "         'primary': 11,\n",
       "         'perhaps': 308,\n",
       "         'setting': 22,\n",
       "         'transmission': 255,\n",
       "         'default': 5,\n",
       "         's': 354,\n",
       "         'mode': 82,\n",
       "         'which': 781,\n",
       "         'seems': 477,\n",
       "         'hold': 46,\n",
       "         'gear': 66,\n",
       "         'longer': 132,\n",
       "         'before': 257,\n",
       "         'upshift': 2,\n",
       "         'obvious': 23,\n",
       "         'rev': 8,\n",
       "         'matches': 5,\n",
       "         'during': 56,\n",
       "         'downshifts': 4,\n",
       "         'fart': 5,\n",
       "         'upshifts': 1,\n",
       "         'aggressive': 19,\n",
       "         'hence': 30,\n",
       "         'now': 884,\n",
       "         'passed': 32,\n",
       "         '5,000': 17,\n",
       "         'am': 342,\n",
       "         'noticing': 8,\n",
       "         'gas': 129,\n",
       "         'mileage': 94,\n",
       "         'improved': 57,\n",
       "         'feeling': 45,\n",
       "         'less': 455,\n",
       "         'friction': 3,\n",
       "         'overall': 96,\n",
       "         'missed': 26,\n",
       "         'cruise': 38,\n",
       "         'control': 92,\n",
       "         '--': 1756,\n",
       "         'when': 1040,\n",
       "         'cc': 12,\n",
       "         '45mph': 3,\n",
       "         'acura': 619,\n",
       "         'tl': 254,\n",
       "         'sh-awd': 75,\n",
       "         'find': 290,\n",
       "         'myself': 102,\n",
       "         'going': 461,\n",
       "         'down': 328,\n",
       "         'rather': 164,\n",
       "         'steep': 12,\n",
       "         'hill': 6,\n",
       "         'seeing': 51,\n",
       "         'curve': 31,\n",
       "         'bottom': 45,\n",
       "         'would': 1926,\n",
       "         'start': 135,\n",
       "         'freewheeling': 1,\n",
       "         'so': 1810,\n",
       "         'speak': 65,\n",
       "         'pick': 67,\n",
       "         'up': 1152,\n",
       "         'based': 161,\n",
       "         'grade': 10,\n",
       "         'negotiate': 16,\n",
       "         'turn': 95,\n",
       "         'brake': 58,\n",
       "         'turned': 47,\n",
       "         'off': 389,\n",
       "         'course': 322,\n",
       "         'go': 588,\n",
       "         'virtual': 13,\n",
       "         'vertical': 5,\n",
       "         'drop': 45,\n",
       "         'holds': 12,\n",
       "         'period': 39,\n",
       "         'reaching': 2,\n",
       "         'base': 236,\n",
       "         'downhill': 5,\n",
       "         'killing': 7,\n",
       "         'little': 288,\n",
       "         'thing': 445,\n",
       "         'people': 551,\n",
       "         '2005': 51,\n",
       "         'a6': 140,\n",
       "         '2009': 34,\n",
       "         'a4': 312,\n",
       "         'this': 1803,\n",
       "         '2011': 43,\n",
       "         'infiniti': 233,\n",
       "         '2012': 52,\n",
       "         'did': 828,\n",
       "         'seemed': 83,\n",
       "         '[': 157,\n",
       "         'japanese': 55,\n",
       "         'premium': 279,\n",
       "         'cars': 1599,\n",
       "         ']': 157,\n",
       "         'huge': 72,\n",
       "         'oversight': 5,\n",
       "         'you': 3759,\n",
       "         '75mph': 1,\n",
       "         'come': 250,\n",
       "         'into': 455,\n",
       "         'heavily': 14,\n",
       "         'monitored': 1,\n",
       "         'construction': 7,\n",
       "         'zone': 9,\n",
       "         'where': 351,\n",
       "         'reduced': 14,\n",
       "         '55mph': 2,\n",
       "         'toggle': 7,\n",
       "         'stalk': 2,\n",
       "         '55': 11,\n",
       "         'brakes': 95,\n",
       "         'resets': 1,\n",
       "         'itself': 60,\n",
       "         '55.': 2,\n",
       "         'instance': 51,\n",
       "         'coast': 8,\n",
       "         'apply': 20,\n",
       "         'yourself': 36,\n",
       "         'there': 1176,\n",
       "         'folks': 208,\n",
       "         'who': 667,\n",
       "         'dead': 42,\n",
       "         'against': 94,\n",
       "         'having': 209,\n",
       "         'intelligence': 3,\n",
       "         'autonomy': 4,\n",
       "         'simply': 118,\n",
       "         'want': 614,\n",
       "         'enjoy': 83,\n",
       "         'tiny': 22,\n",
       "         'smarter': 2,\n",
       "         'any': 623,\n",
       "         'case': 168,\n",
       "         'keep': 249,\n",
       "         'forgetting': 5,\n",
       "         'how': 674,\n",
       "         'technology': 107,\n",
       "         'comes': 182,\n",
       "         'these': 497,\n",
       "         'help': 81,\n",
       "         'ticketed': 2,\n",
       "         'remain': 25,\n",
       "         'give': 183,\n",
       "         'alone': 51,\n",
       "         'contribution': 9,\n",
       "         'safety': 56,\n",
       "         'dilyl': 10,\n",
       "         'mazda': 109,\n",
       "         'cx-7': 3,\n",
       "         'automatically': 9,\n",
       "         'downshift': 9,\n",
       "         'automatic': 91,\n",
       "         'lower': 161,\n",
       "         'maintain': 23,\n",
       "         'agree': 188,\n",
       "         'nice': 465,\n",
       "         'especially': 141,\n",
       "         'here': 620,\n",
       "         'colorado': 10,\n",
       "         'we': 1410,\n",
       "         'fair': 50,\n",
       "         'amount': 78,\n",
       "         'elevation': 1,\n",
       "         'change': 189,\n",
       "         'roads': 81,\n",
       "         'bmw': 1378,\n",
       "         'infact': 7,\n",
       "         'applys': 1,\n",
       "         'lights': 39,\n",
       "         'been': 656,\n",
       "         'traveling': 7,\n",
       "         'between': 182,\n",
       "         'phoenix': 19,\n",
       "         'san': 28,\n",
       "         'diego': 23,\n",
       "         'quite': 224,\n",
       "         'bite': 4,\n",
       "         'father': 17,\n",
       "         'hospital': 4,\n",
       "         'helpful': 13,\n",
       "         'wonder': 105,\n",
       "         'why': 353,\n",
       "         '..': 318,\n",
       "         'backup': 37,\n",
       "         'camera': 73,\n",
       "         'screen': 68,\n",
       "         'shows': 31,\n",
       "         'trajectory': 3,\n",
       "         'lines': 51,\n",
       "         'wheel': 168,\n",
       "         'straight': 43,\n",
       "         'match': 25,\n",
       "         'inputs': 3,\n",
       "         'front': 220,\n",
       "         'rear': 184,\n",
       "         'reverse': 7,\n",
       "         'wonderful': 29,\n",
       "         'fantastic': 14,\n",
       "         'ta': 24,\n",
       "         'around-view': 2,\n",
       "         'monitor': 18,\n",
       "         'both': 343,\n",
       "         'offer': 162,\n",
       "         'tech': 141,\n",
       "         'still': 683,\n",
       "         'universal': 5,\n",
       "         'recently': 84,\n",
       "         'many': 452,\n",
       "         'times': 158,\n",
       "         'adoption': 3,\n",
       "         'pushed': 21,\n",
       "         'future': 44,\n",
       "         'year': 415,\n",
       "         'should': 426,\n",
       "         'feel': 240,\n",
       "         'good': 925,\n",
       "         'typically': 55,\n",
       "         'such': 191,\n",
       "         'pretty': 319,\n",
       "         'available': 174,\n",
       "         'lesser': 17,\n",
       "         'from': 1286,\n",
       "         'mfgr': 11,\n",
       "         'looks': 265,\n",
       "         'cameras': 16,\n",
       "         'probably': 478,\n",
       "         'required': 41,\n",
       "         'january': 10,\n",
       "         '2015': 131,\n",
       "         'your': 810,\n",
       "         'breath': 7,\n",
       "         'by': 799,\n",
       "         'requirement': 6,\n",
       "         'all-around': 4,\n",
       "         'top-view': 6,\n",
       "         'systems': 77,\n",
       "         'norm': 8,\n",
       "         'segment': 53,\n",
       "         'seen': 120,\n",
       "         'etc': 287,\n",
       "         'set-up': 3,\n",
       "         'check': 98,\n",
       "         'nearest': 4,\n",
       "         'showroom': 51,\n",
       "         'seriously': 46,\n",
       "         'cool': 65,\n",
       "         'makes': 221,\n",
       "         'parking': 55,\n",
       "         'tight': 32,\n",
       "         'spaces': 4,\n",
       "         'oh': 106,\n",
       "         'million': 35,\n",
       "         'percent': 29,\n",
       "         'easier': 27,\n",
       "         'safer': 11,\n",
       "         'graduated': 8,\n",
       "         'college': 31,\n",
       "         '1973': 5,\n",
       "         'yep': 16,\n",
       "         'took': 149,\n",
       "         '1971': 2,\n",
       "         'introduced': 24,\n",
       "         'chrysler': 59,\n",
       "         'anti-lock': 4,\n",
       "         '1971.': 1,\n",
       "         'let': 181,\n",
       "         'sink': 1,\n",
       "         'first': 407,\n",
       "         'personally': 44,\n",
       "         'aware': 23,\n",
       "         'actually': 317,\n",
       "         'abs': 39,\n",
       "         'came': 146,\n",
       "         'called': 101,\n",
       "         '1985': 4,\n",
       "         'model': 443,\n",
       "         '7': 92,\n",
       "         'series': 322,\n",
       "         'recall': 62,\n",
       "         'us': 431,\n",
       "         'market': 304,\n",
       "         'calendar': 9,\n",
       "         '1984.': 1,\n",
       "         'wide-wide': 2,\n",
       "         'world': 126,\n",
       "         'years': 639,\n",
       "         'std': 3,\n",
       "         'equipment': 64,\n",
       "         'gas-turbine': 1,\n",
       "         'they': 2733,\n",
       "         'produced': 8,\n",
       "         'sourced': 7,\n",
       "         'bosch': 5,\n",
       "         'following': 40,\n",
       "         'offered': 81,\n",
       "         '200': 49,\n",
       "         'name': 114,\n",
       "         '5000s': 2,\n",
       "         'quattro': 74,\n",
       "         'fwd': 166,\n",
       "         'version': 153,\n",
       "         'too': 745,\n",
       "         'matter': 118,\n",
       "         'yet': 207,\n",
       "         'mere': 13,\n",
       "         'mortals': 8,\n",
       "         'their': 1000,\n",
       "         'blue': 60,\n",
       "         'ovals': 1,\n",
       "         'bow': 1,\n",
       "         'ties': 2,\n",
       "         'decades': 41,\n",
       "         'automotive': 34,\n",
       "         'eternity': 2,\n",
       "         'esp': 17,\n",
       "         'widely': 5,\n",
       "         'certain': 112,\n",
       "         'extent': 14,\n",
       "         'helluva': 5,\n",
       "         'long': 321,\n",
       "         'bring': 67,\n",
       "         'torque': 206,\n",
       "         'vectoring': 28,\n",
       "         'aka': 11,\n",
       "         'sport': 482,\n",
       "         'differential': 17,\n",
       "         'doing': 142,\n",
       "         'believe': 172,\n",
       "         'sometime': 9,\n",
       "         'after': 365,\n",
       "         'announced': 12,\n",
       "         'mouthful': 1,\n",
       "         'tpms': 1,\n",
       "         'sat': 46,\n",
       "         'nav': 82,\n",
       "         'voice': 25,\n",
       "         'activation': 2,\n",
       "         'blind': 28,\n",
       "         'spot': 46,\n",
       "         'monitoring': 14,\n",
       "         'bi-xenon': 1,\n",
       "         'head-lights': 1,\n",
       "         'except': 50,\n",
       "         'back-up': 4,\n",
       "         'view': 42,\n",
       "         'monitors': 4,\n",
       "         'whole': 86,\n",
       "         'host': 4,\n",
       "         'ought': 23,\n",
       "         'stuff': 122,\n",
       "         'than': 1291,\n",
       "         'remember': 124,\n",
       "         'due': 129,\n",
       "         'fading': 1,\n",
       "         'memory': 13,\n",
       "         ';': 517,\n",
       "         'cheap': 119,\n",
       "         'all': 1385,\n",
       "         'fit': 93,\n",
       "         'space': 47,\n",
       "         'one': 1612,\n",
       "         'chip': 37,\n",
       "         'room': 93,\n",
       "         'spare': 48,\n",
       "         'days': 213,\n",
       "         'trickle': 4,\n",
       "         'offering': 38,\n",
       "         'move': 114,\n",
       "         'glacial': 1,\n",
       "         'pity': 12,\n",
       "         'sake': 16,\n",
       "         '8': 111,\n",
       "         '9': 38,\n",
       "         '4-cylinder': 16,\n",
       "         '2010': 20,\n",
       "         '8-speed': 58,\n",
       "         'tiptronic': 14,\n",
       "         'every': 336,\n",
       "         'virtually': 69,\n",
       "         'unit': 49,\n",
       "         'reason': 208,\n",
       "         'being': 363,\n",
       "         'economy': 57,\n",
       "         'yes': 230,\n",
       "         'chevy': 44,\n",
       "         'germans': 63,\n",
       "         'zf': 21,\n",
       "         'buy': 364,\n",
       "         'units': 30,\n",
       "         'tout': 7,\n",
       "         'benefits': 11,\n",
       "         'brand': 307,\n",
       "         'impalas': 1,\n",
       "         'ss': 9,\n",
       "         'same': 596,\n",
       "         'question': 89,\n",
       "         'ford': 102,\n",
       "         'efficiency': 15,\n",
       "         'gains': 6,\n",
       "         'made': 247,\n",
       "         'instead': 82,\n",
       "         'usa': 9,\n",
       "         '6-speed': 27,\n",
       "         'transmissions': 73,\n",
       "         'rhode': 3,\n",
       "         'island': 10,\n",
       "         'neither': 25,\n",
       "         'nor': 38,\n",
       "         'discuss': 21,\n",
       "         'amongst': 3,\n",
       "         'yourselves': 2,\n",
       "         'dunno': 10,\n",
       "         'nicely': 41,\n",
       "         'snappy': 1,\n",
       "         'vest': 1,\n",
       "         'pocketwatch': 1,\n",
       "         'mark': 131,\n",
       "         'mb': 165,\n",
       "         'class': 278,\n",
       "         '86': 1,\n",
       "         '300sdl': 2,\n",
       "         'them': 776,\n",
       "         'oldsmobile': 7,\n",
       "         'manufacture': 22,\n",
       "         'airbag': 4,\n",
       "         'option': 199,\n",
       "         '70': 41,\n",
       "         'needless': 2,\n",
       "         'thought': 232,\n",
       "         'lexus': 254,\n",
       "         'spd': 18,\n",
       "         'ls430': 1,\n",
       "         'automakers': 16,\n",
       "         'needed': 96,\n",
       "         'benefit': 20,\n",
       "         'lively': 8,\n",
       "         'steptronic': 1,\n",
       "         'right': 432,\n",
       "         'imperial': 11,\n",
       "         'wheels': 165,\n",
       "         'apparently': 91,\n",
       "         'worked': 41,\n",
       "         'glad': 23,\n",
       "         'scratching': 1,\n",
       "         'our': 358,\n",
       "         'heads': 22,\n",
       "         'wondering': 25,\n",
       "         'nearly': 77,\n",
       "         'gap': 8,\n",
       "         'working': 41,\n",
       "         'think': 1089,\n",
       "         '2-channel': 1,\n",
       "         'hey': 26,\n",
       "         'putting': 39,\n",
       "         'top': 216,\n",
       "         'line': 197,\n",
       "         'models': 209,\n",
       "         '1986': 6,\n",
       "         '5000cs': 5,\n",
       "         'indeed': 42,\n",
       "         'switch': 26,\n",
       "         'dash': 49,\n",
       "         'owner': 83,\n",
       "         'manual': 261,\n",
       "         'explained': 12,\n",
       "         'away': 144,\n",
       "         'sometimes': 109,\n",
       "         'inappropriate': 3,\n",
       "         'because': 413,\n",
       "         'something': 391,\n",
       "         'wrong': 139,\n",
       "         'pulsed': 1,\n",
       "         'activated': 5,\n",
       "         'ignorance': 8,\n",
       "         'winning': 7,\n",
       "         'over': 641,\n",
       "         'according': 63,\n",
       "         'deep': 28,\n",
       "         'gravel': 6,\n",
       "         'packed': 2,\n",
       "         'fluffy': 3,\n",
       "         'locked': 7,\n",
       "         'wheel/tire': 4,\n",
       "         'slow': 47,\n",
       "         'mound': 1,\n",
       "         'pile': 6,\n",
       "         'rapidly': 4,\n",
       "         'shedding': 2,\n",
       "         'mound-ing': 1,\n",
       "         'effect': 18,\n",
       "         'cancelled': 2,\n",
       "         'action': 7,\n",
       "         'making': 118,\n",
       "         'stopping': 11,\n",
       "         'difficult': 58,\n",
       "         'confusion': 2,\n",
       "         'frustration': 7,\n",
       "         'inexpensive': 14,\n",
       "         'american': 79,\n",
       "         'mfgrs': 16,\n",
       "         'worst': 20,\n",
       "         'offenders': 2,\n",
       "         'hell': 49,\n",
       "         \"'ll\": 358,\n",
       "         'jump': 23,\n",
       "         'power': 311,\n",
       "         'windows': 20,\n",
       "         'el': 45,\n",
       "         'cheapo': 26,\n",
       "         'delay': 15,\n",
       "         'incorporating': 3,\n",
       "         'assume': 153,\n",
       "         'cost': 342,\n",
       "         'hardware': 11,\n",
       "         'sunroofs': 7,\n",
       "         'door': 70,\n",
       "         'locks': 4,\n",
       "         'example': 114,\n",
       "         'confident': 6,\n",
       "         'perceived': 18,\n",
       "         'demand': 31,\n",
       "         'costs': 110,\n",
       "         'customers': 127,\n",
       "         \"'\": 208,\n",
       "         'perception': 47,\n",
       "         'value': 182,\n",
       "         'and/or': 51,\n",
       "         'convenience': 11,\n",
       "         'almost': 258,\n",
       "         'essential': 8,\n",
       "         'though': 324,\n",
       "         'factory': 79,\n",
       "         'outrageously': 2,\n",
       "         'priced': 67,\n",
       "         'leave': 38,\n",
       "         'home': 91,\n",
       "         \"c'mon\": 6,\n",
       "         'mmi': 13,\n",
       "         '$': 1799,\n",
       "         '3,500': 7,\n",
       "         'bluetooth': 41,\n",
       "         'several': 117,\n",
       "         'integrated': 13,\n",
       "         'provide': 50,\n",
       "         'super': 57,\n",
       "         'high': 269,\n",
       "         'gross': 5,\n",
       "         'margin': 18,\n",
       "         'knowing': 36,\n",
       "         'majority': 54,\n",
       "         'dealer': 617,\n",
       "         'sells': 29,\n",
       "         'overwhelmingly': 5,\n",
       "         'q5s': 2,\n",
       "         'a4s': 10,\n",
       "         'things': 280,\n",
       "         'were': 723,\n",
       "         '500': 57,\n",
       "         'sexy': 3,\n",
       "         'enough': 233,\n",
       "         \"'re\": 315,\n",
       "         'moving': 57,\n",
       "         'era': 15,\n",
       "         'dave': 13,\n",
       "         'bowman': 8,\n",
       "         'hello': 6,\n",
       "         'hal': 16,\n",
       "         'affirmative': 1,\n",
       "         'open': 50,\n",
       "         'pod': 2,\n",
       "         'bay': 8,\n",
       "         'doors': 41,\n",
       "         'sorry': 48,\n",
       "         'afraid': 13,\n",
       "         'problem': 162,\n",
       "         'talking': 84,\n",
       "         'mission': 8,\n",
       "         'important': 64,\n",
       "         'allow': 60,\n",
       "         'jeopardize': 1,\n",
       "         'frank': 2,\n",
       "         'planning': 22,\n",
       "         'disconnect': 2,\n",
       "         'happen': 71,\n",
       "         'feigning': 1,\n",
       "         'idea': 87,\n",
       "         'although': 117,\n",
       "         'thorough': 2,\n",
       "         'precautions': 1,\n",
       "         'hearing': 12,\n",
       "         'lips': 2,\n",
       "         'alright': 5,\n",
       "         'through': 155,\n",
       "         'emergency': 3,\n",
       "         'airlock': 1,\n",
       "         'helmet': 4,\n",
       "         'wo': 114,\n",
       "         'argue': 53,\n",
       "         'anymore': 47,\n",
       "         'conversation': 16,\n",
       "         'serve': 7,\n",
       "         'purpose': 21,\n",
       "         'goodbye': 2,\n",
       "         'priority': 7,\n",
       "         'stereo': 32,\n",
       "         'whereas': 23,\n",
       "         'airbags': 12,\n",
       "         'considered': 60,\n",
       "         'fluff': 3,\n",
       "         'examples': 26,\n",
       "         'drivers': 72,\n",
       "         'choosing': 2,\n",
       "         'entertainment': 9,\n",
       "         'options': 193,\n",
       "         'done': 167,\n",
       "         'alternative': 23,\n",
       "         'free': 128,\n",
       "         'upgrade': 98,\n",
       "         'simple': 46,\n",
       "         'total': 87,\n",
       "         'price': 594,\n",
       "         'changed': 86,\n",
       "         'today': 284,\n",
       "         'expected': 39,\n",
       "         'words': 49,\n",
       "         'stability': 12,\n",
       "         'i.e': 21,\n",
       "         'included': 60,\n",
       "         'last': 332,\n",
       "         'leather': 239,\n",
       "         'peoples': 3,\n",
       "         'preferences': 6,\n",
       "         'watch': 49,\n",
       "         'evolution': 7,\n",
       "         'toyota': 89,\n",
       "         'six': 35,\n",
       "         'sense': 110,\n",
       "         'timing': 25,\n",
       "         'inclusion': 16,\n",
       "         'vs.': 56,\n",
       "         'demands': 4,\n",
       "         'offers': 61,\n",
       "         'means': 92,\n",
       "         'requires': 18,\n",
       "         'expensive': 187,\n",
       "         'either': 212,\n",
       "         'willing': 69,\n",
       "         'pay': 197,\n",
       "         'detroit': 10,\n",
       "         'gm': 154,\n",
       "         'opposite': 19,\n",
       "         \"'d\": 461,\n",
       "         'put': 242,\n",
       "         'nobody': 32,\n",
       "         'saw': 125,\n",
       "         'necessary': 22,\n",
       "         'e.g': 13,\n",
       "         'cavalier': 2,\n",
       "         'later': 97,\n",
       "         'remove': 14,\n",
       "         'limb': 3,\n",
       "         'possibly': 35,\n",
       "         'anything': 202,\n",
       "         'tendency': 6,\n",
       "         'u.s.': 30,\n",
       "         'worse': 55,\n",
       "         'lawyers': 6,\n",
       "         'sue': 8,\n",
       "         'hat': 5,\n",
       "         'soon': 82,\n",
       "         'manufactured': 2,\n",
       "         'supposed': 34,\n",
       "         'prevent': 12,\n",
       "         'x': 60,\n",
       "         'next': 306,\n",
       "         'happens': 46,\n",
       "         'operator': 2,\n",
       "         'vehicle': 235,\n",
       "         'certifiable': 1,\n",
       "         'moron': 5,\n",
       "         'someone': 147,\n",
       "         'somewhere': 60,\n",
       "         'pockets': 5,\n",
       "         'ladder': 22,\n",
       "         '*': 68,\n",
       "         'various': 21,\n",
       "         'labels': 1,\n",
       "         'life': 112,\n",
       "         'grand': 100,\n",
       "         'happy': 88,\n",
       "         'legal': 16,\n",
       "         'system': 204,\n",
       "         'staes': 1,\n",
       "         'tends': 5,\n",
       "         'coming': 114,\n",
       "         'traction': 15,\n",
       "         'europe': 70,\n",
       "         'companies': 67,\n",
       "         'lot': 433,\n",
       "         'end': 229,\n",
       "         'side': 138,\n",
       "         'air': 37,\n",
       "         'bag': 7,\n",
       "         'way': 526,\n",
       "         'anybody': 17,\n",
       "         'else': 120,\n",
       "         'already': 130,\n",
       "         'ams': 4,\n",
       "         'americans': 37,\n",
       "         'four': 58,\n",
       "         'unlike': 28,\n",
       "         'eight': 13,\n",
       "         'nine': 9,\n",
       "         'ten': 31,\n",
       "         'manufactures': 16,\n",
       "         'takes': 57,\n",
       "         'develop': 5,\n",
       "         'suppliers': 4,\n",
       "         'parts': 89,\n",
       "         'factories': 3,\n",
       "         'tooled': 1,\n",
       "         'built': 101,\n",
       "         'figure': 83,\n",
       "         'effective': 12,\n",
       "         '+': 32,\n",
       "         'speeds': 53,\n",
       "         'mainstream': 31,\n",
       "         '5': 288,\n",
       "         'most': 524,\n",
       "         'unfair': 4,\n",
       "         'hand': 99,\n",
       "         'cadillac': 378,\n",
       "         'lincoln': 77,\n",
       "         'within': 104,\n",
       "         'two': 326,\n",
       "         'appearing': 3,\n",
       "         'happening': 16,\n",
       "         'respect': 39,\n",
       "         'correct': 59,\n",
       "         'engineers': 31,\n",
       "         'mid': 57,\n",
       "         \"'80s\": 9,\n",
       "         'real-world': 3,\n",
       "         'testing': 29,\n",
       "         'performed': 12,\n",
       "         'rolling': 11,\n",
       "         'u.s.-': 1,\n",
       "         '1995': 19,\n",
       "         'research': 29,\n",
       "         'decided': 65,\n",
       "         'wanted': 173,\n",
       "         'child': 10,\n",
       "         'seat': 161,\n",
       "         ...})"
      ]
     },
     "execution_count": 5,
     "metadata": {},
     "output_type": "execute_result"
    }
   ],
   "source": [
    "# tokenizing words from latest 5000 comments for ziffs law\n",
    "!pip install nltk\n",
    "import nltk\n",
    "nltk.download('punkt')\n",
    "from nltk import word_tokenize, Counter\n",
    "text_token = word_tokenize(text)\n",
    "text_token_counter = Counter(text_token)\n",
    "text_token_counter"
   ]
  },
  {
   "cell_type": "code",
   "execution_count": 6,
   "metadata": {
    "id": "bCucvYK9W-Sq"
   },
   "outputs": [],
   "source": [
    "# creating dataframe for frequency table\n",
    "text_token_df = pd.DataFrame(data=None, columns=['words', 'frequency'])\n",
    "text_token_df['words'] = text_token_counter.keys()\n",
    "text_token_df['frequency'] = text_token_counter.values()"
   ]
  },
  {
   "cell_type": "code",
   "execution_count": 7,
   "metadata": {
    "colab": {
     "base_uri": "https://localhost:8080/",
     "height": 204
    },
    "id": "juzlEpaEW-Sq",
    "outputId": "d08d712b-04f9-4811-9dd4-99b67343797d"
   },
   "outputs": [
    {
     "data": {
      "text/html": [
       "<div>\n",
       "<style scoped>\n",
       "    .dataframe tbody tr th:only-of-type {\n",
       "        vertical-align: middle;\n",
       "    }\n",
       "\n",
       "    .dataframe tbody tr th {\n",
       "        vertical-align: top;\n",
       "    }\n",
       "\n",
       "    .dataframe thead th {\n",
       "        text-align: right;\n",
       "    }\n",
       "</style>\n",
       "<table border=\"1\" class=\"dataframe\">\n",
       "  <thead>\n",
       "    <tr style=\"text-align: right;\">\n",
       "      <th></th>\n",
       "      <th>words</th>\n",
       "      <th>frequency</th>\n",
       "      <th>rank</th>\n",
       "    </tr>\n",
       "  </thead>\n",
       "  <tbody>\n",
       "    <tr>\n",
       "      <th>0</th>\n",
       "      <td>the</td>\n",
       "      <td>24385</td>\n",
       "      <td>1</td>\n",
       "    </tr>\n",
       "    <tr>\n",
       "      <th>1</th>\n",
       "      <td>,</td>\n",
       "      <td>22281</td>\n",
       "      <td>2</td>\n",
       "    </tr>\n",
       "    <tr>\n",
       "      <th>2</th>\n",
       "      <td>.</td>\n",
       "      <td>21189</td>\n",
       "      <td>3</td>\n",
       "    </tr>\n",
       "    <tr>\n",
       "      <th>3</th>\n",
       "      <td>a</td>\n",
       "      <td>11626</td>\n",
       "      <td>4</td>\n",
       "    </tr>\n",
       "    <tr>\n",
       "      <th>4</th>\n",
       "      <td>i</td>\n",
       "      <td>11120</td>\n",
       "      <td>5</td>\n",
       "    </tr>\n",
       "  </tbody>\n",
       "</table>\n",
       "</div>"
      ],
      "text/plain": [
       "  words  frequency  rank\n",
       "0   the      24385     1\n",
       "1     ,      22281     2\n",
       "2     .      21189     3\n",
       "3     a      11626     4\n",
       "4     i      11120     5"
      ]
     },
     "execution_count": 7,
     "metadata": {},
     "output_type": "execute_result"
    }
   ],
   "source": [
    "# sorting the text token df and getting ranks\n",
    "text_token_df.sort_values('frequency', inplace=True, ascending=False)\n",
    "text_token_df.reset_index(drop=True, inplace=True)\n",
    "text_token_df['rank'] = text_token_df['frequency'].rank(method='min', ascending=False).astype(int)\n",
    "text_token_df.head()"
   ]
  },
  {
   "cell_type": "code",
   "execution_count": 8,
   "metadata": {
    "colab": {
     "base_uri": "https://localhost:8080/",
     "height": 265
    },
    "id": "Q4KH2oR7W-Sq",
    "outputId": "7a8f19f4-a021-4a2c-bfe5-8b7ad810d308"
   },
   "outputs": [
    {
     "data": {
      "image/png": "[encoded data removed]",
      "text/plain": [
       "<Figure size 432x288 with 1 Axes>"
      ]
     },
     "metadata": {
      "needs_background": "light"
     },
     "output_type": "display_data"
    }
   ],
   "source": [
    "# Add frequency and rank plot for complete corpus\n",
    "\n",
    "import collections\n",
    "import scipy.stats as ss\n",
    "import math\n",
    "\n",
    "def generateZipfsPlot(comments, n = 100):\n",
    "   \n",
    "    # Default is top 100 words\n",
    "   \n",
    "    tokens = word_tokenize(comments)\n",
    "   \n",
    "    word_count = collections.Counter(tokens)\n",
    "   \n",
    "    if n is None:\n",
    "        word_count_top_n = dict(sorted(word_count.items(), key=lambda item: item[1], reverse=True))\n",
    "    else:\n",
    "        word_count_top_n = dict(sorted(word_count.items(), key=lambda item: item[1], reverse=True)[:n])\n",
    "    word_rank_top_n = ss.rankdata([word_count_top_n[w] for w in word_count_top_n], method = 'min')\n",
    "   \n",
    "    l = len(word_count_top_n)\n",
    "    rev = [l-r+1 for r in word_rank_top_n]\n",
    "   \n",
    "    plt.plot([math.log(c) for c in rev], [math.log(word_count_top_n[w]) for w in word_count_top_n], 'ro')\n",
    "#     plt.plot([math.log(word_count_top_n[w]) for w in word_count_top_n],[math.log(c) for c in rev], 'ro')\n",
    "\n",
    "generateZipfsPlot(text)"
   ]
  },
  {
   "cell_type": "code",
   "execution_count": 9,
   "metadata": {
    "colab": {
     "base_uri": "https://localhost:8080/"
    },
    "id": "P8UeIVB2W-Sq",
    "outputId": "4d0dd12e-cd99-46ce-a91d-e63a0202d08e"
   },
   "outputs": [
    {
     "name": "stdout",
     "output_type": "stream",
     "text": [
      "674 100\n"
     ]
    }
   ],
   "source": [
    "# tranforming frequenct and rank to x & y variables\n",
    "last_freq = text_token_df.loc[:rank_limit, 'frequency'].min()\n",
    "n = rank_limit\n",
    "print(last_freq, n)\n",
    "\n",
    "y = np.log(text_token_df.loc[:rank_limit, 'rank'])\n",
    "x = np.log(text_token_df.loc[:rank_limit, 'frequency']/n/last_freq)\n",
    "df = pd.DataFrame(data={'x': x, 'y':y})"
   ]
  },
  {
   "cell_type": "code",
   "execution_count": 10,
   "metadata": {
    "colab": {
     "base_uri": "https://localhost:8080/"
    },
    "id": "4-bWtTZmW-Sr",
    "outputId": "5668adbf-b9cb-4d0e-b7b5-bcff89129973"
   },
   "outputs": [
    {
     "data": {
      "text/plain": [
       "(array([-1.0094641]), 0.9765816888954769)"
      ]
     },
     "execution_count": 10,
     "metadata": {},
     "output_type": "execute_result"
    }
   ],
   "source": [
    "# hypothesis testing using linear regression\n",
    "from sklearn.linear_model import LinearRegression\n",
    "from sklearn.metrics import r2_score\n",
    "lr_model = LinearRegression(fit_intercept=False)\n",
    "lr_model.fit(df[['x']], df['y'])\n",
    "lr_model.coef_, r2_score(df['y'], lr_model.predict(df[['x']]))\n"
   ]
  },
  {
   "cell_type": "code",
   "execution_count": 11,
   "metadata": {
    "colab": {
     "base_uri": "https://localhost:8080/",
     "height": 80
    },
    "id": "gUZ3iH8CW-Sr",
    "outputId": "4262476b-bc85-43e6-bcb5-f3890edc192d"
   },
   "outputs": [
    {
     "data": {
      "text/html": [
       "<div>\n",
       "<style scoped>\n",
       "    .dataframe tbody tr th:only-of-type {\n",
       "        vertical-align: middle;\n",
       "    }\n",
       "\n",
       "    .dataframe tbody tr th {\n",
       "        vertical-align: top;\n",
       "    }\n",
       "\n",
       "    .dataframe thead th {\n",
       "        text-align: right;\n",
       "    }\n",
       "</style>\n",
       "<table border=\"1\" class=\"dataframe\">\n",
       "  <thead>\n",
       "    <tr style=\"text-align: right;\">\n",
       "      <th></th>\n",
       "      <th>0</th>\n",
       "      <th>1</th>\n",
       "    </tr>\n",
       "  </thead>\n",
       "  <tbody>\n",
       "    <tr>\n",
       "      <th>frequency</th>\n",
       "      <td>-1.016996</td>\n",
       "      <td>-1.001933</td>\n",
       "    </tr>\n",
       "  </tbody>\n",
       "</table>\n",
       "</div>"
      ],
      "text/plain": [
       "                  0         1\n",
       "frequency -1.016996 -1.001933"
      ]
     },
     "execution_count": 11,
     "metadata": {},
     "output_type": "execute_result"
    }
   ],
   "source": [
    "# hypothesis testing using linear regression\n",
    "import statsmodels.api as sm\n",
    "model = sm.OLS(y, x)\n",
    "results = model.fit()\n",
    "results.conf_int()"
   ]
  },
  {
   "cell_type": "code",
   "execution_count": 12,
   "metadata": {
    "colab": {
     "base_uri": "https://localhost:8080/",
     "height": 313
    },
    "id": "vWPy04EdW-Sr",
    "outputId": "b95530b2-b7f2-472f-c8f9-746e048b6188"
   },
   "outputs": [
    {
     "data": {
      "text/plain": [
       "Text(0.5, 1.0, 'Ziff\"s law')"
      ]
     },
     "execution_count": 12,
     "metadata": {},
     "output_type": "execute_result"
    },
    {
     "data": {
      "image/png": "[encoded data removed]",
      "text/plain": [
       "<Figure size 432x288 with 1 Axes>"
      ]
     },
     "metadata": {
      "needs_background": "light"
     },
     "output_type": "display_data"
    }
   ],
   "source": [
    "# plotting as per ziffs law\n",
    "from matplotlib import pyplot as plt\n",
    "plt.plot(y, x)\n",
    "plt.plot(lr_model.predict(df[['x']]), x)\n",
    "plt.xlabel('Rank')\n",
    "plt.ylabel('Frequency (# of occurences)')\n",
    "plt.title('Ziff\"s law')"
   ]
  },
  {
   "cell_type": "markdown",
   "metadata": {
    "id": "ICqXl5onW-Sr"
   },
   "source": [
    "## Task B - Find top 10 Brands"
   ]
  },
  {
   "cell_type": "markdown",
   "metadata": {
    "id": "yLJoMIPWW-Sr"
   },
   "source": [
    "### Cleaning brand file"
   ]
  },
  {
   "cell_type": "code",
   "execution_count": 13,
   "metadata": {
    "colab": {
     "base_uri": "https://localhost:8080/"
    },
    "id": "R4rCB9upW-Ss",
    "outputId": "c2a9cbda-b587-4aa0-a584-10a9b2d5b41e"
   },
   "outputs": [
    {
     "name": "stdout",
     "output_type": "stream",
     "text": [
      "   Brand    Model\n",
      "0  acura  integra\n",
      "1  acura   legend\n",
      "2  acura    vigor\n",
      "3  acura      rlx\n",
      "4  acura      ilx\n",
      "['acura' 'audi' 'bmw' 'buick' 'cadillac' 'car' 'chevrolet' 'chrysler'\n",
      " 'dodge' 'ford' 'honda' 'hyndai kia' 'hyundai' 'hyundai,' 'hyundai.'\n",
      " 'infiniti' 'kia' 'kia,' 'kia.' 'lincoln' 'mazda' 'mercedes'\n",
      " 'mercedes benz' 'mercedes-benz' 'mercury' 'mitsubishi' 'nissan' 'nissan.'\n",
      " 'pontiac' 'problem' 'saturn' 'seat' 'sedan' 'subaru' 'suzuki' 'toyata'\n",
      " 'toyota' 'volkswagen' 'volkwagen' 'volvo']\n",
      "['acura' 'audi' 'bmw' 'buick' 'cadillac' 'chevrolet' 'chrysler' 'dodge'\n",
      " 'ford' 'honda' 'hyundai' 'infiniti' 'kia' 'lincoln' 'mazda' 'mercedes'\n",
      " 'mercury' 'mitsubishi' 'nissan' 'pontiac' 'saturn' 'subaru' 'suzuki'\n",
      " 'toyota' 'volkswagen' 'volvo']\n"
     ]
    }
   ],
   "source": [
    "# reading brand file\n",
    "brand = pd.read_csv('car models and brands.csv')\n",
    "print(brand.head())\n",
    "print(brand['Brand'].unique())\n",
    "\n",
    "# removing non brand words\n",
    "non_brand_words = ['car', 'problem', 'seat', 'sedan']\n",
    "mask1 = ~brand['Brand'].isin(non_brand_words)\n",
    "brand = brand[mask1]\n",
    "\n",
    "# correcting duplicates - hyundai\n",
    "mask2 = brand['Brand'].isin(['hyndai kia', 'hyundai', 'hyundai,', 'hyundai.'])\n",
    "brand.loc[mask2, 'Brand'] = 'hyundai'\n",
    "\n",
    "# correcting duplicates - kia\n",
    "mask3 = brand['Brand'].isin(['kia', 'kia,', 'kia.'])\n",
    "brand.loc[mask3, 'Brand'] = 'kia'\n",
    "\n",
    "# correcting duplicates - mercedes\n",
    "mask4 = brand['Brand'].isin(['mercedes', 'mercedes benz', 'mercedes-benz'])\n",
    "brand.loc[mask4, 'Brand'] = 'mercedes'\n",
    "\n",
    "# correcting duplicates - nissan\n",
    "mask5 = brand['Brand'].isin(['nissan', 'nissan.'])\n",
    "brand.loc[mask5, 'Brand'] = 'nissan'\n",
    "\n",
    "# correcting duplicates - toyota\n",
    "mask6 = brand['Brand'].isin(['toyata', 'toyota'])\n",
    "brand.loc[mask6, 'Brand'] = 'toyota'\n",
    "\n",
    "# correcting duplicates - volkswagen\n",
    "mask7 = brand['Brand'].isin(['volkswagen', 'volkwagen'])\n",
    "brand.loc[mask7, 'Brand'] = 'volkswagen'\n",
    "\n",
    "# dropping duplicates\n",
    "brand.drop_duplicates(inplace=True)\n",
    "\n",
    "# removing models with two brands\n",
    "model_brand_count = brand['Model'].value_counts()\n",
    "models_to_remove = model_brand_count[model_brand_count > 1].index\n",
    "brand = brand[~brand['Model'].isin(models_to_remove)]\n",
    "\n",
    "print(brand['Brand'].unique())"
   ]
  },
  {
   "cell_type": "markdown",
   "metadata": {
    "id": "2STcksh5W-Ss"
   },
   "source": [
    "### Top 10 brands"
   ]
  },
  {
   "cell_type": "code",
   "execution_count": 14,
   "metadata": {
    "colab": {
     "base_uri": "https://localhost:8080/",
     "height": 623
    },
    "id": "TbcHG1L2W-Ss",
    "outputId": "dea1ccf7-2f87-4f96-b309-6979740d061d",
    "scrolled": false
   },
   "outputs": [
    {
     "name": "stdout",
     "output_type": "stream",
     "text": [
      "         Brand  frequency\n",
      "1         audi       2132\n",
      "2          bmw       1965\n",
      "0        acura       1018\n",
      "9        honda        788\n",
      "15    mercedes        573\n",
      "24  volkswagen        474\n",
      "4     cadillac        406\n",
      "11    infiniti        370\n",
      "10     hyundai        336\n",
      "23      toyota        287\n"
     ]
    },
    {
     "name": "stderr",
     "output_type": "stream",
     "text": [
      "[nltk_data] Downloading package stopwords to\n",
      "[nltk_data]     C:\\Users\\gupta\\AppData\\Roaming\\nltk_data...\n",
      "[nltk_data]   Package stopwords is already up-to-date!\n"
     ]
    },
    {
     "data": {
      "text/plain": [
       "<BarContainer object of 10 artists>"
      ]
     },
     "execution_count": 14,
     "metadata": {},
     "output_type": "execute_result"
    },
    {
     "data": {
      "image/png": "[encoded data removed]",
      "text/plain": [
       "<Figure size 720x432 with 1 Axes>"
      ]
     },
     "metadata": {
      "needs_background": "light"
     },
     "output_type": "display_data"
    }
   ],
   "source": [
    "# getting stopword list from nltk\n",
    "from nltk.corpus import stopwords\n",
    "nltk.download('stopwords')\n",
    "stopwords_list = stopwords.words('english')\n",
    "\n",
    "# removing stop words from word lists\n",
    "mask1 = ~text_token_df['words'].isin(stopwords_list)\n",
    "token_cleaned_df = text_token_df[mask1]\n",
    "\n",
    "# removing punctuations\n",
    "import string\n",
    "mask2 = ~token_cleaned_df['words'].isin(list(string.punctuation))\n",
    "token_cleaned_df = token_cleaned_df[mask2]\n",
    "\n",
    "# getting brand frequency\n",
    "mask3 = token_cleaned_df['words'].isin(brand['Brand'])\n",
    "brand_freq = token_cleaned_df[mask3]\n",
    "brand_freq = brand_freq[['words', 'frequency']]\n",
    "brand_freq.columns = ['Brand', 'frequency']\n",
    "\n",
    "# getting brand frequency from model frequency\n",
    "car_freq = token_cleaned_df.merge(brand, right_on='Model', left_on='words')\n",
    "brand_model_freq = car_freq.groupby('Brand')['frequency'].sum().reset_index()\n",
    "\n",
    "# concating \n",
    "brand_freq_all = pd.concat([brand_freq, brand_model_freq], axis=0)\n",
    "brand_freq_all = brand_freq_all.groupby('Brand')['frequency'].sum().reset_index()\n",
    "brand_freq_all.sort_values(ascending=False, inplace=True, by='frequency')\n",
    "\n",
    "# top 10 brands\n",
    "top10_brands = brand_freq_all.head(10)\n",
    "print(top10_brands)\n",
    "\n",
    "plt.figure(figsize=(10, 6))\n",
    "plt.bar(top10_brands['Brand'], top10_brands['frequency'])"
   ]
  },
  {
   "cell_type": "markdown",
   "metadata": {
    "id": "snEBL-GcW-Ss"
   },
   "source": [
    "## Task C - Brand-Brand Lift"
   ]
  },
  {
   "cell_type": "markdown",
   "metadata": {
    "id": "fWr-VmjLW-Ss"
   },
   "source": [
    "Steps to get brand-brand lift\n",
    "1. create columns with brand names\n",
    "2. look for 'brand' name in comment from data df"
   ]
  },
  {
   "cell_type": "code",
   "execution_count": 15,
   "metadata": {
    "colab": {
     "base_uri": "https://localhost:8080/",
     "height": 418
    },
    "id": "rA4V_0ppW-Ss",
    "outputId": "3eb3460c-64b3-4803-e0da-f9824a1439fc"
   },
   "outputs": [
    {
     "data": {
      "text/html": [
       "<div>\n",
       "<style scoped>\n",
       "    .dataframe tbody tr th:only-of-type {\n",
       "        vertical-align: middle;\n",
       "    }\n",
       "\n",
       "    .dataframe tbody tr th {\n",
       "        vertical-align: top;\n",
       "    }\n",
       "\n",
       "    .dataframe thead th {\n",
       "        text-align: right;\n",
       "    }\n",
       "</style>\n",
       "<table border=\"1\" class=\"dataframe\">\n",
       "  <thead>\n",
       "    <tr style=\"text-align: right;\">\n",
       "      <th></th>\n",
       "      <th>words</th>\n",
       "      <th>frequency</th>\n",
       "      <th>rank</th>\n",
       "      <th>Brand</th>\n",
       "      <th>Model</th>\n",
       "    </tr>\n",
       "  </thead>\n",
       "  <tbody>\n",
       "    <tr>\n",
       "      <th>0</th>\n",
       "      <td>a3</td>\n",
       "      <td>327</td>\n",
       "      <td>201</td>\n",
       "      <td>audi</td>\n",
       "      <td>a3</td>\n",
       "    </tr>\n",
       "    <tr>\n",
       "      <th>1</th>\n",
       "      <td>a4</td>\n",
       "      <td>312</td>\n",
       "      <td>215</td>\n",
       "      <td>audi</td>\n",
       "      <td>a4</td>\n",
       "    </tr>\n",
       "    <tr>\n",
       "      <th>2</th>\n",
       "      <td>accord</td>\n",
       "      <td>249</td>\n",
       "      <td>254</td>\n",
       "      <td>honda</td>\n",
       "      <td>accord</td>\n",
       "    </tr>\n",
       "    <tr>\n",
       "      <th>3</th>\n",
       "      <td>vw</td>\n",
       "      <td>236</td>\n",
       "      <td>267</td>\n",
       "      <td>volkswagen</td>\n",
       "      <td>vw</td>\n",
       "    </tr>\n",
       "    <tr>\n",
       "      <th>4</th>\n",
       "      <td>mercedes</td>\n",
       "      <td>226</td>\n",
       "      <td>279</td>\n",
       "      <td>mercedes</td>\n",
       "      <td>mercedes</td>\n",
       "    </tr>\n",
       "    <tr>\n",
       "      <th>...</th>\n",
       "      <td>...</td>\n",
       "      <td>...</td>\n",
       "      <td>...</td>\n",
       "      <td>...</td>\n",
       "      <td>...</td>\n",
       "    </tr>\n",
       "    <tr>\n",
       "      <th>207</th>\n",
       "      <td>qx70</td>\n",
       "      <td>1</td>\n",
       "      <td>10995</td>\n",
       "      <td>infiniti</td>\n",
       "      <td>qx70</td>\n",
       "    </tr>\n",
       "    <tr>\n",
       "      <th>208</th>\n",
       "      <td>iq</td>\n",
       "      <td>1</td>\n",
       "      <td>10995</td>\n",
       "      <td>toyota</td>\n",
       "      <td>iq</td>\n",
       "    </tr>\n",
       "    <tr>\n",
       "      <th>209</th>\n",
       "      <td>pacifica</td>\n",
       "      <td>1</td>\n",
       "      <td>10995</td>\n",
       "      <td>chrysler</td>\n",
       "      <td>pacifica</td>\n",
       "    </tr>\n",
       "    <tr>\n",
       "      <th>210</th>\n",
       "      <td>sonatas</td>\n",
       "      <td>1</td>\n",
       "      <td>10995</td>\n",
       "      <td>hyundai</td>\n",
       "      <td>sonatas</td>\n",
       "    </tr>\n",
       "    <tr>\n",
       "      <th>211</th>\n",
       "      <td>malibus</td>\n",
       "      <td>1</td>\n",
       "      <td>10995</td>\n",
       "      <td>chevrolet</td>\n",
       "      <td>malibus</td>\n",
       "    </tr>\n",
       "  </tbody>\n",
       "</table>\n",
       "<p>212 rows × 5 columns</p>\n",
       "</div>"
      ],
      "text/plain": [
       "        words  frequency   rank       Brand     Model\n",
       "0          a3        327    201        audi        a3\n",
       "1          a4        312    215        audi        a4\n",
       "2      accord        249    254       honda    accord\n",
       "3          vw        236    267  volkswagen        vw\n",
       "4    mercedes        226    279    mercedes  mercedes\n",
       "..        ...        ...    ...         ...       ...\n",
       "207      qx70          1  10995    infiniti      qx70\n",
       "208        iq          1  10995      toyota        iq\n",
       "209  pacifica          1  10995    chrysler  pacifica\n",
       "210   sonatas          1  10995     hyundai   sonatas\n",
       "211   malibus          1  10995   chevrolet   malibus\n",
       "\n",
       "[212 rows x 5 columns]"
      ]
     },
     "execution_count": 15,
     "metadata": {},
     "output_type": "execute_result"
    }
   ],
   "source": [
    "car_freq"
   ]
  },
  {
   "cell_type": "code",
   "execution_count": 16,
   "metadata": {
    "colab": {
     "base_uri": "https://localhost:8080/"
    },
    "id": "UgDE5yiQW-Ss",
    "outputId": "c1406db5-0f88-4559-85a9-63fb6ae39e52"
   },
   "outputs": [
    {
     "name": "stdout",
     "output_type": "stream",
     "text": [
      "calculating occurence in comment for brand -  audi ['a3', 'a4', 'a6', 'quattro', 'q5', 'a8', 'a7', 'q3', 'a5', 'q7', 'audi']\n",
      "calculating occurence in comment for brand -  bmw ['bmws', '328i', '3-series', 'm3', '335i', 'xdrive', '5-series', 'm5', '4-series', 'm6', '535i', '3er', '335d', '528i', '5er', 'alpina', '128i', '640i', 'bmw']\n",
      "calculating occurence in comment for brand -  acura ['ilx', 'rdx', 'tsx', 'mdx', 'rlx', 'integra', 'rsx', 'acura']\n",
      "calculating occurence in comment for brand -  honda ['accord', 'city', 'civic', 'pilot', 'nsx', 'cr-v', 'accords', 'hondas', 'exl', 'prelude', 'ex-l', 'crv', 'stream', 'jazz', 'amaze', 'shuttle', 'odyssey', 'spike', 'insight', 'honda']\n",
      "calculating occurence in comment for brand -  mercedes ['mercedes', 'benz', 'c-class', 'e-class', 'mercedes-benz', 's-class', 'mercedes']\n",
      "calculating occurence in comment for brand -  volkswagen ['vw', 'golf', 'gti', 'passat', 'jetta', 'sportwagen', 'tiguan', 'beetle', 'vws', 'passats', 'rabbit', 'volkswagen']\n",
      "calculating occurence in comment for brand -  cadillac ['escalade', 'srx', 'xts', 'cadillac']\n",
      "calculating occurence in comment for brand -  infiniti ['q50', 'g37', 'q70', 'fx35', 'qx60', 'q60', '6mt', 'g25', 'qx70', 'infiniti']\n",
      "calculating occurence in comment for brand -  hyundai ['genesis', 'sonata', 'equus', 'pony', 'elantra', 'stellar', 'click', 'santa', 'accent', 'hyundais', 'azera', 'sonatas', 'hyundai']\n",
      "calculating occurence in comment for brand -  toyota ['camry', 'comfort', 'toyotas', 'avalon', 'corolla', 'camrys', 'venture', 'venza', 'echo', 'prius', 'yaris', 'hilux', 'highlander', 'picnic', 'porte', 'succeed', 'tacoma', 'iq', 'toyota']\n",
      "              date                                            comment  audi  \\\n",
      "0  2/26/2014 21:51  '02 rx300. gonna sit back, smell the oil and c...     0   \n",
      "1   2/27/2014 2:45  @markcincinnati - like i mentioned i got the 1...     1   \n",
      "2   2/27/2014 2:57  @stickguy i like the new feature to add pix- b...     0   \n",
      "3  2/27/2014 14:59  @sweendogy: i read an article about the \"indiv...     1   \n",
      "4  2/27/2014 15:08  my wife's mazda cx-7 does that as well ... wil...     0   \n",
      "\n",
      "   bmw  acura  honda  mercedes  volkswagen  cadillac  infiniti  hyundai  \\\n",
      "0    0      0      0         0           0         0         0        0   \n",
      "1    0      0      0         0           0         0         0        0   \n",
      "2    0      0      0         0           0         0         0        0   \n",
      "3    0      1      0         0           0         0         1        0   \n",
      "4    0      0      0         0           0         0         0        0   \n",
      "\n",
      "   toyota  \n",
      "0       0  \n",
      "1       0  \n",
      "2       0  \n",
      "3       1  \n",
      "4       0  \n"
     ]
    }
   ],
   "source": [
    "# creating brand wise columns to get occurence into a dataframe\n",
    "brand_occurence_df = pd.DataFrame(np.zeros((data.shape[0], 10)))\n",
    "brand_occurence_df.columns = top10_brands['Brand'].values\n",
    "\n",
    "# appending comment df with brand occurence df\n",
    "brand_occurence_df = pd.concat([data, brand_occurence_df], axis=1)\n",
    "\n",
    "# geting occurence columns populated\n",
    "for c in brand_occurence_df.iloc[:, 2:]:\n",
    "    model_list = list(car_freq.loc[car_freq['Brand'] == c, 'words']) + [c]\n",
    "    print('calculating occurence in comment for brand - ', c, model_list)\n",
    "    \n",
    "#     brand_occurence_df[c] = brand_occurence_df['comment'].str.contains(c)\n",
    "    brand_occurence_df[c] = brand_occurence_df['comment'].str.findall('( ' + '|'.join(model_list) + ' )').\\\n",
    "        astype(bool).astype(int)\n",
    "\n",
    "print(brand_occurence_df.head())"
   ]
  },
  {
   "cell_type": "code",
   "execution_count": 17,
   "metadata": {
    "colab": {
     "base_uri": "https://localhost:8080/",
     "height": 588
    },
    "id": "eArKXRdhW-Ss",
    "outputId": "7d1f5815-f4c8-4b42-cc55-5c384d014ff7"
   },
   "outputs": [
    {
     "name": "stdout",
     "output_type": "stream",
     "text": [
      "audi          861\n",
      "bmw           976\n",
      "acura         476\n",
      "honda         541\n",
      "mercedes      235\n",
      "volkswagen    261\n",
      "cadillac      180\n",
      "infiniti      200\n",
      "hyundai       192\n",
      "toyota        314\n",
      "dtype: int64\n"
     ]
    },
    {
     "data": {
      "text/plain": [
       "<matplotlib.legend.Legend at 0x137add480d0>"
      ]
     },
     "execution_count": 17,
     "metadata": {},
     "output_type": "execute_result"
    },
    {
     "data": {
      "image/png": "[encoded data removed]",
      "text/plain": [
       "<Figure size 720x432 with 1 Axes>"
      ]
     },
     "metadata": {
      "needs_background": "light"
     },
     "output_type": "display_data"
    }
   ],
   "source": [
    "# CHECK\n",
    "# testing the total occurence by brand in comments vs total frequency in complete text \n",
    "comment_mentions = brand_occurence_df.iloc[:, 2:].sum()\n",
    "print(comment_mentions)\n",
    "\n",
    "plt.figure(figsize=(10, 6))\n",
    "plt.bar(top10_brands['Brand'], top10_brands['frequency'], label='frequency')\n",
    "plt.bar(comment_mentions.index, comment_mentions, label='occurences')\n",
    "plt.legend()"
   ]
  },
  {
   "cell_type": "code",
   "execution_count": 18,
   "metadata": {
    "colab": {
     "base_uri": "https://localhost:8080/"
    },
    "id": "NAJgSNwSW-St",
    "outputId": "84717f2c-a102-42cf-851c-0bf1f2da2b47"
   },
   "outputs": [
    {
     "name": "stdout",
     "output_type": "stream",
     "text": [
      "Requirement already satisfied: mlxtend in c:\\users\\gupta\\anaconda3\\lib\\site-packages (0.19.0)\n",
      "Requirement already satisfied: scipy>=1.2.1 in c:\\users\\gupta\\anaconda3\\lib\\site-packages (from mlxtend) (1.6.2)\n",
      "Requirement already satisfied: matplotlib>=3.0.0 in c:\\users\\gupta\\anaconda3\\lib\\site-packages (from mlxtend) (3.3.4)\n",
      "Requirement already satisfied: setuptools in c:\\users\\gupta\\anaconda3\\lib\\site-packages (from mlxtend) (52.0.0.post20210125)\n",
      "Requirement already satisfied: pandas>=0.24.2 in c:\\users\\gupta\\anaconda3\\lib\\site-packages (from mlxtend) (1.2.4)\n",
      "Requirement already satisfied: numpy>=1.16.2 in c:\\users\\gupta\\anaconda3\\lib\\site-packages (from mlxtend) (1.20.1)\n",
      "Requirement already satisfied: joblib>=0.13.2 in c:\\users\\gupta\\anaconda3\\lib\\site-packages (from mlxtend) (1.0.1)\n",
      "Requirement already satisfied: scikit-learn>=0.20.3 in c:\\users\\gupta\\anaconda3\\lib\\site-packages (from mlxtend) (0.24.1)\n",
      "Requirement already satisfied: kiwisolver>=1.0.1 in c:\\users\\gupta\\anaconda3\\lib\\site-packages (from matplotlib>=3.0.0->mlxtend) (1.3.1)\n",
      "Requirement already satisfied: pillow>=6.2.0 in c:\\users\\gupta\\anaconda3\\lib\\site-packages (from matplotlib>=3.0.0->mlxtend) (8.2.0)\n",
      "Requirement already satisfied: cycler>=0.10 in c:\\users\\gupta\\anaconda3\\lib\\site-packages (from matplotlib>=3.0.0->mlxtend) (0.10.0)\n",
      "Requirement already satisfied: python-dateutil>=2.1 in c:\\users\\gupta\\anaconda3\\lib\\site-packages (from matplotlib>=3.0.0->mlxtend) (2.8.1)\n",
      "Requirement already satisfied: pyparsing!=2.0.4,!=2.1.2,!=2.1.6,>=2.0.3 in c:\\users\\gupta\\anaconda3\\lib\\site-packages (from matplotlib>=3.0.0->mlxtend) (2.4.7)\n",
      "Requirement already satisfied: six in c:\\users\\gupta\\anaconda3\\lib\\site-packages (from cycler>=0.10->matplotlib>=3.0.0->mlxtend) (1.15.0)\n",
      "Requirement already satisfied: pytz>=2017.3 in c:\\users\\gupta\\anaconda3\\lib\\site-packages (from pandas>=0.24.2->mlxtend) (2021.1)\n",
      "Requirement already satisfied: threadpoolctl>=2.0.0 in c:\\users\\gupta\\anaconda3\\lib\\site-packages (from scikit-learn>=0.20.3->mlxtend) (2.1.0)\n"
     ]
    }
   ],
   "source": [
    "# getting required packages for lift calc\n",
    "!pip install mlxtend\n",
    "from mlxtend.frequent_patterns import apriori\n",
    "from mlxtend.frequent_patterns import association_rules"
   ]
  },
  {
   "cell_type": "code",
   "execution_count": 19,
   "metadata": {
    "colab": {
     "base_uri": "https://localhost:8080/",
     "height": 631
    },
    "id": "OfKKoW8cW-St",
    "outputId": "83087d3c-e8de-4e55-c84f-e17617e1f076"
   },
   "outputs": [
    {
     "name": "stderr",
     "output_type": "stream",
     "text": [
      "<ipython-input-19-a3e753b55a61>:11: SettingWithCopyWarning: \n",
      "A value is trying to be set on a copy of a slice from a DataFrame.\n",
      "Try using .loc[row_indexer,col_indexer] = value instead\n",
      "\n",
      "See the caveats in the documentation: https://pandas.pydata.org/pandas-docs/stable/user_guide/indexing.html#returning-a-view-versus-a-copy\n",
      "  rules_one_brand['antecedents'] = rules_one_brand['antecedents'].map(lambda row: list(row)[0])\n",
      "<ipython-input-19-a3e753b55a61>:12: SettingWithCopyWarning: \n",
      "A value is trying to be set on a copy of a slice from a DataFrame.\n",
      "Try using .loc[row_indexer,col_indexer] = value instead\n",
      "\n",
      "See the caveats in the documentation: https://pandas.pydata.org/pandas-docs/stable/user_guide/indexing.html#returning-a-view-versus-a-copy\n",
      "  rules_one_brand['consequents'] = rules_one_brand['consequents'].map(lambda row: list(row)[0])\n"
     ]
    },
    {
     "data": {
      "text/html": [
       "<div>\n",
       "<style scoped>\n",
       "    .dataframe tbody tr th:only-of-type {\n",
       "        vertical-align: middle;\n",
       "    }\n",
       "\n",
       "    .dataframe tbody tr th {\n",
       "        vertical-align: top;\n",
       "    }\n",
       "\n",
       "    .dataframe thead th {\n",
       "        text-align: right;\n",
       "    }\n",
       "</style>\n",
       "<table border=\"1\" class=\"dataframe\">\n",
       "  <thead>\n",
       "    <tr style=\"text-align: right;\">\n",
       "      <th></th>\n",
       "      <th>antecedents</th>\n",
       "      <th>consequents</th>\n",
       "      <th>antecedent support</th>\n",
       "      <th>consequent support</th>\n",
       "      <th>support</th>\n",
       "      <th>confidence</th>\n",
       "      <th>lift</th>\n",
       "      <th>leverage</th>\n",
       "      <th>conviction</th>\n",
       "    </tr>\n",
       "  </thead>\n",
       "  <tbody>\n",
       "    <tr>\n",
       "      <th>0</th>\n",
       "      <td>bmw</td>\n",
       "      <td>audi</td>\n",
       "      <td>0.1952</td>\n",
       "      <td>0.1722</td>\n",
       "      <td>0.0604</td>\n",
       "      <td>0.309426</td>\n",
       "      <td>1.796900</td>\n",
       "      <td>0.026787</td>\n",
       "      <td>1.198713</td>\n",
       "    </tr>\n",
       "    <tr>\n",
       "      <th>1</th>\n",
       "      <td>audi</td>\n",
       "      <td>bmw</td>\n",
       "      <td>0.1722</td>\n",
       "      <td>0.1952</td>\n",
       "      <td>0.0604</td>\n",
       "      <td>0.350755</td>\n",
       "      <td>1.796900</td>\n",
       "      <td>0.026787</td>\n",
       "      <td>1.239594</td>\n",
       "    </tr>\n",
       "    <tr>\n",
       "      <th>2</th>\n",
       "      <td>acura</td>\n",
       "      <td>audi</td>\n",
       "      <td>0.0952</td>\n",
       "      <td>0.1722</td>\n",
       "      <td>0.0356</td>\n",
       "      <td>0.373950</td>\n",
       "      <td>2.171600</td>\n",
       "      <td>0.019207</td>\n",
       "      <td>1.322258</td>\n",
       "    </tr>\n",
       "    <tr>\n",
       "      <th>3</th>\n",
       "      <td>audi</td>\n",
       "      <td>acura</td>\n",
       "      <td>0.1722</td>\n",
       "      <td>0.0952</td>\n",
       "      <td>0.0356</td>\n",
       "      <td>0.206736</td>\n",
       "      <td>2.171600</td>\n",
       "      <td>0.019207</td>\n",
       "      <td>1.140604</td>\n",
       "    </tr>\n",
       "    <tr>\n",
       "      <th>4</th>\n",
       "      <td>honda</td>\n",
       "      <td>audi</td>\n",
       "      <td>0.1082</td>\n",
       "      <td>0.1722</td>\n",
       "      <td>0.0354</td>\n",
       "      <td>0.327172</td>\n",
       "      <td>1.899953</td>\n",
       "      <td>0.016768</td>\n",
       "      <td>1.230329</td>\n",
       "    </tr>\n",
       "    <tr>\n",
       "      <th>...</th>\n",
       "      <td>...</td>\n",
       "      <td>...</td>\n",
       "      <td>...</td>\n",
       "      <td>...</td>\n",
       "      <td>...</td>\n",
       "      <td>...</td>\n",
       "      <td>...</td>\n",
       "      <td>...</td>\n",
       "      <td>...</td>\n",
       "    </tr>\n",
       "    <tr>\n",
       "      <th>85</th>\n",
       "      <td>infiniti</td>\n",
       "      <td>hyundai</td>\n",
       "      <td>0.0400</td>\n",
       "      <td>0.0384</td>\n",
       "      <td>0.0032</td>\n",
       "      <td>0.080000</td>\n",
       "      <td>2.083333</td>\n",
       "      <td>0.001664</td>\n",
       "      <td>1.045217</td>\n",
       "    </tr>\n",
       "    <tr>\n",
       "      <th>86</th>\n",
       "      <td>toyota</td>\n",
       "      <td>infiniti</td>\n",
       "      <td>0.0628</td>\n",
       "      <td>0.0400</td>\n",
       "      <td>0.0054</td>\n",
       "      <td>0.085987</td>\n",
       "      <td>2.149682</td>\n",
       "      <td>0.002888</td>\n",
       "      <td>1.050314</td>\n",
       "    </tr>\n",
       "    <tr>\n",
       "      <th>87</th>\n",
       "      <td>infiniti</td>\n",
       "      <td>toyota</td>\n",
       "      <td>0.0400</td>\n",
       "      <td>0.0628</td>\n",
       "      <td>0.0054</td>\n",
       "      <td>0.135000</td>\n",
       "      <td>2.149682</td>\n",
       "      <td>0.002888</td>\n",
       "      <td>1.083468</td>\n",
       "    </tr>\n",
       "    <tr>\n",
       "      <th>88</th>\n",
       "      <td>hyundai</td>\n",
       "      <td>toyota</td>\n",
       "      <td>0.0384</td>\n",
       "      <td>0.0628</td>\n",
       "      <td>0.0066</td>\n",
       "      <td>0.171875</td>\n",
       "      <td>2.736863</td>\n",
       "      <td>0.004188</td>\n",
       "      <td>1.131713</td>\n",
       "    </tr>\n",
       "    <tr>\n",
       "      <th>89</th>\n",
       "      <td>toyota</td>\n",
       "      <td>hyundai</td>\n",
       "      <td>0.0628</td>\n",
       "      <td>0.0384</td>\n",
       "      <td>0.0066</td>\n",
       "      <td>0.105096</td>\n",
       "      <td>2.736863</td>\n",
       "      <td>0.004188</td>\n",
       "      <td>1.074528</td>\n",
       "    </tr>\n",
       "  </tbody>\n",
       "</table>\n",
       "<p>90 rows × 9 columns</p>\n",
       "</div>"
      ],
      "text/plain": [
       "   antecedents consequents  antecedent support  consequent support  support  \\\n",
       "0          bmw        audi              0.1952              0.1722   0.0604   \n",
       "1         audi         bmw              0.1722              0.1952   0.0604   \n",
       "2        acura        audi              0.0952              0.1722   0.0356   \n",
       "3         audi       acura              0.1722              0.0952   0.0356   \n",
       "4        honda        audi              0.1082              0.1722   0.0354   \n",
       "..         ...         ...                 ...                 ...      ...   \n",
       "85    infiniti     hyundai              0.0400              0.0384   0.0032   \n",
       "86      toyota    infiniti              0.0628              0.0400   0.0054   \n",
       "87    infiniti      toyota              0.0400              0.0628   0.0054   \n",
       "88     hyundai      toyota              0.0384              0.0628   0.0066   \n",
       "89      toyota     hyundai              0.0628              0.0384   0.0066   \n",
       "\n",
       "    confidence      lift  leverage  conviction  \n",
       "0     0.309426  1.796900  0.026787    1.198713  \n",
       "1     0.350755  1.796900  0.026787    1.239594  \n",
       "2     0.373950  2.171600  0.019207    1.322258  \n",
       "3     0.206736  2.171600  0.019207    1.140604  \n",
       "4     0.327172  1.899953  0.016768    1.230329  \n",
       "..         ...       ...       ...         ...  \n",
       "85    0.080000  2.083333  0.001664    1.045217  \n",
       "86    0.085987  2.149682  0.002888    1.050314  \n",
       "87    0.135000  2.149682  0.002888    1.083468  \n",
       "88    0.171875  2.736863  0.004188    1.131713  \n",
       "89    0.105096  2.736863  0.004188    1.074528  \n",
       "\n",
       "[90 rows x 9 columns]"
      ]
     },
     "execution_count": 19,
     "metadata": {},
     "output_type": "execute_result"
    }
   ],
   "source": [
    "# generating lifts\n",
    "brand_apriori = apriori(brand_occurence_df.iloc[:, 2:], min_support=0.000001, use_colnames=True)\n",
    "rules = association_rules(brand_apriori, metric=\"lift\", min_threshold=0)\n",
    "\n",
    "# cleaning to get one brand to another brand lift\n",
    "mask1 = rules['antecedents'].map(lambda row: len(row)) == 1\n",
    "mask2 = rules['consequents'].map(lambda row: len(row)) == 1\n",
    "rules_one_brand = rules[(mask1 & mask2)]\n",
    "\n",
    "# converting columns data types\n",
    "rules_one_brand['antecedents'] = rules_one_brand['antecedents'].map(lambda row: list(row)[0])\n",
    "rules_one_brand['consequents'] = rules_one_brand['consequents'].map(lambda row: list(row)[0])\n",
    "\n",
    "rules_one_brand"
   ]
  },
  {
   "cell_type": "code",
   "execution_count": 20,
   "metadata": {
    "colab": {
     "base_uri": "https://localhost:8080/"
    },
    "id": "YWBzd7QuW-St",
    "outputId": "06654d98-7157-4e8b-f15b-328cf67be794",
    "scrolled": false
   },
   "outputs": [
    {
     "name": "stdout",
     "output_type": "stream",
     "text": [
      "consequents  acura  audi  bmw  cadillac  honda  hyundai  infiniti  mercedes  \\\n",
      "antecedents                                                                   \n",
      "acura          NaN   1.0  1.0       1.0    1.0      1.0       1.0       1.0   \n",
      "audi           1.0   NaN  1.0       1.0    1.0      1.0       1.0       1.0   \n",
      "bmw            1.0   1.0  NaN       1.0    1.0      1.0       1.0       1.0   \n",
      "cadillac       1.0   1.0  1.0       NaN    1.0      1.0       1.0       1.0   \n",
      "honda          1.0   1.0  1.0       1.0    NaN      1.0       1.0       1.0   \n",
      "hyundai        1.0   1.0  1.0       1.0    1.0      NaN       1.0       1.0   \n",
      "infiniti       1.0   1.0  1.0       1.0    1.0      1.0       NaN       1.0   \n",
      "mercedes       1.0   1.0  1.0       1.0    1.0      1.0       1.0       NaN   \n",
      "toyota         1.0   1.0  1.0       1.0    1.0      1.0       1.0       1.0   \n",
      "volkswagen     1.0   1.0  1.0       1.0    1.0      1.0       1.0       1.0   \n",
      "\n",
      "consequents  toyota  volkswagen  \n",
      "antecedents                      \n",
      "acura           1.0         1.0  \n",
      "audi            1.0         1.0  \n",
      "bmw             1.0         1.0  \n",
      "cadillac        1.0         1.0  \n",
      "honda           1.0         1.0  \n",
      "hyundai         1.0         1.0  \n",
      "infiniti        1.0         1.0  \n",
      "mercedes        1.0         1.0  \n",
      "toyota          NaN         1.0  \n",
      "volkswagen      1.0         NaN  \n"
     ]
    }
   ],
   "source": [
    "# CHECK\n",
    "# ideally for top 10 brands - total row count should be 90 (100 - 10 same brand comp)\n",
    "print(rules_one_brand.pivot_table(index='antecedents', columns='consequents', values='lift', aggfunc='count'))\n",
    "\n",
    "# checking co-occurence of two words in comments\n",
    "antecedents = 'toyota'\n",
    "consequents = 'cadillac'\n",
    "# print((antecedents in data['comment']) & (consequents in data['comment']))\n",
    "assert len(rules[(rules['antecedents'] == antecedents) & (rules['consequents'] == consequents)]) == 0"
   ]
  },
  {
   "cell_type": "code",
   "execution_count": 21,
   "metadata": {
    "colab": {
     "base_uri": "https://localhost:8080/",
     "height": 455
    },
    "id": "3RU-NQNeW-St",
    "outputId": "c6bfca54-ce72-4587-ed4f-d660dfd80a28"
   },
   "outputs": [
    {
     "data": {
      "text/plain": [
       "<AxesSubplot:xlabel='consequents', ylabel='antecedents'>"
      ]
     },
     "execution_count": 21,
     "metadata": {},
     "output_type": "execute_result"
    },
    {
     "data": {
      "image/png": "[encoded data removed]",
      "text/plain": [
       "<Figure size 576x432 with 2 Axes>"
      ]
     },
     "metadata": {
      "needs_background": "light"
     },
     "output_type": "display_data"
    }
   ],
   "source": [
    "# creating pivot lift pivot\n",
    "lift_pivot = rules_one_brand.pivot_table(index='antecedents', columns='consequents', values='lift', aggfunc='mean')\n",
    "\n",
    "# filling NaNs for diagonal terms\n",
    "for i in range(len(lift_pivot)):\n",
    "    lift_pivot.iloc[i, i] = 1\n",
    "    \n",
    "# filling non occuring words lifts with 0.5 for MDS\n",
    "lift_pivot.fillna(0.5, inplace=True)\n",
    "\n",
    "# heatmap for brand-brand occurences\n",
    "plt.figure(figsize=(8,6))\n",
    "sns.heatmap(lift_pivot, annot=True, cmap='coolwarm')"
   ]
  },
  {
   "cell_type": "code",
   "execution_count": 22,
   "metadata": {
    "id": "zq_cfZeBW-St"
   },
   "outputs": [],
   "source": [
    "# COMMENTING OUT - GETTING SAME RESULTS FROM LIBRARY AS WELL\n",
    "# lift calculation via dot product\n",
    "# x = brand_occurence_df.iloc[:, 2:]\n",
    "\n",
    "# brand_names = x.columns\n",
    "# lift_matrix = pd.DataFrame(np.zeros((len(brand_names), len(brand_names))))\n",
    "# lift_matrix.columns = brand_names\n",
    "# lift_matrix.index = brand_names\n",
    "\n",
    "# for i in brand_names:\n",
    "#     print(i)\n",
    "#     a = brand_occurence_df.loc[:, i].values\n",
    "#     for j in brand_names:\n",
    "#         b = brand_occurence_df.loc[:, j].values\n",
    "#         print(len(brand_occurence_df), np.dot(a, b), np.sum(a), np.sum(b))\n",
    "#         lift_matrix.loc[i, j] = len(brand_occurence_df) * np.dot(a, b)/np.sum(a)/np.sum(b)\n",
    "#     lift_matrix.loc[i, i] = 0.5 \n",
    "\n",
    "# lift_matrix.replace(0, 0.5, inplace=True)\n",
    "# lift_matrix"
   ]
  },
  {
   "cell_type": "markdown",
   "metadata": {
    "id": "xMpGNcI5W-St"
   },
   "source": [
    "## Task D - MDS"
   ]
  },
  {
   "cell_type": "code",
   "execution_count": 23,
   "metadata": {
    "id": "qaKFxLBYW-St"
   },
   "outputs": [],
   "source": [
    "def get_mds(lift_matrix):\n",
    "    \n",
    "    # calculating dissimilarity matrix\n",
    "    similarity_matrix = lift_matrix.values\n",
    "    dissimilarity_matrix = 1/similarity_matrix\n",
    "\n",
    "    for i in range(len(lift_pivot)):\n",
    "        dissimilarity_matrix[i, i] = 0\n",
    "\n",
    "    # getting cordinates for MDS\n",
    "    mds = manifold.MDS(n_components=2, max_iter=3000, eps=1e-9, random_state=10,\n",
    "                       dissimilarity=\"precomputed\", n_jobs=1)\n",
    "\n",
    "    pos = mds.fit_transform(dissimilarity_matrix)\n",
    "    print('position of the each brand in MDS' , pos)\n",
    "\n",
    "    # plotting MDS\n",
    "    fig = plt.figure(1)\n",
    "    ax = plt.axes([0., 0., 1., 1.])\n",
    "\n",
    "    s = 100\n",
    "    plt.scatter(pos[:, 0], pos[:, 1], color='navy', s=s, lw=0,\n",
    "                label='True Position')\n",
    "    for i in range(len(lift_matrix)):\n",
    "        plt.text(pos[i, 0] - 0.05, pos[i, 1] - 0.05, lift_matrix.columns[i])\n",
    "    plt.title('MDS plot for Top 10 Brands')\n",
    "    plt.show()\n",
    "    \n",
    "    return 0\n"
   ]
  },
  {
   "cell_type": "code",
   "execution_count": 24,
   "metadata": {
    "colab": {
     "base_uri": "https://localhost:8080/",
     "height": 548
    },
    "id": "iBu7990YW-St",
    "outputId": "20cd9177-5621-4fdb-8a2b-9491cf2ab59b",
    "scrolled": false
   },
   "outputs": [
    {
     "name": "stdout",
     "output_type": "stream",
     "text": [
      "position of the each brand in MDS [[-0.07258689 -0.3477009 ]\n",
      " [-0.0811838   0.23122363]\n",
      " [-0.46813171  0.23531118]\n",
      " [-0.2407297  -0.12675396]\n",
      " [ 0.22478609 -0.32620214]\n",
      " [ 0.26842623 -0.10698401]\n",
      " [-0.08346298 -0.04364419]\n",
      " [-0.17366803  0.03411793]\n",
      " [ 0.36218805  0.06242872]\n",
      " [ 0.26436272  0.38820374]]\n"
     ]
    },
    {
     "data": {
      "image/png": "[encoded data removed]",
      "text/plain": [
       "<Figure size 432x288 with 1 Axes>"
      ]
     },
     "metadata": {
      "needs_background": "light"
     },
     "output_type": "display_data"
    },
    {
     "data": {
      "text/plain": [
       "0"
      ]
     },
     "execution_count": 24,
     "metadata": {},
     "output_type": "execute_result"
    }
   ],
   "source": [
    "# refs - https://scikit-learn.org/stable/auto_examples/manifold/plot_mds.html\n",
    "from sklearn import manifold\n",
    "\n",
    "get_mds(lift_pivot)"
   ]
  },
  {
   "cell_type": "markdown",
   "metadata": {
    "id": "UpGL1fwpW-Su"
   },
   "source": [
    "## Task E - Interpretation and Insights from C/D"
   ]
  },
  {
   "cell_type": "code",
   "execution_count": null,
   "metadata": {
    "id": "lIaHwozfW-Su"
   },
   "outputs": [],
   "source": []
  },
  {
   "cell_type": "code",
   "execution_count": null,
   "metadata": {
    "id": "Lc6WW3vSW-Su"
   },
   "outputs": [],
   "source": []
  },
  {
   "cell_type": "markdown",
   "metadata": {
    "id": "qdpLrf1oW-Su"
   },
   "source": [
    "## Task F - Attribute analysis"
   ]
  },
  {
   "cell_type": "code",
   "execution_count": 25,
   "metadata": {
    "colab": {
     "base_uri": "https://localhost:8080/"
    },
    "id": "iJBXHABpW-Su",
    "outputId": "36ca38be-81fa-487e-e78d-12c438562f93"
   },
   "outputs": [
    {
     "name": "stderr",
     "output_type": "stream",
     "text": [
      "[nltk_data] Downloading package averaged_perceptron_tagger to\n",
      "[nltk_data]     C:\\Users\\gupta\\AppData\\Roaming\\nltk_data...\n",
      "[nltk_data]   Package averaged_perceptron_tagger is already up-to-\n",
      "[nltk_data]       date!\n"
     ]
    }
   ],
   "source": [
    "import nltk \n",
    "nltk.download('averaged_perceptron_tagger')\n",
    "\n",
    "# tagging pos to get noun words for attributes\n",
    "text_pos_tag = nltk.pos_tag(token_cleaned_df['words'])\n",
    "nn_text_pos = [w for w, t in text_pos_tag if t == 'NN']\n",
    "\n",
    "# got word freq of nouns\n",
    "nn_mask = token_cleaned_df['words'].isin(nn_text_pos)\n",
    "token_nn_df = token_cleaned_df[nn_mask]"
   ]
  },
  {
   "cell_type": "code",
   "execution_count": 26,
   "metadata": {
    "id": "ji-_Qub_W-Su",
    "scrolled": true
   },
   "outputs": [],
   "source": [
    "# token_nn_df.head(60)"
   ]
  },
  {
   "cell_type": "code",
   "execution_count": 27,
   "metadata": {
    "colab": {
     "base_uri": "https://localhost:8080/",
     "height": 392
    },
    "id": "0KbBFkZ9W-Su",
    "outputId": "5c09c34b-980a-42b7-cc22-1dc038baacba"
   },
   "outputs": [
    {
     "data": {
      "text/plain": [
       "<BarContainer object of 5 artists>"
      ]
     },
     "execution_count": 27,
     "metadata": {},
     "output_type": "execute_result"
    },
    {
     "data": {
      "image/png": "[encoded data removed]",
      "text/plain": [
       "<Figure size 720x432 with 1 Axes>"
      ]
     },
     "metadata": {
      "needs_background": "light"
     },
     "output_type": "display_data"
    }
   ],
   "source": [
    "# based on eyeballing top attributes are below\n",
    "attributes = ['price', 'performance', 'engine', 'luxury', 'power',\n",
    "              'class', 'service', 'transmission', 'steering', 'torque']\n",
    "# price, money, cost, msrp\n",
    "# torque, power, engine\n",
    "top5_attributes = attributes[:5]\n",
    "\n",
    "# plot \n",
    "top5_attributes_freq = token_nn_df.loc[token_nn_df['words'].isin(top5_attributes), ['words', 'frequency']]\n",
    "plt.figure(figsize=(10, 6))\n",
    "plt.bar(top5_attributes_freq['words'], top5_attributes_freq['frequency'])"
   ]
  },
  {
   "cell_type": "code",
   "execution_count": 28,
   "metadata": {
    "colab": {
     "base_uri": "https://localhost:8080/"
    },
    "id": "fvVDvnlFW-Su",
    "outputId": "5fa38edf-7e9f-4428-af9c-652126df5b21"
   },
   "outputs": [
    {
     "name": "stdout",
     "output_type": "stream",
     "text": [
      "calculating occurence in comment for brand -  price\n",
      "calculating occurence in comment for brand -  performance\n",
      "calculating occurence in comment for brand -  engine\n",
      "calculating occurence in comment for brand -  luxury\n",
      "calculating occurence in comment for brand -  power\n",
      "              date                                            comment  price  \\\n",
      "0  2/26/2014 21:51  '02 rx300. gonna sit back, smell the oil and c...      0   \n",
      "1   2/27/2014 2:45  @markcincinnati - like i mentioned i got the 1...      0   \n",
      "2   2/27/2014 2:57  @stickguy i like the new feature to add pix- b...      0   \n",
      "3  2/27/2014 14:59  @sweendogy: i read an article about the \"indiv...      0   \n",
      "4  2/27/2014 15:08  my wife's mazda cx-7 does that as well ... wil...      0   \n",
      "\n",
      "   performance  engine  luxury  power  \n",
      "0            0       0       0      0  \n",
      "1            1       1       0      0  \n",
      "2            0       0       0      0  \n",
      "3            1       1       0      0  \n",
      "4            0       0       0      0  \n"
     ]
    }
   ],
   "source": [
    "# creating attribute wise columns to get occurence into a dataframe\n",
    "attribute_occurence_df = pd.DataFrame(np.zeros((data.shape[0], 5)))\n",
    "attribute_occurence_df.columns = top5_attributes\n",
    "\n",
    "# appending comment df with attribute occurence df\n",
    "attribute_occurence_df = pd.concat([data, attribute_occurence_df], axis=1)\n",
    "\n",
    "# geting occurence columns populated\n",
    "for a in top5_attributes:\n",
    "    print('calculating occurence in comment for brand - ', a)\n",
    "    attribute_occurence_df[a] = attribute_occurence_df['comment'].str.contains(a).astype(int)\n",
    "\n",
    "print(attribute_occurence_df.head())"
   ]
  },
  {
   "cell_type": "code",
   "execution_count": 29,
   "metadata": {
    "colab": {
     "base_uri": "https://localhost:8080/",
     "height": 499
    },
    "id": "4Y4Q0_vqW-Sv",
    "outputId": "64c1ac9e-036d-44a2-a25e-7691cb427f48"
   },
   "outputs": [
    {
     "name": "stdout",
     "output_type": "stream",
     "text": [
      "price          579\n",
      "performance    322\n",
      "engine         439\n",
      "luxury         289\n",
      "power          328\n",
      "dtype: int64\n"
     ]
    },
    {
     "data": {
      "text/plain": [
       "<matplotlib.legend.Legend at 0x137b678af70>"
      ]
     },
     "execution_count": 29,
     "metadata": {},
     "output_type": "execute_result"
    },
    {
     "data": {
      "image/png": "[encoded data removed]",
      "text/plain": [
       "<Figure size 720x432 with 1 Axes>"
      ]
     },
     "metadata": {
      "needs_background": "light"
     },
     "output_type": "display_data"
    }
   ],
   "source": [
    "# CHECK\n",
    "# testing the total occurence by attribute in comments vs total frequency in complete text \n",
    "comment_mentions = attribute_occurence_df.iloc[:, 2:].sum()\n",
    "print(comment_mentions)\n",
    "\n",
    "plt.figure(figsize=(10, 6))\n",
    "plt.bar(top5_attributes_freq['words'], top5_attributes_freq['frequency'], label='frequency')\n",
    "plt.bar(comment_mentions.index, comment_mentions, label='occurences')\n",
    "plt.legend()"
   ]
  },
  {
   "cell_type": "code",
   "execution_count": 30,
   "metadata": {
    "id": "qyCvq5f0W-Sv"
   },
   "outputs": [],
   "source": [
    "# CHECK\n",
    "# nrows of both attribute_occurence_df and brand_occurence_df\n",
    "assert len(brand_occurence_df) == len(attribute_occurence_df)"
   ]
  },
  {
   "cell_type": "code",
   "execution_count": 31,
   "metadata": {
    "colab": {
     "base_uri": "https://localhost:8080/",
     "height": 1000
    },
    "id": "r4FYbulgW-Sv",
    "outputId": "34d32f97-cff0-48a2-f763-50022b736a74",
    "scrolled": true
   },
   "outputs": [
    {
     "name": "stdout",
     "output_type": "stream",
     "text": [
      "5000 186 579 861\n",
      "5000 119 322 861\n",
      "5000 144 439 861\n",
      "5000 94 289 861\n",
      "5000 106 328 861\n",
      "5000 216 579 976\n",
      "5000 115 322 976\n",
      "5000 139 439 976\n",
      "5000 97 289 976\n",
      "5000 118 328 976\n",
      "5000 95 579 476\n",
      "5000 66 322 476\n",
      "5000 82 439 476\n",
      "5000 66 289 476\n",
      "5000 58 328 476\n",
      "5000 119 579 541\n",
      "5000 63 322 541\n",
      "5000 84 439 541\n",
      "5000 62 289 541\n",
      "5000 74 328 541\n",
      "5000 66 579 235\n",
      "5000 43 322 235\n",
      "5000 37 439 235\n",
      "5000 44 289 235\n",
      "5000 25 328 235\n",
      "5000 46 579 261\n",
      "5000 28 322 261\n",
      "5000 48 439 261\n",
      "5000 25 289 261\n",
      "5000 36 328 261\n",
      "5000 56 579 180\n",
      "5000 27 322 180\n",
      "5000 23 439 180\n",
      "5000 37 289 180\n",
      "5000 14 328 180\n",
      "5000 36 579 200\n",
      "5000 27 322 200\n",
      "5000 27 439 200\n",
      "5000 23 289 200\n",
      "5000 17 328 200\n",
      "5000 50 579 192\n",
      "5000 15 322 192\n",
      "5000 27 439 192\n",
      "5000 29 289 192\n",
      "5000 22 328 192\n",
      "5000 61 579 314\n",
      "5000 38 322 314\n",
      "5000 49 439 314\n",
      "5000 31 289 314\n",
      "5000 48 328 314\n"
     ]
    },
    {
     "data": {
      "text/html": [
       "<div>\n",
       "<style scoped>\n",
       "    .dataframe tbody tr th:only-of-type {\n",
       "        vertical-align: middle;\n",
       "    }\n",
       "\n",
       "    .dataframe tbody tr th {\n",
       "        vertical-align: top;\n",
       "    }\n",
       "\n",
       "    .dataframe thead th {\n",
       "        text-align: right;\n",
       "    }\n",
       "</style>\n",
       "<table border=\"1\" class=\"dataframe\">\n",
       "  <thead>\n",
       "    <tr style=\"text-align: right;\">\n",
       "      <th></th>\n",
       "      <th>price</th>\n",
       "      <th>performance</th>\n",
       "      <th>engine</th>\n",
       "      <th>luxury</th>\n",
       "      <th>power</th>\n",
       "    </tr>\n",
       "  </thead>\n",
       "  <tbody>\n",
       "    <tr>\n",
       "      <th>audi</th>\n",
       "      <td>1.865526</td>\n",
       "      <td>2.146139</td>\n",
       "      <td>1.904868</td>\n",
       "      <td>1.888847</td>\n",
       "      <td>1.876717</td>\n",
       "    </tr>\n",
       "    <tr>\n",
       "      <th>bmw</th>\n",
       "      <td>1.911153</td>\n",
       "      <td>1.829625</td>\n",
       "      <td>1.622073</td>\n",
       "      <td>1.719468</td>\n",
       "      <td>1.843013</td>\n",
       "    </tr>\n",
       "    <tr>\n",
       "      <th>acura</th>\n",
       "      <td>1.723487</td>\n",
       "      <td>2.153035</td>\n",
       "      <td>1.962060</td>\n",
       "      <td>2.398883</td>\n",
       "      <td>1.857450</td>\n",
       "    </tr>\n",
       "    <tr>\n",
       "      <th>honda</th>\n",
       "      <td>1.899508</td>\n",
       "      <td>1.808246</td>\n",
       "      <td>1.768428</td>\n",
       "      <td>1.982744</td>\n",
       "      <td>2.085118</td>\n",
       "    </tr>\n",
       "    <tr>\n",
       "      <th>mercedes</th>\n",
       "      <td>2.425311</td>\n",
       "      <td>2.841285</td>\n",
       "      <td>1.793244</td>\n",
       "      <td>3.239343</td>\n",
       "      <td>1.621692</td>\n",
       "    </tr>\n",
       "    <tr>\n",
       "      <th>volkswagen</th>\n",
       "      <td>1.521979</td>\n",
       "      <td>1.665834</td>\n",
       "      <td>2.094625</td>\n",
       "      <td>1.657188</td>\n",
       "      <td>2.102607</td>\n",
       "    </tr>\n",
       "    <tr>\n",
       "      <th>cadillac</th>\n",
       "      <td>2.686624</td>\n",
       "      <td>2.329193</td>\n",
       "      <td>1.455328</td>\n",
       "      <td>3.556324</td>\n",
       "      <td>1.185637</td>\n",
       "    </tr>\n",
       "    <tr>\n",
       "      <th>infiniti</th>\n",
       "      <td>1.554404</td>\n",
       "      <td>2.096273</td>\n",
       "      <td>1.537585</td>\n",
       "      <td>1.989619</td>\n",
       "      <td>1.295732</td>\n",
       "    </tr>\n",
       "    <tr>\n",
       "      <th>hyundai</th>\n",
       "      <td>2.248849</td>\n",
       "      <td>1.213121</td>\n",
       "      <td>1.601651</td>\n",
       "      <td>2.613178</td>\n",
       "      <td>1.746697</td>\n",
       "    </tr>\n",
       "    <tr>\n",
       "      <th>toyota</th>\n",
       "      <td>1.677612</td>\n",
       "      <td>1.879179</td>\n",
       "      <td>1.777346</td>\n",
       "      <td>1.708064</td>\n",
       "      <td>2.330278</td>\n",
       "    </tr>\n",
       "  </tbody>\n",
       "</table>\n",
       "</div>"
      ],
      "text/plain": [
       "               price  performance    engine    luxury     power\n",
       "audi        1.865526     2.146139  1.904868  1.888847  1.876717\n",
       "bmw         1.911153     1.829625  1.622073  1.719468  1.843013\n",
       "acura       1.723487     2.153035  1.962060  2.398883  1.857450\n",
       "honda       1.899508     1.808246  1.768428  1.982744  2.085118\n",
       "mercedes    2.425311     2.841285  1.793244  3.239343  1.621692\n",
       "volkswagen  1.521979     1.665834  2.094625  1.657188  2.102607\n",
       "cadillac    2.686624     2.329193  1.455328  3.556324  1.185637\n",
       "infiniti    1.554404     2.096273  1.537585  1.989619  1.295732\n",
       "hyundai     2.248849     1.213121  1.601651  2.613178  1.746697\n",
       "toyota      1.677612     1.879179  1.777346  1.708064  2.330278"
      ]
     },
     "execution_count": 31,
     "metadata": {},
     "output_type": "execute_result"
    }
   ],
   "source": [
    "# creating data frame for brand attribute lift\n",
    "brand_attribute_lift = pd.DataFrame(np.zeros((len(top10_brands), len(top5_attributes))))\n",
    "brand_attribute_lift.index = top10_brands['Brand'].values\n",
    "brand_attribute_lift.columns = top5_attributes\n",
    "\n",
    "for i in brand_attribute_lift.index:\n",
    "    b = brand_occurence_df.loc[:, i].values\n",
    "    \n",
    "    for j in brand_attribute_lift.columns:\n",
    "        a = attribute_occurence_df.loc[:, j].values\n",
    "        print(len(brand_occurence_df), np.dot(a, b), np.sum(a), np.sum(b))\n",
    "        brand_attribute_lift.loc[i, j] = len(brand_occurence_df) * np.dot(a, b)/np.sum(a)/np.sum(b)\n",
    "\n",
    "# brand_attribute_lift.replace(0, 0.5, inplace=True)\n",
    "brand_attribute_lift"
   ]
  },
  {
   "cell_type": "code",
   "execution_count": null,
   "metadata": {
    "colab": {
     "base_uri": "https://localhost:8080/",
     "height": 441
    },
    "id": "97TmaXozW-Sv",
    "outputId": "22f0359d-399b-43d3-d407-a594343102d2"
   },
   "outputs": [
    {
     "data": {
      "text/plain": [
       "<AxesSubplot:>"
      ]
     },
     "execution_count": 32,
     "metadata": {},
     "output_type": "execute_result"
    }
   ],
   "source": [
    "plt.figure(figsize=(8,6))\n",
    "sns.heatmap(brand_attribute_lift.T, annot=True, cmap='coolwarm')"
   ]
  },
  {
   "cell_type": "markdown",
   "metadata": {
    "id": "Lc3OUXShW-Sv"
   },
   "source": [
    "## Task G - Interpretation and Insights from E"
   ]
  },
  {
   "cell_type": "code",
   "execution_count": null,
   "metadata": {
    "id": "vmT816R4W-Sw"
   },
   "outputs": [],
   "source": []
  },
  {
   "cell_type": "code",
   "execution_count": null,
   "metadata": {
    "id": "jyKH_NlnW-Sw"
   },
   "outputs": [],
   "source": []
  },
  {
   "cell_type": "code",
   "execution_count": null,
   "metadata": {
    "id": "877isHBRW-Sw"
   },
   "outputs": [],
   "source": []
  },
  {
   "cell_type": "markdown",
   "metadata": {
    "id": "SLT4Cq9vW-Sw"
   },
   "source": [
    "## Task H - Aspirational brands"
   ]
  },
  {
   "cell_type": "markdown",
   "metadata": {
    "id": "B3OyroBgW-Sw"
   },
   "source": [
    "How to identify most aspirational brand - \n",
    "1. Identify words synonymus to aspiration from online dictionary\n",
    "2. look for bigrams with such words most common and relevant in the available text based on eyeballing - top 10\n",
    "3. Calculate lifts with those with top 10 brands \n",
    "4. Calculate average lift to identify most aspirational brand"
   ]
  },
  {
   "cell_type": "code",
   "execution_count": null,
   "metadata": {
    "colab": {
     "base_uri": "https://localhost:8080/",
     "height": 358
    },
    "id": "lvi_6lPCW-Sw",
    "outputId": "48bfb5e5-dff5-406a-ebac-24b7c8300dce"
   },
   "outputs": [],
   "source": [
    "# looking basic word frequency that can be associated with aspirational\n",
    "first_list = ['wish', 'want', 'aspire', 'hope', 'dream', 'desire', 'aim', 'long', 'look', 'plan']\n",
    "text_token_df[text_token_df['words'].isin(first_list)]"
   ]
  },
  {
   "cell_type": "code",
   "execution_count": null,
   "metadata": {
    "colab": {
     "base_uri": "https://localhost:8080/",
     "height": 204
    },
    "id": "LA8QmQXcW-Sw",
    "outputId": "d698117f-fc36-47a1-ce3c-362b110f57cb",
    "scrolled": true
   },
   "outputs": [],
   "source": [
    "from nltk.util import ngrams\n",
    " \n",
    "# Function to generate n-grams from sentences.\n",
    "def extract_ngrams(token, num=2):\n",
    "    n_grams = ngrams(token, num)\n",
    "    return [ ' '.join(grams) for grams in n_grams]\n",
    " \n",
    "text_bigram_counter = Counter(extract_ngrams(text_token))\n",
    "\n",
    "# creating dataframe for frequency table\n",
    "text_bigram_df = pd.DataFrame(data=None, columns=['words', 'frequency'])\n",
    "text_bigram_df['words'] = text_bigram_counter.keys()\n",
    "text_bigram_df['frequency'] = text_bigram_counter.values()\n",
    "\n",
    "text_bigram_df.sort_values('frequency', inplace=True, ascending=False)\n",
    "text_bigram_df.head()"
   ]
  },
  {
   "cell_type": "code",
   "execution_count": null,
   "metadata": {
    "colab": {
     "base_uri": "https://localhost:8080/",
     "height": 358
    },
    "id": "tg_NNAUZW-Sw",
    "outputId": "8c4a551d-45e9-4914-c547-0761e59fefe5",
    "scrolled": true
   },
   "outputs": [],
   "source": [
    "# getting bigrams from look\n",
    "text_bigram_df[text_bigram_df['words'].str.contains('want')].head(10)"
   ]
  },
  {
   "cell_type": "code",
   "execution_count": null,
   "metadata": {
    "colab": {
     "base_uri": "https://localhost:8080/",
     "height": 358
    },
    "id": "obBjuP54W-Sw",
    "outputId": "d5b3d19e-2e95-46a9-a6b5-c452c3fba992"
   },
   "outputs": [],
   "source": [
    "# getting bigrams from want\n",
    "text_bigram_df[text_bigram_df['words'].str.contains('look')].head(10)"
   ]
  },
  {
   "cell_type": "code",
   "execution_count": null,
   "metadata": {
    "colab": {
     "base_uri": "https://localhost:8080/",
     "height": 358
    },
    "id": "uiSKZfVeW-Sw",
    "outputId": "14a4f25f-68b3-4401-e35f-0a6e87897832",
    "scrolled": true
   },
   "outputs": [],
   "source": [
    "# getting bigrams from long\n",
    "text_bigram_df[text_bigram_df['words'].str.contains('long')].head(10)"
   ]
  },
  {
   "cell_type": "code",
   "execution_count": null,
   "metadata": {
    "colab": {
     "base_uri": "https://localhost:8080/"
    },
    "id": "JZLKxx3gW-Sw",
    "outputId": "824e124e-0efa-4efc-8678-39acebccc848"
   },
   "outputs": [],
   "source": [
    "# getting bigrams from hope\n",
    "text_bigram_df[text_bigram_df['words'].str.contains('hope')].head(10),\\\n",
    "text_bigram_df[text_bigram_df['words'].str.contains('hoping')].head(10)"
   ]
  },
  {
   "cell_type": "code",
   "execution_count": null,
   "metadata": {
    "colab": {
     "base_uri": "https://localhost:8080/",
     "height": 358
    },
    "id": "0FprES3_W-Sw",
    "outputId": "9e8b8518-171b-4d44-a9a5-0781bc6ffb28"
   },
   "outputs": [],
   "source": [
    "# getting bigrams from wish\n",
    "text_bigram_df[text_bigram_df['words'].str.contains('wish')].head(10)"
   ]
  },
  {
   "cell_type": "code",
   "execution_count": null,
   "metadata": {
    "colab": {
     "base_uri": "https://localhost:8080/",
     "height": 358
    },
    "id": "JilsrTPuW-Sx",
    "outputId": "3d5bd26e-4100-4e2a-fd9b-97593a5cb4c0"
   },
   "outputs": [],
   "source": [
    "# getting bigrams from plan\n",
    "text_bigram_df[text_bigram_df['words'].str.contains('plan')].head(10)"
   ]
  },
  {
   "cell_type": "code",
   "execution_count": null,
   "metadata": {
    "colab": {
     "base_uri": "https://localhost:8080/",
     "height": 358
    },
    "id": "DJbq2ivgW-Sx",
    "outputId": "21962970-9e94-46a3-93b1-3eaa62ce22f6"
   },
   "outputs": [],
   "source": [
    "# getting bigrams from dream\n",
    "text_bigram_df[text_bigram_df['words'].str.contains('dream')].head(10)"
   ]
  },
  {
   "cell_type": "code",
   "execution_count": null,
   "metadata": {
    "colab": {
     "base_uri": "https://localhost:8080/",
     "height": 358
    },
    "id": "GIrf2Y20W-Sx",
    "outputId": "354553a2-f889-4848-8a22-714710460bff"
   },
   "outputs": [],
   "source": [
    "# getting bigrams from aspire\n",
    "text_bigram_df[text_bigram_df['words'].str.contains('aspire')].head(10)"
   ]
  },
  {
   "cell_type": "code",
   "execution_count": null,
   "metadata": {
    "colab": {
     "base_uri": "https://localhost:8080/",
     "height": 358
    },
    "id": "W6Nxt4OVW-Sx",
    "outputId": "5f887fed-35ca-4d88-e6ec-5b528879a3e1"
   },
   "outputs": [],
   "source": [
    "# getting bigrams from aim\n",
    "text_bigram_df[text_bigram_df['words'].str.contains('aim')].head(10)"
   ]
  },
  {
   "cell_type": "code",
   "execution_count": null,
   "metadata": {
    "colab": {
     "base_uri": "https://localhost:8080/"
    },
    "id": "L0pz458qW-Sx",
    "outputId": "b43edd13-1054-463a-e9f6-935dc1919c7d"
   },
   "outputs": [],
   "source": [
    "# final aspirational phrases list and their total frequency\n",
    "aspirational_list = ['want to', 'you want', 'i want', 'i wanted', \n",
    "                     'looking for',\n",
    "                     'i hope',\n",
    "                     'i wish',\n",
    "                     'i plan', 'plan to',\n",
    "                     'dream car', 'dream machine', 'dream collection',\n",
    "                     'aspire to']\n",
    "text_bigram_df[text_bigram_df['words'].isin(aspirational_list)]['frequency'].sum()"
   ]
  },
  {
   "cell_type": "code",
   "execution_count": null,
   "metadata": {
    "colab": {
     "base_uri": "https://localhost:8080/"
    },
    "id": "w103hYHgW-Sx",
    "outputId": "75227a0f-49fd-4a4a-c1c0-91ec6dcd9e17"
   },
   "outputs": [],
   "source": [
    "# using the brand_occurence_df to get the aspiration phrases list occurences\n",
    "brand_occurence_df['aspirational'] = brand_occurence_df['comment'].str.findall(\n",
    "    '( ' + '|'.join(aspirational_list) + ' )').astype(bool).astype(int)\n",
    "brand_occurence_df['aspirational'].sum()"
   ]
  },
  {
   "cell_type": "code",
   "execution_count": null,
   "metadata": {
    "colab": {
     "base_uri": "https://localhost:8080/",
     "height": 536
    },
    "id": "QKsAN7MlW-Sx",
    "outputId": "78f20ce0-f238-49f7-d233-6ef62714d959"
   },
   "outputs": [],
   "source": [
    "# calculating lifts\n",
    "# creating data frame for brand attribute lift\n",
    "aspirational_lift = pd.DataFrame(np.zeros((len(top10_brands), 1)))\n",
    "aspirational_lift.index = top10_brands['Brand'].values\n",
    "aspirational_lift.columns = ['aspirational_lift']\n",
    "\n",
    "for i in aspirational_lift.index:\n",
    "    b = brand_occurence_df.loc[:, i].values\n",
    "    a = brand_occurence_df.loc[:, 'aspirational'].values\n",
    "    print(len(brand_occurence_df), np.dot(a, b), np.sum(a), np.sum(b))\n",
    "    aspirational_lift.loc[i, 'aspirational_lift'] = len(brand_occurence_df) * np.dot(a, b)/np.sum(a)/np.sum(b)\n",
    "\n",
    "aspirational_lift.sort_values('aspirational_lift', inplace=True, ascending=False)\n",
    "aspirational_lift"
   ]
  },
  {
   "cell_type": "code",
   "execution_count": null,
   "metadata": {
    "id": "cywkvvYzW-Sx"
   },
   "outputs": [],
   "source": []
  },
  {
   "cell_type": "code",
   "execution_count": null,
   "metadata": {},
   "outputs": [],
   "source": []
  }
 ],
 "metadata": {
  "accelerator": "GPU",
  "colab": {
   "collapsed_sections": [],
   "name": "Car-Brand-Text-Analytics.ipynb",
   "provenance": []
  },
  "kernelspec": {
   "display_name": "Python 3",
   "language": "python",
   "name": "python3"
  },
  "language_info": {
   "codemirror_mode": {
    "name": "ipython",
    "version": 3
   },
   "file_extension": ".py",
   "mimetype": "text/x-python",
   "name": "python",
   "nbconvert_exporter": "python",
   "pygments_lexer": "ipython3",
   "version": "3.8.8"
  }
 },
 "nbformat": 4,
 "nbformat_minor": 1
}
