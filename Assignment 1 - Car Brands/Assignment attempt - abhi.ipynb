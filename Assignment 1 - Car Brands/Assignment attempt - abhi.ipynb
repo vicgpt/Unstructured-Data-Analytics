{
 "cells": [
  {
   "cell_type": "code",
   "execution_count": 84,
   "id": "89291424",
   "metadata": {},
   "outputs": [],
   "source": [
    "import pandas as pd\n",
    "import numpy as np\n",
    "import matplotlib.pyplot as plt\n",
    "import seaborn as sns\n",
    "import re\n",
    "\n",
    "import nltk, pylab\n",
    "import string\n",
    "\n",
    "from collections import Counter\n",
    "import warnings\n",
    "warnings.filterwarnings(\"ignore\")"
   ]
  },
  {
   "cell_type": "markdown",
   "id": "a3317ce1",
   "metadata": {},
   "source": [
    "## Task A"
   ]
  },
  {
   "cell_type": "code",
   "execution_count": 85,
   "id": "1c56bfe3",
   "metadata": {},
   "outputs": [
    {
     "data": {
      "text/html": [
       "<div>\n",
       "<style scoped>\n",
       "    .dataframe tbody tr th:only-of-type {\n",
       "        vertical-align: middle;\n",
       "    }\n",
       "\n",
       "    .dataframe tbody tr th {\n",
       "        vertical-align: top;\n",
       "    }\n",
       "\n",
       "    .dataframe thead th {\n",
       "        text-align: right;\n",
       "    }\n",
       "</style>\n",
       "<table border=\"1\" class=\"dataframe\">\n",
       "  <thead>\n",
       "    <tr style=\"text-align: right;\">\n",
       "      <th></th>\n",
       "      <th>date</th>\n",
       "      <th>comment</th>\n",
       "    </tr>\n",
       "  </thead>\n",
       "  <tbody>\n",
       "    <tr>\n",
       "      <th>0</th>\n",
       "      <td>3/25/2002 5:54</td>\n",
       "      <td>I personally think that with a few tweaks the ...</td>\n",
       "    </tr>\n",
       "    <tr>\n",
       "      <th>1</th>\n",
       "      <td>3/25/2002 7:06</td>\n",
       "      <td>I am debating a new purchase and these two are...</td>\n",
       "    </tr>\n",
       "    <tr>\n",
       "      <th>2</th>\n",
       "      <td>3/25/2002 17:02</td>\n",
       "      <td>Great handling, RWD, excellent engine and the ...</td>\n",
       "    </tr>\n",
       "    <tr>\n",
       "      <th>3</th>\n",
       "      <td>3/25/2002 23:04</td>\n",
       "      <td>And no manual tranny. That may not matter to y...</td>\n",
       "    </tr>\n",
       "    <tr>\n",
       "      <th>4</th>\n",
       "      <td>3/26/2002 0:44</td>\n",
       "      <td>One beauty of BMW 3 Series is that there are s...</td>\n",
       "    </tr>\n",
       "  </tbody>\n",
       "</table>\n",
       "</div>"
      ],
      "text/plain": [
       "              date                                            comment\n",
       "0   3/25/2002 5:54  I personally think that with a few tweaks the ...\n",
       "1   3/25/2002 7:06  I am debating a new purchase and these two are...\n",
       "2  3/25/2002 17:02  Great handling, RWD, excellent engine and the ...\n",
       "3  3/25/2002 23:04  And no manual tranny. That may not matter to y...\n",
       "4   3/26/2002 0:44  One beauty of BMW 3 Series is that there are s..."
      ]
     },
     "execution_count": 85,
     "metadata": {},
     "output_type": "execute_result"
    }
   ],
   "source": [
    "#Read in data\n",
    "comments_df = pd.read_csv('comments_data_complete.csv')\n",
    "comments_df.head()"
   ]
  },
  {
   "cell_type": "code",
   "execution_count": 86,
   "id": "6e7021f8",
   "metadata": {},
   "outputs": [
    {
     "data": {
      "text/plain": [
       "\"I am debating a new purchase and these two are at the top of my list. The price difference between these two is approx. 6K (non-Type S Acura). Is the ES300 worth 6K over the TL? I don't know because I have never owned a TL but I am familiar with the ES300(previous generation). Supposedly the 2002 ES300 is a lot better than the previous generation but is it that much better than the TL? Of great importance to me is initial quality and overall dependability. Does the TL compare with the ES300 in both of these categorys? I am not familiar with the Honda Co. Are prices lower than Lexus for service work? I would appreciate any input on this dilemma from some TL owners.\""
      ]
     },
     "execution_count": 86,
     "metadata": {},
     "output_type": "execute_result"
    }
   ],
   "source": [
    "# Generate corpus from list of comments\n",
    "comment_list = list(comments_df['comment'])\n",
    "comment_list[1]"
   ]
  },
  {
   "cell_type": "code",
   "execution_count": 87,
   "id": "69c38cd5",
   "metadata": {},
   "outputs": [],
   "source": [
    "def clean_corpus(text):\n",
    "    #Remove tags\n",
    "    text = re.sub(\"[\\n]\", \"\" , str(text))\n",
    "    text = re.sub(\"[^-9A-Za-z ]*\", \"\" , text)\n",
    "    return(text)\n",
    "    \n",
    "    \n",
    "#Applying the remove_punctuation function\n",
    "#comments_df['comment'] = comments_df['comment'].apply(clean_corpus)"
   ]
  },
  {
   "cell_type": "code",
   "execution_count": 88,
   "id": "d1a42c07",
   "metadata": {},
   "outputs": [
    {
     "data": {
      "text/plain": [
       "\"I am debating a new purchase and these two are at the top of my list. The price difference between these two is approx. 6K (non-Type S Acura). Is the ES300 worth 6K over the TL? I don't know because I have never owned a TL but I am familiar with the ES300(previous generation). Supposedly the 2002 ES300 is a lot better than the previous generation but is it that much better than the TL? Of great importance to me is initial quality and overall dependability. Does the TL compare with the ES300 in both of these categorys? I am not familiar with the Honda Co. Are prices lower than Lexus for service work? I would appreciate any input on this dilemma from some TL owners.\""
      ]
     },
     "execution_count": 88,
     "metadata": {},
     "output_type": "execute_result"
    }
   ],
   "source": [
    "comments_df['comment'][1]"
   ]
  },
  {
   "cell_type": "code",
   "execution_count": 89,
   "id": "c732ea28",
   "metadata": {},
   "outputs": [],
   "source": [
    "#Join list elements to form a text corpus\n",
    "corpus = (\"\".join(str(comment_list)))\n",
    "\n",
    "#Converting all the words into lowercase\n",
    "corpus = corpus.lower()"
   ]
  },
  {
   "cell_type": "code",
   "execution_count": 90,
   "id": "04d29c86",
   "metadata": {},
   "outputs": [],
   "source": [
    "corpus = clean_corpus(corpus)\n"
   ]
  },
  {
   "cell_type": "code",
   "execution_count": 92,
   "id": "52bcb2d5",
   "metadata": {},
   "outputs": [
    {
     "data": {
      "text/plain": [
       "'i personally think that with a few tweaks the c could also sit at the top of this group its still more of a entry-level luxury sedan than mercedes would lead you to believe the c sport needs to have its suspension retuned to accept  inch tires without a harsh ride mb also needs to stop forcing metal trim and black leather on everyone that wants the sport package the cs -speed wouldnt hurt either if offered on the c though it needs to be fixed firstnnthat said my favorite of the group is gasp the new a  the a easily has the best interior of any sub-k car combine that with stunning looks and a body that is as rigid as any ever made and you have my personal favorite the single thing i dont like about the a is the grey trim around the bottom of the car this trim doesnt match any of the body colors as it should be body color anyway this is an excellent car and in my opinion the best there is under k the upcoming a convertible coupe and s will all be winnersnnthe bmw i is now an old favorite'"
      ]
     },
     "execution_count": 92,
     "metadata": {},
     "output_type": "execute_result"
    }
   ],
   "source": [
    "corpus[0:1000]"
   ]
  },
  {
   "cell_type": "markdown",
   "id": "067fac67",
   "metadata": {},
   "source": [
    "### Zipf's law"
   ]
  },
  {
   "cell_type": "code",
   "execution_count": 93,
   "id": "4d089af7",
   "metadata": {},
   "outputs": [],
   "source": [
    "#allWords = nltk.tokenize.word_tokenize(corpus)\n",
    "#fdist = nltk.FreqDist(corpus.split())\n",
    "#fdist = nltk.FreqDist(w.lower() for w in allWords)\n",
    "\n",
    "#Splitting the entire corpus\n",
    "corpus = nltk.tokenize.word_tokenize(corpus)"
   ]
  },
  {
   "cell_type": "code",
   "execution_count": 94,
   "id": "ec337aec",
   "metadata": {},
   "outputs": [
    {
     "data": {
      "text/plain": [
       "[('the', 112728),\n",
       " ('a', 57743),\n",
       " ('and', 45595),\n",
       " ('to', 45364),\n",
       " ('i', 44478),\n",
       " ('is', 33566),\n",
       " ('of', 32151),\n",
       " ('in', 28167),\n",
       " ('that', 25625),\n",
       " ('it', 24666)]"
      ]
     },
     "execution_count": 94,
     "metadata": {},
     "output_type": "execute_result"
    }
   ],
   "source": [
    "nltk.FreqDist(corpus).most_common(10)"
   ]
  },
  {
   "cell_type": "code",
   "execution_count": 112,
   "id": "5f1d1a29",
   "metadata": {},
   "outputs": [],
   "source": [
    "def plot_word_frequency(words,top_n=100):\n",
    "    \"\"\"Function to plot the word frequencies\"\"\"\n",
    "    word_freq = nltk.FreqDist(words)\n",
    "    labels = [element[0] for element in word_freq.most_common(top_n)]\n",
    "    counts = [element[1] for element in word_freq.most_common(top_n)]\n",
    "    rank = list(range(1,101))\n",
    "    plt.figure(figsize=(9.5,7.5))\n",
    "    plt.title(\"Most Frequent Words in the Corpus - Including Stopwords\")\n",
    "    plt.suptitle(str('Correlation : ')+str((np.corrcoef(np.log(rank),np.log(counts))[0][1]).round(3)))\n",
    "    plt.xlabel(\"Log Count\")\n",
    "    plt.ylabel(\"Log Rank\")\n",
    "    plot = sns.regplot(y = np.log(rank), x = np.log(counts),scatter_kws={\"color\": \"blue\"}, line_kws={\"color\": \"red\"})\n",
    "    return plot\n",
    "    \n"
   ]
  },
  {
   "cell_type": "code",
   "execution_count": 113,
   "id": "26cd2e55",
   "metadata": {
    "scrolled": false
   },
   "outputs": [
    {
     "data": {
      "text/plain": [
       "<AxesSubplot:title={'center':'Most Frequent Words in the Corpus - Including Stopwords'}, xlabel='Log Count', ylabel='Log Rank'>"
      ]
     },
     "execution_count": 113,
     "metadata": {},
     "output_type": "execute_result"
    },
    {
     "data": {
      "image/png": "[encoded data removed]",
      "text/plain": [
       "<Figure size 684x540 with 1 Axes>"
      ]
     },
     "metadata": {
      "needs_background": "light"
     },
     "output_type": "display_data"
    }
   ],
   "source": [
    "plot_word_frequency(corpus,100)"
   ]
  },
  {
   "cell_type": "markdown",
   "id": "c65b287c",
   "metadata": {},
   "source": [
    "## Task B"
   ]
  },
  {
   "cell_type": "markdown",
   "id": "3e9cdf65",
   "metadata": {},
   "source": [
    "### Remove stop words"
   ]
  },
  {
   "cell_type": "code",
   "execution_count": null,
   "id": "767bca11",
   "metadata": {},
   "outputs": [],
   "source": [
    "stopwords1 = nltk.corpus.stopwords.words('english')\n",
    "stopwords2 = nltk.corpus.stopwords.words('%env')\n",
    "\n",
    "\n",
    "allWordExceptStopDist = nltk.FreqDist(w.lower() for w in allWords if w not in stopwords)    "
   ]
  }
 ],
 "metadata": {
  "kernelspec": {
   "display_name": "Python 3",
   "language": "python",
   "name": "python3"
  },
  "language_info": {
   "codemirror_mode": {
    "name": "ipython",
    "version": 3
   },
   "file_extension": ".py",
   "mimetype": "text/x-python",
   "name": "python",
   "nbconvert_exporter": "python",
   "pygments_lexer": "ipython3",
   "version": "3.8.8"
  },
  "toc": {
   "base_numbering": 1,
   "nav_menu": {},
   "number_sections": true,
   "sideBar": true,
   "skip_h1_title": false,
   "title_cell": "Table of Contents",
   "title_sidebar": "Contents",
   "toc_cell": false,
   "toc_position": {},
   "toc_section_display": true,
   "toc_window_display": false
  },
  "varInspector": {
   "cols": {
    "lenName": 16,
    "lenType": 16,
    "lenVar": 40
   },
   "kernels_config": {
    "python": {
     "delete_cmd_postfix": "",
     "delete_cmd_prefix": "del ",
     "library": "var_list.py",
     "varRefreshCmd": "print(var_dic_list())"
    },
    "r": {
     "delete_cmd_postfix": ") ",
     "delete_cmd_prefix": "rm(",
     "library": "var_list.r",
     "varRefreshCmd": "cat(var_dic_list()) "
    }
   },
   "types_to_exclude": [
    "module",
    "function",
    "builtin_function_or_method",
    "instance",
    "_Feature"
   ],
   "window_display": false
  }
 },
 "nbformat": 4,
 "nbformat_minor": 5
}
