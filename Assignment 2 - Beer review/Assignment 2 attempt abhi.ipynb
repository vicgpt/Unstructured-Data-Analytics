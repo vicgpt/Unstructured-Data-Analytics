{
  "nbformat": 4,
  "nbformat_minor": 5,
  "metadata": {
    "hide_input": false,
    "kernelspec": {
      "display_name": "Python 3",
      "language": "python",
      "name": "python3"
    },
    "toc": {
      "base_numbering": 1,
      "nav_menu": {},
      "number_sections": true,
      "sideBar": true,
      "skip_h1_title": false,
      "title_cell": "Table of Contents",
      "title_sidebar": "Contents",
      "toc_cell": false,
      "toc_position": {},
      "toc_section_display": true,
      "toc_window_display": false
    },
    "varInspector": {
      "cols": {
        "lenName": 16,
        "lenType": 16,
        "lenVar": 40
      },
      "kernels_config": {
        "python": {
          "delete_cmd_postfix": "",
          "delete_cmd_prefix": "del ",
          "library": "var_list.py",
          "varRefreshCmd": "print(var_dic_list())"
        },
        "r": {
          "delete_cmd_postfix": ") ",
          "delete_cmd_prefix": "rm(",
          "library": "var_list.r",
          "varRefreshCmd": "cat(var_dic_list()) "
        }
      },
      "types_to_exclude": [
        "module",
        "function",
        "builtin_function_or_method",
        "instance",
        "_Feature"
      ],
      "window_display": false
    },
    "colab": {
      "name": "Assignment 2 attempt abhi.ipynb",
      "provenance": [],
      "collapsed_sections": []
    }
  },
  "cells": [
    {
      "cell_type": "code",
      "metadata": {
        "id": "587df2df"
      },
      "source": [
        "import pandas as pd\n",
        "import numpy as np\n",
        "import matplotlib.pyplot as plt\n",
        "plt.rcParams['figure.figsize'] = [16, 5]\n",
        "import seaborn as sns\n",
        "\n",
        "from nltk import word_tokenize,Counter,FreqDist\n",
        "from nltk.corpus import stopwords\n",
        "import string\n",
        "\n",
        "from sklearn.feature_extraction.text import CountVectorizer, TfidfVectorizer\n",
        "\n",
        "from sklearn.metrics.pairwise import cosine_similarity #Cosine included in spacy\n",
        "\n",
        "import warnings\n",
        "warnings.filterwarnings('ignore')\n",
        "\n",
        "#from collections import Counter"
      ],
      "id": "587df2df",
      "execution_count": 1,
      "outputs": []
    },
    {
      "cell_type": "code",
      "metadata": {
        "id": "45712a8f",
        "colab": {
          "base_uri": "https://localhost:8080/",
          "height": 204
        },
        "outputId": "b92a7a90-74ad-4151-8861-c3544265c3e6"
      },
      "source": [
        "# reading the data\n",
        "#from google.colab import files\n",
        "#data = files.upload()\n",
        "data = pd.read_csv('beer_reviews.csv')\n",
        "\n",
        "# removing nulls\n",
        "data = data.dropna().reset_index(drop=True)\n",
        "data.isnull().sum()\n",
        "\n",
        "# taking latest 6000 comments only\n",
        "#print(len(data))\n",
        "data = data.tail(len(data))\n",
        "data.reset_index(drop=True, inplace=True)\n",
        "\n",
        "# lowering the review for consistency\n",
        "data['product_review'] = data['product_review'].str.lower()\n",
        "\n",
        "#Data cleaning\n",
        "data.drop([data.columns[0]],axis=1,inplace=True)\n",
        "data.head()"
      ],
      "id": "45712a8f",
      "execution_count": 2,
      "outputs": [
        {
          "output_type": "execute_result",
          "data": {
            "text/html": [
              "<div>\n",
              "<style scoped>\n",
              "    .dataframe tbody tr th:only-of-type {\n",
              "        vertical-align: middle;\n",
              "    }\n",
              "\n",
              "    .dataframe tbody tr th {\n",
              "        vertical-align: top;\n",
              "    }\n",
              "\n",
              "    .dataframe thead th {\n",
              "        text-align: right;\n",
              "    }\n",
              "</style>\n",
              "<table border=\"1\" class=\"dataframe\">\n",
              "  <thead>\n",
              "    <tr style=\"text-align: right;\">\n",
              "      <th></th>\n",
              "      <th>product_name</th>\n",
              "      <th>product_review</th>\n",
              "      <th>user_rating</th>\n",
              "    </tr>\n",
              "  </thead>\n",
              "  <tbody>\n",
              "    <tr>\n",
              "      <th>0</th>\n",
              "      <td>Kentucky Brunch Brand Stout</td>\n",
              "      <td>long time waiting to tick this one, and i have...</td>\n",
              "      <td>4.56</td>\n",
              "    </tr>\n",
              "    <tr>\n",
              "      <th>1</th>\n",
              "      <td>Kentucky Brunch Brand Stout</td>\n",
              "      <td>this review is for the 2019 batch. it was bott...</td>\n",
              "      <td>5.00</td>\n",
              "    </tr>\n",
              "    <tr>\n",
              "      <th>2</th>\n",
              "      <td>Kentucky Brunch Brand Stout</td>\n",
              "      <td>supreme maple od! soooo easy drinking &amp; well-t...</td>\n",
              "      <td>5.00</td>\n",
              "    </tr>\n",
              "    <tr>\n",
              "      <th>3</th>\n",
              "      <td>Kentucky Brunch Brand Stout</td>\n",
              "      <td>i have now had 4 different years of kbbs and c...</td>\n",
              "      <td>5.00</td>\n",
              "    </tr>\n",
              "    <tr>\n",
              "      <th>4</th>\n",
              "      <td>Kentucky Brunch Brand Stout</td>\n",
              "      <td>2020 bottle.  absolutely bonkers maple syrup o...</td>\n",
              "      <td>5.00</td>\n",
              "    </tr>\n",
              "  </tbody>\n",
              "</table>\n",
              "</div>"
            ],
            "text/plain": [
              "                  product_name  ... user_rating\n",
              "0  Kentucky Brunch Brand Stout  ...        4.56\n",
              "1  Kentucky Brunch Brand Stout  ...        5.00\n",
              "2  Kentucky Brunch Brand Stout  ...        5.00\n",
              "3  Kentucky Brunch Brand Stout  ...        5.00\n",
              "4  Kentucky Brunch Brand Stout  ...        5.00\n",
              "\n",
              "[5 rows x 3 columns]"
            ]
          },
          "metadata": {},
          "execution_count": 2
        }
      ]
    },
    {
      "cell_type": "code",
      "metadata": {
        "id": "12e84416",
        "colab": {
          "base_uri": "https://localhost:8080/"
        },
        "outputId": "72273fe7-f4ab-49c2-a693-03892a01fc7f"
      },
      "source": [
        "data.shape"
      ],
      "id": "12e84416",
      "execution_count": 3,
      "outputs": [
        {
          "output_type": "execute_result",
          "data": {
            "text/plain": [
              "(6226, 3)"
            ]
          },
          "metadata": {},
          "execution_count": 3
        }
      ]
    },
    {
      "cell_type": "code",
      "metadata": {
        "id": "8f76d763",
        "colab": {
          "base_uri": "https://localhost:8080/"
        },
        "outputId": "572ef990-2d66-4459-f78f-f8ce91d75fc9"
      },
      "source": [
        "data.isnull().sum()"
      ],
      "id": "8f76d763",
      "execution_count": 4,
      "outputs": [
        {
          "output_type": "execute_result",
          "data": {
            "text/plain": [
              "product_name      0\n",
              "product_review    0\n",
              "user_rating       0\n",
              "dtype: int64"
            ]
          },
          "metadata": {},
          "execution_count": 4
        }
      ]
    },
    {
      "cell_type": "markdown",
      "metadata": {
        "id": "901506dc"
      },
      "source": [
        "### Task B - Find attributes"
      ],
      "id": "901506dc"
    },
    {
      "cell_type": "code",
      "metadata": {
        "id": "__ldOJwyvGFi"
      },
      "source": [
        "import nltk\n",
        "#nltk.download('averaged_perceptron_tagger')\n",
        "#Do we need spell-check and lemmatization below?"
      ],
      "id": "__ldOJwyvGFi",
      "execution_count": 5,
      "outputs": []
    },
    {
      "cell_type": "code",
      "metadata": {
        "id": "22a39bcf"
      },
      "source": [
        "# creating the text from comments \n",
        "\n",
        "data['product_review'] = data['product_review'].str.replace(r'[^\\w\\s]+', '') #If quote needs to be removed, else considered in tokenization\n",
        "text = ' '.join(data['product_review'])\n",
        "\n",
        "#Create function\n",
        "def getAttribute(text):\n",
        "\n",
        "\n",
        "    # getting stopword list from nltk\n",
        "    stop_words = stopwords.words('english')\n",
        "    stopwords_dict = Counter(stop_words)\n",
        "    #print(stopwords_dict)\n",
        "\n",
        "    #text = text.replace(\"'\",\"\")\n",
        "    text_nostop = ' '.join([word for word in text.split() if word not in stopwords_dict])\n",
        "    text_nostop = \"\".join(l for l in text_nostop if l not in string.punctuation)\n",
        "    text_nostop\n",
        "    #print(text_nostop)\n",
        "\n",
        "    # tokenizing words\n",
        "    text_token = word_tokenize(text_nostop)\n",
        "    #print(text_token[0:10])\n",
        "    \n",
        "    #Word Frequency analysis\n",
        "    fdist1 = FreqDist(text_token)\n",
        "    filtered_word_freq = dict((word, freq) for word, freq in fdist1.items() if not word.isdigit())\n",
        "    #print(filtered_word_freq)\n",
        "    sorted_dict = {k: v for k, v in sorted(filtered_word_freq.items(),reverse=True, key=lambda x: x[1])}\n",
        "    #print(sorted_dict)\n",
        "    \n",
        "    #Extract attributes\n",
        "    tagged_tokens = nltk.pos_tag(sorted_dict.keys())\n",
        "    #print(tagged_tokens)\n",
        "    \n",
        "    #Attributes\n",
        "    adj = [token[0] for token in tagged_tokens if token[1] in ['JJ']]\n",
        "    #print(adj)\n",
        "    \n",
        "    #Filtered sorted dict\n",
        "    sorted_dict_fil = {k:v for k,v in sorted_dict.items() if k in adj}\n",
        "    #print(sorted_dict_fil)\n",
        "    \n",
        "    return adj, sorted_dict_fil\n"
      ],
      "id": "22a39bcf",
      "execution_count": 6,
      "outputs": []
    },
    {
      "cell_type": "code",
      "metadata": {
        "colab": {
          "base_uri": "https://localhost:8080/",
          "height": 495
        },
        "id": "5BMct9NFzMng",
        "outputId": "51ca2468-c068-4ab1-cee4-0861969540ba"
      },
      "source": [
        "nltk.download('stopwords')\n",
        "nltk.download('punkt')\n",
        "nltk.download('averaged_perceptron_tagger')\n",
        "adj, sorted_dict_fil = getAttribute(text=text)\n",
        "df = pd.DataFrame([sorted_dict_fil]).T.rename({0:'Freq'},axis=1)\n",
        "df.reset_index().to_csv('Token Frequency.csv')\n",
        "df.head(10)"
      ],
      "id": "5BMct9NFzMng",
      "execution_count": 7,
      "outputs": [
        {
          "output_type": "stream",
          "name": "stdout",
          "text": [
            "[nltk_data] Downloading package stopwords to /root/nltk_data...\n",
            "[nltk_data]   Package stopwords is already up-to-date!\n",
            "[nltk_data] Downloading package punkt to /root/nltk_data...\n",
            "[nltk_data]   Package punkt is already up-to-date!\n",
            "[nltk_data] Downloading package averaged_perceptron_tagger to\n",
            "[nltk_data]     /root/nltk_data...\n",
            "[nltk_data]   Package averaged_perceptron_tagger is already up-to-\n",
            "[nltk_data]       date!\n"
          ]
        },
        {
          "output_type": "execute_result",
          "data": {
            "text/html": [
              "<div>\n",
              "<style scoped>\n",
              "    .dataframe tbody tr th:only-of-type {\n",
              "        vertical-align: middle;\n",
              "    }\n",
              "\n",
              "    .dataframe tbody tr th {\n",
              "        vertical-align: top;\n",
              "    }\n",
              "\n",
              "    .dataframe thead th {\n",
              "        text-align: right;\n",
              "    }\n",
              "</style>\n",
              "<table border=\"1\" class=\"dataframe\">\n",
              "  <thead>\n",
              "    <tr style=\"text-align: right;\">\n",
              "      <th></th>\n",
              "      <th>Freq</th>\n",
              "    </tr>\n",
              "  </thead>\n",
              "  <tbody>\n",
              "    <tr>\n",
              "      <th>dark</th>\n",
              "      <td>2739</td>\n",
              "    </tr>\n",
              "    <tr>\n",
              "      <th>nice</th>\n",
              "      <td>2057</td>\n",
              "    </tr>\n",
              "    <tr>\n",
              "      <th>good</th>\n",
              "      <td>1959</td>\n",
              "    </tr>\n",
              "    <tr>\n",
              "      <th>light</th>\n",
              "      <td>1830</td>\n",
              "    </tr>\n",
              "    <tr>\n",
              "      <th>finish</th>\n",
              "      <td>1806</td>\n",
              "    </tr>\n",
              "    <tr>\n",
              "      <th>bottle</th>\n",
              "      <td>1705</td>\n",
              "    </tr>\n",
              "    <tr>\n",
              "      <th>body</th>\n",
              "      <td>1638</td>\n",
              "    </tr>\n",
              "    <tr>\n",
              "      <th>overall</th>\n",
              "      <td>1617</td>\n",
              "    </tr>\n",
              "    <tr>\n",
              "      <th>black</th>\n",
              "      <td>1578</td>\n",
              "    </tr>\n",
              "    <tr>\n",
              "      <th>white</th>\n",
              "      <td>1563</td>\n",
              "    </tr>\n",
              "  </tbody>\n",
              "</table>\n",
              "</div>"
            ],
            "text/plain": [
              "         Freq\n",
              "dark     2739\n",
              "nice     2057\n",
              "good     1959\n",
              "light    1830\n",
              "finish   1806\n",
              "bottle   1705\n",
              "body     1638\n",
              "overall  1617\n",
              "black    1578\n",
              "white    1563"
            ]
          },
          "metadata": {},
          "execution_count": 7
        }
      ]
    },
    {
      "cell_type": "code",
      "metadata": {
        "colab": {
          "base_uri": "https://localhost:8080/",
          "height": 1000
        },
        "id": "X_97o4fx5ZMh",
        "outputId": "8f7780ae-9d37-474a-b155-82b9ef7047a6"
      },
      "source": [
        "#Plot word frequency\n",
        "for i in range(6):\n",
        "    df[(df['Freq'] >= df['Freq'][25*(i+1)]) & (df['Freq'] <= df['Freq'][25*i])].plot(kind='bar')\n"
      ],
      "id": "X_97o4fx5ZMh",
      "execution_count": 8,
      "outputs": [
        {
          "output_type": "display_data",
          "data": {
            "image/png": "[encoded data removed]",
            "text/plain": [
              "<Figure size 432x288 with 1 Axes>"
            ]
          },
          "metadata": {
            "needs_background": "light"
          }
        },
        {
          "output_type": "display_data",
          "data": {
            "image/png": "[encoded data removed]",
            "text/plain": [
              "<Figure size 432x288 with 1 Axes>"
            ]
          },
          "metadata": {
            "needs_background": "light"
          }
        },
        {
          "output_type": "display_data",
          "data": {
            "image/png": "[encoded data removed]",
            "text/plain": [
              "<Figure size 432x288 with 1 Axes>"
            ]
          },
          "metadata": {
            "needs_background": "light"
          }
        },
        {
          "output_type": "display_data",
          "data": {
            "image/png": "[encoded data removed]",
            "text/plain": [
              "<Figure size 432x288 with 1 Axes>"
            ]
          },
          "metadata": {
            "needs_background": "light"
          }
        },
        {
          "output_type": "display_data",
          "data": {
            "image/png": "[encoded data removed]",
            "text/plain": [
              "<Figure size 432x288 with 1 Axes>"
            ]
          },
          "metadata": {
            "needs_background": "light"
          }
        },
        {
          "output_type": "display_data",
          "data": {
            "image/png": "[encoded data removed]",
            "text/plain": [
              "<Figure size 432x288 with 1 Axes>"
            ]
          },
          "metadata": {
            "needs_background": "light"
          }
        }
      ]
    },
    {
      "cell_type": "markdown",
      "metadata": {
        "id": "2OpDPD-l7Z2G"
      },
      "source": [
        "We avail the following beer-related attributes using the word frequency. We could enrich the analysis by further lemmatizing the tokens but above word frequency plots are able to provide us with a good idea around the types of beers we see in customer reviews.\n",
        "\n",
        "\n",
        "1.   Taste : Bitter, Delicious, Sourness, Musty <br>\n",
        "2.   Body : Light, Dark, Black, White, <br>\n",
        "3.   Texture : Smooth, Thick, Creamy, Dry, Viscous <br>\n",
        "4. Color : Black, White, Golden, Yellow\n",
        "5. Type : Sweet, Dry (Malty), Hop, Herbal, Bold, Lambic, Grassy, Oaky, Citrusy\n",
        "\n",
        "\n",
        "Given all above are adjectives, we can use them all as the attributes of beer provided at a customer level to enrich cosine similarity scores.\n",
        "\n",
        "\n",
        "\n"
      ],
      "id": "2OpDPD-l7Z2G"
    },
    {
      "cell_type": "code",
      "metadata": {
        "colab": {
          "base_uri": "https://localhost:8080/",
          "height": 359
        },
        "id": "3AK_ARfw7ZNP",
        "outputId": "3025e578-609d-48d5-8155-2491d4b6165e"
      },
      "source": [
        "data.head(10)"
      ],
      "id": "3AK_ARfw7ZNP",
      "execution_count": 9,
      "outputs": [
        {
          "output_type": "execute_result",
          "data": {
            "text/html": [
              "<div>\n",
              "<style scoped>\n",
              "    .dataframe tbody tr th:only-of-type {\n",
              "        vertical-align: middle;\n",
              "    }\n",
              "\n",
              "    .dataframe tbody tr th {\n",
              "        vertical-align: top;\n",
              "    }\n",
              "\n",
              "    .dataframe thead th {\n",
              "        text-align: right;\n",
              "    }\n",
              "</style>\n",
              "<table border=\"1\" class=\"dataframe\">\n",
              "  <thead>\n",
              "    <tr style=\"text-align: right;\">\n",
              "      <th></th>\n",
              "      <th>product_name</th>\n",
              "      <th>product_review</th>\n",
              "      <th>user_rating</th>\n",
              "    </tr>\n",
              "  </thead>\n",
              "  <tbody>\n",
              "    <tr>\n",
              "      <th>0</th>\n",
              "      <td>Kentucky Brunch Brand Stout</td>\n",
              "      <td>long time waiting to tick this one and i have ...</td>\n",
              "      <td>4.56</td>\n",
              "    </tr>\n",
              "    <tr>\n",
              "      <th>1</th>\n",
              "      <td>Kentucky Brunch Brand Stout</td>\n",
              "      <td>this review is for the 2019 batch it was bottl...</td>\n",
              "      <td>5.00</td>\n",
              "    </tr>\n",
              "    <tr>\n",
              "      <th>2</th>\n",
              "      <td>Kentucky Brunch Brand Stout</td>\n",
              "      <td>supreme maple od soooo easy drinking  welltast...</td>\n",
              "      <td>5.00</td>\n",
              "    </tr>\n",
              "    <tr>\n",
              "      <th>3</th>\n",
              "      <td>Kentucky Brunch Brand Stout</td>\n",
              "      <td>i have now had 4 different years of kbbs and c...</td>\n",
              "      <td>5.00</td>\n",
              "    </tr>\n",
              "    <tr>\n",
              "      <th>4</th>\n",
              "      <td>Kentucky Brunch Brand Stout</td>\n",
              "      <td>2020 bottle  absolutely bonkers maple syrup on...</td>\n",
              "      <td>5.00</td>\n",
              "    </tr>\n",
              "    <tr>\n",
              "      <th>5</th>\n",
              "      <td>Kentucky Brunch Brand Stout</td>\n",
              "      <td>some burnt sugar and a bit of licorice nice da...</td>\n",
              "      <td>4.45</td>\n",
              "    </tr>\n",
              "    <tr>\n",
              "      <th>6</th>\n",
              "      <td>Kentucky Brunch Brand Stout</td>\n",
              "      <td>bottle  presidential suite thanks adam redempt...</td>\n",
              "      <td>4.15</td>\n",
              "    </tr>\n",
              "    <tr>\n",
              "      <th>7</th>\n",
              "      <td>Kentucky Brunch Brand Stout</td>\n",
              "      <td>the look is great and then its downhill after ...</td>\n",
              "      <td>2.88</td>\n",
              "    </tr>\n",
              "    <tr>\n",
              "      <th>8</th>\n",
              "      <td>Kentucky Brunch Brand Stout</td>\n",
              "      <td>this dark nectar poured like a heavenly scente...</td>\n",
              "      <td>5.00</td>\n",
              "    </tr>\n",
              "    <tr>\n",
              "      <th>9</th>\n",
              "      <td>Kentucky Brunch Brand Stout</td>\n",
              "      <td>is this the best beer in the world many would ...</td>\n",
              "      <td>5.00</td>\n",
              "    </tr>\n",
              "  </tbody>\n",
              "</table>\n",
              "</div>"
            ],
            "text/plain": [
              "                  product_name  ... user_rating\n",
              "0  Kentucky Brunch Brand Stout  ...        4.56\n",
              "1  Kentucky Brunch Brand Stout  ...        5.00\n",
              "2  Kentucky Brunch Brand Stout  ...        5.00\n",
              "3  Kentucky Brunch Brand Stout  ...        5.00\n",
              "4  Kentucky Brunch Brand Stout  ...        5.00\n",
              "5  Kentucky Brunch Brand Stout  ...        4.45\n",
              "6  Kentucky Brunch Brand Stout  ...        4.15\n",
              "7  Kentucky Brunch Brand Stout  ...        2.88\n",
              "8  Kentucky Brunch Brand Stout  ...        5.00\n",
              "9  Kentucky Brunch Brand Stout  ...        5.00\n",
              "\n",
              "[10 rows x 3 columns]"
            ]
          },
          "metadata": {},
          "execution_count": 9
        }
      ]
    },
    {
      "cell_type": "code",
      "metadata": {
        "colab": {
          "base_uri": "https://localhost:8080/",
          "height": 359
        },
        "id": "4bTz1o1P7Y7c",
        "outputId": "54f7fc0d-35d2-4aa9-e2c2-749f997d4c25"
      },
      "source": [
        "data['beer_attributes'] = data['product_review'].apply(lambda x : ' '.join(getAttribute(x)[0]))\n",
        "\n",
        "#358 documents with less than 20 characters of attributes, replacing them with full text to avoid loss of recommendations from these\n",
        "#len(data['beer_attributes'][data['beer_attributes'].apply(len) <= 20])\n",
        "data['beer_attributes'][data['beer_attributes'].apply(len) <= 20] = data['product_review']\n",
        "\n",
        "\n",
        "data.head(10)"
      ],
      "id": "4bTz1o1P7Y7c",
      "execution_count": 10,
      "outputs": [
        {
          "output_type": "execute_result",
          "data": {
            "text/html": [
              "<div>\n",
              "<style scoped>\n",
              "    .dataframe tbody tr th:only-of-type {\n",
              "        vertical-align: middle;\n",
              "    }\n",
              "\n",
              "    .dataframe tbody tr th {\n",
              "        vertical-align: top;\n",
              "    }\n",
              "\n",
              "    .dataframe thead th {\n",
              "        text-align: right;\n",
              "    }\n",
              "</style>\n",
              "<table border=\"1\" class=\"dataframe\">\n",
              "  <thead>\n",
              "    <tr style=\"text-align: right;\">\n",
              "      <th></th>\n",
              "      <th>product_name</th>\n",
              "      <th>product_review</th>\n",
              "      <th>user_rating</th>\n",
              "      <th>beer_attributes</th>\n",
              "    </tr>\n",
              "  </thead>\n",
              "  <tbody>\n",
              "    <tr>\n",
              "      <th>0</th>\n",
              "      <td>Kentucky Brunch Brand Stout</td>\n",
              "      <td>long time waiting to tick this one and i have ...</td>\n",
              "      <td>4.56</td>\n",
              "      <td>long tick underwhelmed delicious maple overall...</td>\n",
              "    </tr>\n",
              "    <tr>\n",
              "      <th>1</th>\n",
              "      <td>Kentucky Brunch Brand Stout</td>\n",
              "      <td>this review is for the 2019 batch it was bottl...</td>\n",
              "      <td>5.00</td>\n",
              "      <td>thick black warm nose full difficult</td>\n",
              "    </tr>\n",
              "    <tr>\n",
              "      <th>2</th>\n",
              "      <td>Kentucky Brunch Brand Stout</td>\n",
              "      <td>supreme maple od soooo easy drinking  welltast...</td>\n",
              "      <td>5.00</td>\n",
              "      <td>supreme maple od soooo easy drinking  welltast...</td>\n",
              "    </tr>\n",
              "    <tr>\n",
              "      <th>3</th>\n",
              "      <td>Kentucky Brunch Brand Stout</td>\n",
              "      <td>i have now had 4 different years of kbbs and c...</td>\n",
              "      <td>5.00</td>\n",
              "      <td>different dark burnt maple super sticky huge last</td>\n",
              "    </tr>\n",
              "    <tr>\n",
              "      <th>4</th>\n",
              "      <td>Kentucky Brunch Brand Stout</td>\n",
              "      <td>2020 bottle  absolutely bonkers maple syrup on...</td>\n",
              "      <td>5.00</td>\n",
              "      <td>maple nose minute french</td>\n",
              "    </tr>\n",
              "    <tr>\n",
              "      <th>5</th>\n",
              "      <td>Kentucky Brunch Brand Stout</td>\n",
              "      <td>some burnt sugar and a bit of licorice nice da...</td>\n",
              "      <td>4.45</td>\n",
              "      <td>nice good licorice plenty toffee decent</td>\n",
              "    </tr>\n",
              "    <tr>\n",
              "      <th>6</th>\n",
              "      <td>Kentucky Brunch Brand Stout</td>\n",
              "      <td>bottle  presidential suite thanks adam redempt...</td>\n",
              "      <td>4.15</td>\n",
              "      <td>nice good presidential suite guppy black licor...</td>\n",
              "    </tr>\n",
              "    <tr>\n",
              "      <th>7</th>\n",
              "      <td>Kentucky Brunch Brand Stout</td>\n",
              "      <td>the look is great and then its downhill after ...</td>\n",
              "      <td>2.88</td>\n",
              "      <td>great much stoutthe new isnt</td>\n",
              "    </tr>\n",
              "    <tr>\n",
              "      <th>8</th>\n",
              "      <td>Kentucky Brunch Brand Stout</td>\n",
              "      <td>this dark nectar poured like a heavenly scente...</td>\n",
              "      <td>5.00</td>\n",
              "      <td>this dark nectar poured like a heavenly scente...</td>\n",
              "    </tr>\n",
              "    <tr>\n",
              "      <th>9</th>\n",
              "      <td>Kentucky Brunch Brand Stout</td>\n",
              "      <td>is this the best beer in the world many would ...</td>\n",
              "      <td>5.00</td>\n",
              "      <td>many true goliath hard rich smooth sweet grand</td>\n",
              "    </tr>\n",
              "  </tbody>\n",
              "</table>\n",
              "</div>"
            ],
            "text/plain": [
              "                  product_name  ...                                    beer_attributes\n",
              "0  Kentucky Brunch Brand Stout  ...  long tick underwhelmed delicious maple overall...\n",
              "1  Kentucky Brunch Brand Stout  ...               thick black warm nose full difficult\n",
              "2  Kentucky Brunch Brand Stout  ...  supreme maple od soooo easy drinking  welltast...\n",
              "3  Kentucky Brunch Brand Stout  ...  different dark burnt maple super sticky huge last\n",
              "4  Kentucky Brunch Brand Stout  ...                           maple nose minute french\n",
              "5  Kentucky Brunch Brand Stout  ...            nice good licorice plenty toffee decent\n",
              "6  Kentucky Brunch Brand Stout  ...  nice good presidential suite guppy black licor...\n",
              "7  Kentucky Brunch Brand Stout  ...                       great much stoutthe new isnt\n",
              "8  Kentucky Brunch Brand Stout  ...  this dark nectar poured like a heavenly scente...\n",
              "9  Kentucky Brunch Brand Stout  ...     many true goliath hard rich smooth sweet grand\n",
              "\n",
              "[10 rows x 4 columns]"
            ]
          },
          "metadata": {},
          "execution_count": 10
        }
      ]
    },
    {
      "cell_type": "markdown",
      "metadata": {
        "id": "N1kKw2HxEOty"
      },
      "source": [
        "### Task C : Cosine Similarity"
      ],
      "id": "N1kKw2HxEOty"
    },
    {
      "cell_type": "code",
      "metadata": {
        "colab": {
          "base_uri": "https://localhost:8080/"
        },
        "id": "eN4Qf7F47ZPL",
        "outputId": "1f32c010-037f-4f35-9c49-ed8c02c0bbb1"
      },
      "source": [
        "#Let us consider attributes not occuring on top of our data to check whether cosine similarity helps recommend correct products\n",
        "attr_query = ['aggressive','hoppy','fruity']\n",
        "attr_query = [x.lower() for x in attr_query]\n",
        "attr_query"
      ],
      "id": "eN4Qf7F47ZPL",
      "execution_count": 11,
      "outputs": [
        {
          "output_type": "execute_result",
          "data": {
            "text/plain": [
              "['aggressive', 'hoppy', 'fruity']"
            ]
          },
          "metadata": {},
          "execution_count": 11
        }
      ]
    },
    {
      "cell_type": "code",
      "metadata": {
        "id": "7869b15c",
        "colab": {
          "base_uri": "https://localhost:8080/",
          "height": 529
        },
        "outputId": "d81b6a8d-7297-4083-f68f-0aa4039546c8"
      },
      "source": [
        "#Check cosine similary on full texts or identified attributes\n",
        "import spacy\n",
        "nlp = spacy.load(\"en_core_web_sm\")\n",
        "#attributes_nlp = nlp(' '.join(attr_query))\n",
        "\n",
        "# def getCosine(text_,attr_):\n",
        "#     text_ = nlp(text_)\n",
        "#     return (text_.similarity(attr_))\n",
        "#stemmer = nltk.stem.porter.PorterStemmer()\n",
        "remove_punctuation_map = dict((ord(char), None) for char in string.punctuation)\n",
        "\n",
        "# def stem_tokens(tokens):\n",
        "#     return [stemmer.stem(item) for item in tokens]\n",
        "\n",
        "def normalize(text):\n",
        "    return nltk.word_tokenize(text.lower().translate(remove_punctuation_map))\n",
        "\n",
        "\n",
        "vectorizer = TfidfVectorizer(tokenizer=normalize, stop_words='english')\n",
        "\n",
        "def getCosine(text1, text2 = ' '.join(attr_query)):\n",
        "    tfidf = vectorizer.fit_transform([text1, text2])\n",
        "    return (((tfidf * tfidf.T).A)[0,1])\n",
        "\n",
        "data['Cosine_review'] =  data['product_review'].apply(lambda x : getCosine(x, text2 = ' '.join(attr_query)))\n",
        "data['Cosine_attribute'] =  data['beer_attributes'].apply(lambda x : getCosine(x, text2 = ' '.join(attr_query)))\n",
        "data.sort_values(['Cosine_review','Cosine_attribute'],ascending=False).head(10)\n"
      ],
      "id": "7869b15c",
      "execution_count": 12,
      "outputs": [
        {
          "output_type": "execute_result",
          "data": {
            "text/html": [
              "<div>\n",
              "<style scoped>\n",
              "    .dataframe tbody tr th:only-of-type {\n",
              "        vertical-align: middle;\n",
              "    }\n",
              "\n",
              "    .dataframe tbody tr th {\n",
              "        vertical-align: top;\n",
              "    }\n",
              "\n",
              "    .dataframe thead th {\n",
              "        text-align: right;\n",
              "    }\n",
              "</style>\n",
              "<table border=\"1\" class=\"dataframe\">\n",
              "  <thead>\n",
              "    <tr style=\"text-align: right;\">\n",
              "      <th></th>\n",
              "      <th>product_name</th>\n",
              "      <th>product_review</th>\n",
              "      <th>user_rating</th>\n",
              "      <th>beer_attributes</th>\n",
              "      <th>Cosine_review</th>\n",
              "      <th>Cosine_attribute</th>\n",
              "    </tr>\n",
              "  </thead>\n",
              "  <tbody>\n",
              "    <tr>\n",
              "      <th>344</th>\n",
              "      <td>Pliny The Elder</td>\n",
              "      <td>bottle kindly shared by gunnar deep golden to ...</td>\n",
              "      <td>4.30</td>\n",
              "      <td>hoppy gunnar deep golden moderate white nice h...</td>\n",
              "      <td>0.274454</td>\n",
              "      <td>0.109643</td>\n",
              "    </tr>\n",
              "    <tr>\n",
              "      <th>5876</th>\n",
              "      <td>Vicinity</td>\n",
              "      <td>canned 092320 pours a hazy yellow with some li...</td>\n",
              "      <td>4.21</td>\n",
              "      <td>hazy yellow white strong tropical smooth thick...</td>\n",
              "      <td>0.190653</td>\n",
              "      <td>0.103716</td>\n",
              "    </tr>\n",
              "    <tr>\n",
              "      <th>2200</th>\n",
              "      <td>Galaxy Dry Hopped Fort Point Pale Ale</td>\n",
              "      <td>112014  wow this is amazing incredible aromas ...</td>\n",
              "      <td>4.58</td>\n",
              "      <td>incredible dank sweet hoppy good</td>\n",
              "      <td>0.168165</td>\n",
              "      <td>0.150640</td>\n",
              "    </tr>\n",
              "    <tr>\n",
              "      <th>4407</th>\n",
              "      <td>Hopslam Ale</td>\n",
              "      <td>great super hoppy beer it was one of the first...</td>\n",
              "      <td>4.21</td>\n",
              "      <td>hoppy great super first much</td>\n",
              "      <td>0.164995</td>\n",
              "      <td>0.201993</td>\n",
              "    </tr>\n",
              "    <tr>\n",
              "      <th>1858</th>\n",
              "      <td>Sip Of Sunshine</td>\n",
              "      <td>i can still remember the first time i had this...</td>\n",
              "      <td>5.00</td>\n",
              "      <td>i can still remember the first time i had this...</td>\n",
              "      <td>0.163683</td>\n",
              "      <td>0.163683</td>\n",
              "    </tr>\n",
              "    <tr>\n",
              "      <th>1530</th>\n",
              "      <td>Citra</td>\n",
              "      <td>022015  pineapple and mango fosho with mild pi...</td>\n",
              "      <td>4.44</td>\n",
              "      <td>mild pine aromas nice hoppy tropical sweet wee...</td>\n",
              "      <td>0.159541</td>\n",
              "      <td>0.103716</td>\n",
              "    </tr>\n",
              "    <tr>\n",
              "      <th>4251</th>\n",
              "      <td>Saison Bernice</td>\n",
              "      <td>cloudy straw appearance with slight white head...</td>\n",
              "      <td>4.25</td>\n",
              "      <td>cloudy straw appearance with slight white head...</td>\n",
              "      <td>0.155001</td>\n",
              "      <td>0.155001</td>\n",
              "    </tr>\n",
              "    <tr>\n",
              "      <th>4329</th>\n",
              "      <td>Bad Boy</td>\n",
              "      <td>a fantastic big hoppy ipa that is surprisingly...</td>\n",
              "      <td>4.75</td>\n",
              "      <td>hoppy fantastic big easy wonderful</td>\n",
              "      <td>0.150640</td>\n",
              "      <td>0.150640</td>\n",
              "    </tr>\n",
              "    <tr>\n",
              "      <th>1619</th>\n",
              "      <td>Focal Banger</td>\n",
              "      <td>shared can at regional tasting slightly hazy y...</td>\n",
              "      <td>3.71</td>\n",
              "      <td>decent regional hazy yellow white flavour solid</td>\n",
              "      <td>0.142920</td>\n",
              "      <td>0.000000</td>\n",
              "    </tr>\n",
              "    <tr>\n",
              "      <th>1756</th>\n",
              "      <td>Ephraim</td>\n",
              "      <td>this was malty for my tastes and for most hf h...</td>\n",
              "      <td>4.00</td>\n",
              "      <td>this was malty for my tastes and for most hf h...</td>\n",
              "      <td>0.139480</td>\n",
              "      <td>0.139480</td>\n",
              "    </tr>\n",
              "  </tbody>\n",
              "</table>\n",
              "</div>"
            ],
            "text/plain": [
              "                               product_name  ... Cosine_attribute\n",
              "344                         Pliny The Elder  ...         0.109643\n",
              "5876                               Vicinity  ...         0.103716\n",
              "2200  Galaxy Dry Hopped Fort Point Pale Ale  ...         0.150640\n",
              "4407                            Hopslam Ale  ...         0.201993\n",
              "1858                        Sip Of Sunshine  ...         0.163683\n",
              "1530                                  Citra  ...         0.103716\n",
              "4251                         Saison Bernice  ...         0.155001\n",
              "4329                                Bad Boy  ...         0.150640\n",
              "1619                           Focal Banger  ...         0.000000\n",
              "1756                                Ephraim  ...         0.139480\n",
              "\n",
              "[10 rows x 6 columns]"
            ]
          },
          "metadata": {},
          "execution_count": 12
        }
      ]
    },
    {
      "cell_type": "code",
      "metadata": {
        "colab": {
          "base_uri": "https://localhost:8080/",
          "height": 359
        },
        "id": "BDPbWZaHMKhm",
        "outputId": "06078113-1b75-4940-8d8c-7aa3c6262805"
      },
      "source": [
        "#Take average of the cosine similarity by product\n",
        "output_cos = data.loc[:,['product_name','product_review','Cosine_review']].sort_values('Cosine_review',ascending=False)\n",
        "output_cos.to_csv('Output_cos.csv')\n",
        "output_cos.head(10)\n"
      ],
      "id": "BDPbWZaHMKhm",
      "execution_count": 13,
      "outputs": [
        {
          "output_type": "execute_result",
          "data": {
            "text/html": [
              "<div>\n",
              "<style scoped>\n",
              "    .dataframe tbody tr th:only-of-type {\n",
              "        vertical-align: middle;\n",
              "    }\n",
              "\n",
              "    .dataframe tbody tr th {\n",
              "        vertical-align: top;\n",
              "    }\n",
              "\n",
              "    .dataframe thead th {\n",
              "        text-align: right;\n",
              "    }\n",
              "</style>\n",
              "<table border=\"1\" class=\"dataframe\">\n",
              "  <thead>\n",
              "    <tr style=\"text-align: right;\">\n",
              "      <th></th>\n",
              "      <th>product_name</th>\n",
              "      <th>product_review</th>\n",
              "      <th>Cosine_review</th>\n",
              "    </tr>\n",
              "  </thead>\n",
              "  <tbody>\n",
              "    <tr>\n",
              "      <th>344</th>\n",
              "      <td>Pliny The Elder</td>\n",
              "      <td>bottle kindly shared by gunnar deep golden to ...</td>\n",
              "      <td>0.274454</td>\n",
              "    </tr>\n",
              "    <tr>\n",
              "      <th>5876</th>\n",
              "      <td>Vicinity</td>\n",
              "      <td>canned 092320 pours a hazy yellow with some li...</td>\n",
              "      <td>0.190653</td>\n",
              "    </tr>\n",
              "    <tr>\n",
              "      <th>2200</th>\n",
              "      <td>Galaxy Dry Hopped Fort Point Pale Ale</td>\n",
              "      <td>112014  wow this is amazing incredible aromas ...</td>\n",
              "      <td>0.168165</td>\n",
              "    </tr>\n",
              "    <tr>\n",
              "      <th>4407</th>\n",
              "      <td>Hopslam Ale</td>\n",
              "      <td>great super hoppy beer it was one of the first...</td>\n",
              "      <td>0.164995</td>\n",
              "    </tr>\n",
              "    <tr>\n",
              "      <th>1858</th>\n",
              "      <td>Sip Of Sunshine</td>\n",
              "      <td>i can still remember the first time i had this...</td>\n",
              "      <td>0.163683</td>\n",
              "    </tr>\n",
              "    <tr>\n",
              "      <th>1530</th>\n",
              "      <td>Citra</td>\n",
              "      <td>022015  pineapple and mango fosho with mild pi...</td>\n",
              "      <td>0.159541</td>\n",
              "    </tr>\n",
              "    <tr>\n",
              "      <th>4251</th>\n",
              "      <td>Saison Bernice</td>\n",
              "      <td>cloudy straw appearance with slight white head...</td>\n",
              "      <td>0.155001</td>\n",
              "    </tr>\n",
              "    <tr>\n",
              "      <th>4329</th>\n",
              "      <td>Bad Boy</td>\n",
              "      <td>a fantastic big hoppy ipa that is surprisingly...</td>\n",
              "      <td>0.150640</td>\n",
              "    </tr>\n",
              "    <tr>\n",
              "      <th>1619</th>\n",
              "      <td>Focal Banger</td>\n",
              "      <td>shared can at regional tasting slightly hazy y...</td>\n",
              "      <td>0.142920</td>\n",
              "    </tr>\n",
              "    <tr>\n",
              "      <th>1756</th>\n",
              "      <td>Ephraim</td>\n",
              "      <td>this was malty for my tastes and for most hf h...</td>\n",
              "      <td>0.139480</td>\n",
              "    </tr>\n",
              "  </tbody>\n",
              "</table>\n",
              "</div>"
            ],
            "text/plain": [
              "                               product_name  ... Cosine_review\n",
              "344                         Pliny The Elder  ...      0.274454\n",
              "5876                               Vicinity  ...      0.190653\n",
              "2200  Galaxy Dry Hopped Fort Point Pale Ale  ...      0.168165\n",
              "4407                            Hopslam Ale  ...      0.164995\n",
              "1858                        Sip Of Sunshine  ...      0.163683\n",
              "1530                                  Citra  ...      0.159541\n",
              "4251                         Saison Bernice  ...      0.155001\n",
              "4329                                Bad Boy  ...      0.150640\n",
              "1619                           Focal Banger  ...      0.142920\n",
              "1756                                Ephraim  ...      0.139480\n",
              "\n",
              "[10 rows x 3 columns]"
            ]
          },
          "metadata": {},
          "execution_count": 13
        }
      ]
    },
    {
      "cell_type": "markdown",
      "metadata": {
        "id": "FRh635SrR4Ni"
      },
      "source": [
        "### Task D "
      ],
      "id": "FRh635SrR4Ni"
    },
    {
      "cell_type": "code",
      "metadata": {
        "id": "Rn79sL1Nm0it"
      },
      "source": [
        "#!pip install vaderSentiment\n",
        "#!python -m spacy download en_core_web_md\n",
        "#Restart runtime on collab for spacy.load to work"
      ],
      "id": "Rn79sL1Nm0it",
      "execution_count": 14,
      "outputs": []
    },
    {
      "cell_type": "code",
      "metadata": {
        "colab": {
          "base_uri": "https://localhost:8080/",
          "height": 359
        },
        "id": "j0JdF1b2R60Q",
        "outputId": "03619f68-a21b-4bf9-9a16-acd82d9e2c81"
      },
      "source": [
        "#Sentiment analyzer function\n",
        "from vaderSentiment.vaderSentiment import SentimentIntensityAnalyzer\n",
        "\n",
        "analyzer = SentimentIntensityAnalyzer()\n",
        "def getSentiment(sentence):\n",
        "    vs = analyzer.polarity_scores(sentence)\n",
        "    return(vs)\n",
        "\n",
        "output_cos['Sentiment'] = output_cos['product_review'].apply(lambda x : [v for k,v in getSentiment(x).items() if k == 'compound'][0])\n",
        "output_cos.to_csv('Output_cos_sentiment.csv')\n",
        "output_cos.head(10)"
      ],
      "id": "j0JdF1b2R60Q",
      "execution_count": 15,
      "outputs": [
        {
          "output_type": "execute_result",
          "data": {
            "text/html": [
              "<div>\n",
              "<style scoped>\n",
              "    .dataframe tbody tr th:only-of-type {\n",
              "        vertical-align: middle;\n",
              "    }\n",
              "\n",
              "    .dataframe tbody tr th {\n",
              "        vertical-align: top;\n",
              "    }\n",
              "\n",
              "    .dataframe thead th {\n",
              "        text-align: right;\n",
              "    }\n",
              "</style>\n",
              "<table border=\"1\" class=\"dataframe\">\n",
              "  <thead>\n",
              "    <tr style=\"text-align: right;\">\n",
              "      <th></th>\n",
              "      <th>product_name</th>\n",
              "      <th>product_review</th>\n",
              "      <th>Cosine_review</th>\n",
              "      <th>Sentiment</th>\n",
              "    </tr>\n",
              "  </thead>\n",
              "  <tbody>\n",
              "    <tr>\n",
              "      <th>344</th>\n",
              "      <td>Pliny The Elder</td>\n",
              "      <td>bottle kindly shared by gunnar deep golden to ...</td>\n",
              "      <td>0.274454</td>\n",
              "      <td>0.8198</td>\n",
              "    </tr>\n",
              "    <tr>\n",
              "      <th>5876</th>\n",
              "      <td>Vicinity</td>\n",
              "      <td>canned 092320 pours a hazy yellow with some li...</td>\n",
              "      <td>0.190653</td>\n",
              "      <td>0.5187</td>\n",
              "    </tr>\n",
              "    <tr>\n",
              "      <th>2200</th>\n",
              "      <td>Galaxy Dry Hopped Fort Point Pale Ale</td>\n",
              "      <td>112014  wow this is amazing incredible aromas ...</td>\n",
              "      <td>0.168165</td>\n",
              "      <td>0.9365</td>\n",
              "    </tr>\n",
              "    <tr>\n",
              "      <th>4407</th>\n",
              "      <td>Hopslam Ale</td>\n",
              "      <td>great super hoppy beer it was one of the first...</td>\n",
              "      <td>0.164995</td>\n",
              "      <td>0.6757</td>\n",
              "    </tr>\n",
              "    <tr>\n",
              "      <th>1858</th>\n",
              "      <td>Sip Of Sunshine</td>\n",
              "      <td>i can still remember the first time i had this...</td>\n",
              "      <td>0.163683</td>\n",
              "      <td>0.8515</td>\n",
              "    </tr>\n",
              "    <tr>\n",
              "      <th>1530</th>\n",
              "      <td>Citra</td>\n",
              "      <td>022015  pineapple and mango fosho with mild pi...</td>\n",
              "      <td>0.159541</td>\n",
              "      <td>0.6908</td>\n",
              "    </tr>\n",
              "    <tr>\n",
              "      <th>4251</th>\n",
              "      <td>Saison Bernice</td>\n",
              "      <td>cloudy straw appearance with slight white head...</td>\n",
              "      <td>0.155001</td>\n",
              "      <td>0.6914</td>\n",
              "    </tr>\n",
              "    <tr>\n",
              "      <th>4329</th>\n",
              "      <td>Bad Boy</td>\n",
              "      <td>a fantastic big hoppy ipa that is surprisingly...</td>\n",
              "      <td>0.150640</td>\n",
              "      <td>0.9678</td>\n",
              "    </tr>\n",
              "    <tr>\n",
              "      <th>1619</th>\n",
              "      <td>Focal Banger</td>\n",
              "      <td>shared can at regional tasting slightly hazy y...</td>\n",
              "      <td>0.142920</td>\n",
              "      <td>0.3400</td>\n",
              "    </tr>\n",
              "    <tr>\n",
              "      <th>1756</th>\n",
              "      <td>Ephraim</td>\n",
              "      <td>this was malty for my tastes and for most hf h...</td>\n",
              "      <td>0.139480</td>\n",
              "      <td>0.0806</td>\n",
              "    </tr>\n",
              "  </tbody>\n",
              "</table>\n",
              "</div>"
            ],
            "text/plain": [
              "                               product_name  ... Sentiment\n",
              "344                         Pliny The Elder  ...    0.8198\n",
              "5876                               Vicinity  ...    0.5187\n",
              "2200  Galaxy Dry Hopped Fort Point Pale Ale  ...    0.9365\n",
              "4407                            Hopslam Ale  ...    0.6757\n",
              "1858                        Sip Of Sunshine  ...    0.8515\n",
              "1530                                  Citra  ...    0.6908\n",
              "4251                         Saison Bernice  ...    0.6914\n",
              "4329                                Bad Boy  ...    0.9678\n",
              "1619                           Focal Banger  ...    0.3400\n",
              "1756                                Ephraim  ...    0.0806\n",
              "\n",
              "[10 rows x 4 columns]"
            ]
          },
          "metadata": {},
          "execution_count": 15
        }
      ]
    },
    {
      "cell_type": "markdown",
      "metadata": {
        "id": "0DFBIXshdx5b"
      },
      "source": [
        "### Task E"
      ],
      "id": "0DFBIXshdx5b"
    },
    {
      "cell_type": "code",
      "metadata": {
        "colab": {
          "base_uri": "https://localhost:8080/",
          "height": 173
        },
        "id": "Xo7WkQPiUl4i",
        "outputId": "2607f15d-c930-4d3f-8bd7-88d1b810a27f"
      },
      "source": [
        "#Summarize and recommend three best beers\n",
        "output_summ = output_cos.groupby(['product_name'])['Cosine_review','Sentiment'].mean()\n",
        "output_summ['score'] = output_summ['Cosine_review']+output_summ['Sentiment']\n",
        "output_summ.sort_values('score',ascending=False,inplace=True)\n",
        "output_summ.head(3)"
      ],
      "id": "Xo7WkQPiUl4i",
      "execution_count": 16,
      "outputs": [
        {
          "output_type": "execute_result",
          "data": {
            "text/html": [
              "<div>\n",
              "<style scoped>\n",
              "    .dataframe tbody tr th:only-of-type {\n",
              "        vertical-align: middle;\n",
              "    }\n",
              "\n",
              "    .dataframe tbody tr th {\n",
              "        vertical-align: top;\n",
              "    }\n",
              "\n",
              "    .dataframe thead th {\n",
              "        text-align: right;\n",
              "    }\n",
              "</style>\n",
              "<table border=\"1\" class=\"dataframe\">\n",
              "  <thead>\n",
              "    <tr style=\"text-align: right;\">\n",
              "      <th></th>\n",
              "      <th>Cosine_review</th>\n",
              "      <th>Sentiment</th>\n",
              "      <th>score</th>\n",
              "    </tr>\n",
              "    <tr>\n",
              "      <th>product_name</th>\n",
              "      <th></th>\n",
              "      <th></th>\n",
              "      <th></th>\n",
              "    </tr>\n",
              "  </thead>\n",
              "  <tbody>\n",
              "    <tr>\n",
              "      <th>Cable Car Kriek</th>\n",
              "      <td>0.007834</td>\n",
              "      <td>0.908636</td>\n",
              "      <td>0.916470</td>\n",
              "    </tr>\n",
              "    <tr>\n",
              "      <th>Cable Car</th>\n",
              "      <td>0.004732</td>\n",
              "      <td>0.904252</td>\n",
              "      <td>0.908984</td>\n",
              "    </tr>\n",
              "    <tr>\n",
              "      <th>Mother Of All Storms</th>\n",
              "      <td>0.004655</td>\n",
              "      <td>0.904104</td>\n",
              "      <td>0.908759</td>\n",
              "    </tr>\n",
              "  </tbody>\n",
              "</table>\n",
              "</div>"
            ],
            "text/plain": [
              "                      Cosine_review  Sentiment     score\n",
              "product_name                                            \n",
              "Cable Car Kriek            0.007834   0.908636  0.916470\n",
              "Cable Car                  0.004732   0.904252  0.908984\n",
              "Mother Of All Storms       0.004655   0.904104  0.908759"
            ]
          },
          "metadata": {},
          "execution_count": 16
        }
      ]
    },
    {
      "cell_type": "code",
      "metadata": {
        "colab": {
          "base_uri": "https://localhost:8080/"
        },
        "id": "_03NqCY9vcGs",
        "outputId": "5571a340-d975-4e35-adbe-03130588d809"
      },
      "source": [
        "import spacy\n",
        "spacy.load('en_core_web_md')"
      ],
      "id": "_03NqCY9vcGs",
      "execution_count": 17,
      "outputs": [
        {
          "output_type": "execute_result",
          "data": {
            "text/plain": [
              "<spacy.lang.en.English at 0x7fb7485da710>"
            ]
          },
          "metadata": {},
          "execution_count": 17
        }
      ]
    },
    {
      "cell_type": "markdown",
      "metadata": {
        "id": "a_QEk7s0d1qB"
      },
      "source": [
        "### Task F"
      ],
      "id": "a_QEk7s0d1qB"
    },
    {
      "cell_type": "code",
      "metadata": {
        "colab": {
          "base_uri": "https://localhost:8080/",
          "height": 753
        },
        "id": "cV3knQ0pd3m4",
        "outputId": "c93fdd0d-c4c1-4c4b-9d43-e3dce0db85d5"
      },
      "source": [
        "#Using word2vec\n",
        "import spacy\n",
        "nlp = spacy.load(\"en_core_web_md\")#Medium vocab and embeddings\n",
        "attributes_nlp = nlp(' '.join(attr_query))\n",
        "\n",
        "def getCosineW2V(text_,attr_):\n",
        "    text_ = nlp(text_)\n",
        "    return (text_.similarity(attr_))\n",
        "\n",
        "data['Cosine_review_W2V'] =  data['product_review'].apply(lambda x : getCosineW2V(x, attr_ = attributes_nlp))\n",
        "data['Cosine_attribute_W2V'] =  data['beer_attributes'].apply(lambda x : getCosineW2V(x, attr_ = attributes_nlp))\n",
        "data.sort_values(['Cosine_review_W2V','Cosine_attribute_W2V'],ascending=False).head(10)\n",
        "\n"
      ],
      "id": "cV3knQ0pd3m4",
      "execution_count": 18,
      "outputs": [
        {
          "output_type": "execute_result",
          "data": {
            "text/html": [
              "<div>\n",
              "<style scoped>\n",
              "    .dataframe tbody tr th:only-of-type {\n",
              "        vertical-align: middle;\n",
              "    }\n",
              "\n",
              "    .dataframe tbody tr th {\n",
              "        vertical-align: top;\n",
              "    }\n",
              "\n",
              "    .dataframe thead th {\n",
              "        text-align: right;\n",
              "    }\n",
              "</style>\n",
              "<table border=\"1\" class=\"dataframe\">\n",
              "  <thead>\n",
              "    <tr style=\"text-align: right;\">\n",
              "      <th></th>\n",
              "      <th>product_name</th>\n",
              "      <th>product_review</th>\n",
              "      <th>user_rating</th>\n",
              "      <th>beer_attributes</th>\n",
              "      <th>Cosine_review</th>\n",
              "      <th>Cosine_attribute</th>\n",
              "      <th>Cosine_review_W2V</th>\n",
              "      <th>Cosine_attribute_W2V</th>\n",
              "    </tr>\n",
              "  </thead>\n",
              "  <tbody>\n",
              "    <tr>\n",
              "      <th>2200</th>\n",
              "      <td>Galaxy Dry Hopped Fort Point Pale Ale</td>\n",
              "      <td>112014  wow this is amazing incredible aromas ...</td>\n",
              "      <td>4.58</td>\n",
              "      <td>incredible dank sweet hoppy good</td>\n",
              "      <td>0.168165</td>\n",
              "      <td>0.150640</td>\n",
              "      <td>0.797286</td>\n",
              "      <td>0.743416</td>\n",
              "    </tr>\n",
              "    <tr>\n",
              "      <th>344</th>\n",
              "      <td>Pliny The Elder</td>\n",
              "      <td>bottle kindly shared by gunnar deep golden to ...</td>\n",
              "      <td>4.30</td>\n",
              "      <td>hoppy gunnar deep golden moderate white nice h...</td>\n",
              "      <td>0.274454</td>\n",
              "      <td>0.109643</td>\n",
              "      <td>0.786813</td>\n",
              "      <td>0.741103</td>\n",
              "    </tr>\n",
              "    <tr>\n",
              "      <th>1530</th>\n",
              "      <td>Citra</td>\n",
              "      <td>022015  pineapple and mango fosho with mild pi...</td>\n",
              "      <td>4.44</td>\n",
              "      <td>mild pine aromas nice hoppy tropical sweet wee...</td>\n",
              "      <td>0.159541</td>\n",
              "      <td>0.103716</td>\n",
              "      <td>0.782529</td>\n",
              "      <td>0.788812</td>\n",
              "    </tr>\n",
              "    <tr>\n",
              "      <th>1746</th>\n",
              "      <td>Ephraim</td>\n",
              "      <td>bright refereshing peppery orange citrus piney...</td>\n",
              "      <td>4.60</td>\n",
              "      <td>balanced nice big drinkable great</td>\n",
              "      <td>0.000000</td>\n",
              "      <td>0.000000</td>\n",
              "      <td>0.780185</td>\n",
              "      <td>0.611052</td>\n",
              "    </tr>\n",
              "    <tr>\n",
              "      <th>739</th>\n",
              "      <td>Duck Duck Gooze</td>\n",
              "      <td>on tap at beavertown extravaganza aroma has so...</td>\n",
              "      <td>4.50</td>\n",
              "      <td>beavertown aroma sweet lambic tart floral clean</td>\n",
              "      <td>0.123026</td>\n",
              "      <td>0.000000</td>\n",
              "      <td>0.772985</td>\n",
              "      <td>0.713821</td>\n",
              "    </tr>\n",
              "    <tr>\n",
              "      <th>4310</th>\n",
              "      <td>Bad Boy</td>\n",
              "      <td>shared from a growler with ryan pours a pretty...</td>\n",
              "      <td>4.25</td>\n",
              "      <td>hazy fresh resinous tongue flavorful west citr...</td>\n",
              "      <td>0.000000</td>\n",
              "      <td>0.000000</td>\n",
              "      <td>0.772153</td>\n",
              "      <td>0.722902</td>\n",
              "    </tr>\n",
              "    <tr>\n",
              "      <th>2146</th>\n",
              "      <td>A Deal With The Devil</td>\n",
              "      <td>052015  love the huge cognac aromas raisin and...</td>\n",
              "      <td>4.74</td>\n",
              "      <td>huge slight subtle hoppy sweet chewy</td>\n",
              "      <td>0.051533</td>\n",
              "      <td>0.136276</td>\n",
              "      <td>0.770758</td>\n",
              "      <td>0.814595</td>\n",
              "    </tr>\n",
              "    <tr>\n",
              "      <th>1199</th>\n",
              "      <td>Double Galaxy</td>\n",
              "      <td>soft gold foamy head aroma has underripe melon...</td>\n",
              "      <td>4.37</td>\n",
              "      <td>earthy soft foamy underripe super little apricot</td>\n",
              "      <td>0.000000</td>\n",
              "      <td>0.000000</td>\n",
              "      <td>0.766748</td>\n",
              "      <td>0.687849</td>\n",
              "    </tr>\n",
              "    <tr>\n",
              "      <th>2073</th>\n",
              "      <td>Flora Plum</td>\n",
              "      <td>insanely tart and funky bright acidity lemon w...</td>\n",
              "      <td>4.75</td>\n",
              "      <td>tart bright white complex aggressive</td>\n",
              "      <td>0.056970</td>\n",
              "      <td>0.150640</td>\n",
              "      <td>0.761977</td>\n",
              "      <td>0.699895</td>\n",
              "    </tr>\n",
              "    <tr>\n",
              "      <th>3592</th>\n",
              "      <td>Darkness</td>\n",
              "      <td>sweet burnt black figs fruity mid palate stick...</td>\n",
              "      <td>4.43</td>\n",
              "      <td>black sweet burnt sticky smooth roasty little</td>\n",
              "      <td>0.070616</td>\n",
              "      <td>0.000000</td>\n",
              "      <td>0.757200</td>\n",
              "      <td>0.712482</td>\n",
              "    </tr>\n",
              "  </tbody>\n",
              "</table>\n",
              "</div>"
            ],
            "text/plain": [
              "                               product_name  ... Cosine_attribute_W2V\n",
              "2200  Galaxy Dry Hopped Fort Point Pale Ale  ...             0.743416\n",
              "344                         Pliny The Elder  ...             0.741103\n",
              "1530                                  Citra  ...             0.788812\n",
              "1746                                Ephraim  ...             0.611052\n",
              "739                         Duck Duck Gooze  ...             0.713821\n",
              "4310                                Bad Boy  ...             0.722902\n",
              "2146                  A Deal With The Devil  ...             0.814595\n",
              "1199                          Double Galaxy  ...             0.687849\n",
              "2073                             Flora Plum  ...             0.699895\n",
              "3592                               Darkness  ...             0.712482\n",
              "\n",
              "[10 rows x 8 columns]"
            ]
          },
          "metadata": {},
          "execution_count": 18
        }
      ]
    },
    {
      "cell_type": "code",
      "metadata": {
        "id": "J00eXMPlsQ-y",
        "colab": {
          "base_uri": "https://localhost:8080/",
          "height": 359
        },
        "outputId": "4965f5a3-768d-49b3-85ff-728279916108"
      },
      "source": [
        "#Take average of the cosine similarity by product\n",
        "data['Sentiment'] = output_cos['Sentiment']\n",
        "output_cos2 = data.loc[:,['product_name','product_review','Cosine_review_W2V','Sentiment']].sort_values('Cosine_review_W2V',ascending=False)\n",
        "output_cos2.to_csv('Output_cos_w2v_sentiment.csv')\n",
        "output_cos2.head(10)"
      ],
      "id": "J00eXMPlsQ-y",
      "execution_count": 21,
      "outputs": [
        {
          "output_type": "execute_result",
          "data": {
            "text/html": [
              "<div>\n",
              "<style scoped>\n",
              "    .dataframe tbody tr th:only-of-type {\n",
              "        vertical-align: middle;\n",
              "    }\n",
              "\n",
              "    .dataframe tbody tr th {\n",
              "        vertical-align: top;\n",
              "    }\n",
              "\n",
              "    .dataframe thead th {\n",
              "        text-align: right;\n",
              "    }\n",
              "</style>\n",
              "<table border=\"1\" class=\"dataframe\">\n",
              "  <thead>\n",
              "    <tr style=\"text-align: right;\">\n",
              "      <th></th>\n",
              "      <th>product_name</th>\n",
              "      <th>product_review</th>\n",
              "      <th>Cosine_review_W2V</th>\n",
              "      <th>Sentiment</th>\n",
              "    </tr>\n",
              "  </thead>\n",
              "  <tbody>\n",
              "    <tr>\n",
              "      <th>2200</th>\n",
              "      <td>Galaxy Dry Hopped Fort Point Pale Ale</td>\n",
              "      <td>112014  wow this is amazing incredible aromas ...</td>\n",
              "      <td>0.797286</td>\n",
              "      <td>0.9365</td>\n",
              "    </tr>\n",
              "    <tr>\n",
              "      <th>344</th>\n",
              "      <td>Pliny The Elder</td>\n",
              "      <td>bottle kindly shared by gunnar deep golden to ...</td>\n",
              "      <td>0.786813</td>\n",
              "      <td>0.8198</td>\n",
              "    </tr>\n",
              "    <tr>\n",
              "      <th>1530</th>\n",
              "      <td>Citra</td>\n",
              "      <td>022015  pineapple and mango fosho with mild pi...</td>\n",
              "      <td>0.782529</td>\n",
              "      <td>0.6908</td>\n",
              "    </tr>\n",
              "    <tr>\n",
              "      <th>1746</th>\n",
              "      <td>Ephraim</td>\n",
              "      <td>bright refereshing peppery orange citrus piney...</td>\n",
              "      <td>0.780185</td>\n",
              "      <td>0.8863</td>\n",
              "    </tr>\n",
              "    <tr>\n",
              "      <th>739</th>\n",
              "      <td>Duck Duck Gooze</td>\n",
              "      <td>on tap at beavertown extravaganza aroma has so...</td>\n",
              "      <td>0.772985</td>\n",
              "      <td>0.6908</td>\n",
              "    </tr>\n",
              "    <tr>\n",
              "      <th>4310</th>\n",
              "      <td>Bad Boy</td>\n",
              "      <td>shared from a growler with ryan pours a pretty...</td>\n",
              "      <td>0.772153</td>\n",
              "      <td>0.5927</td>\n",
              "    </tr>\n",
              "    <tr>\n",
              "      <th>2146</th>\n",
              "      <td>A Deal With The Devil</td>\n",
              "      <td>052015  love the huge cognac aromas raisin and...</td>\n",
              "      <td>0.770758</td>\n",
              "      <td>0.8591</td>\n",
              "    </tr>\n",
              "    <tr>\n",
              "      <th>1199</th>\n",
              "      <td>Double Galaxy</td>\n",
              "      <td>soft gold foamy head aroma has underripe melon...</td>\n",
              "      <td>0.766748</td>\n",
              "      <td>-0.0377</td>\n",
              "    </tr>\n",
              "    <tr>\n",
              "      <th>2073</th>\n",
              "      <td>Flora Plum</td>\n",
              "      <td>insanely tart and funky bright acidity lemon w...</td>\n",
              "      <td>0.761977</td>\n",
              "      <td>0.8100</td>\n",
              "    </tr>\n",
              "    <tr>\n",
              "      <th>3592</th>\n",
              "      <td>Darkness</td>\n",
              "      <td>sweet burnt black figs fruity mid palate stick...</td>\n",
              "      <td>0.757200</td>\n",
              "      <td>0.5013</td>\n",
              "    </tr>\n",
              "  </tbody>\n",
              "</table>\n",
              "</div>"
            ],
            "text/plain": [
              "                               product_name  ... Sentiment\n",
              "2200  Galaxy Dry Hopped Fort Point Pale Ale  ...    0.9365\n",
              "344                         Pliny The Elder  ...    0.8198\n",
              "1530                                  Citra  ...    0.6908\n",
              "1746                                Ephraim  ...    0.8863\n",
              "739                         Duck Duck Gooze  ...    0.6908\n",
              "4310                                Bad Boy  ...    0.5927\n",
              "2146                  A Deal With The Devil  ...    0.8591\n",
              "1199                          Double Galaxy  ...   -0.0377\n",
              "2073                             Flora Plum  ...    0.8100\n",
              "3592                               Darkness  ...    0.5013\n",
              "\n",
              "[10 rows x 4 columns]"
            ]
          },
          "metadata": {},
          "execution_count": 21
        }
      ]
    },
    {
      "cell_type": "code",
      "metadata": {
        "id": "4zOHuyeosbT2",
        "colab": {
          "base_uri": "https://localhost:8080/",
          "height": 173
        },
        "outputId": "a4b4d022-d65b-4647-e13a-640e19977e53"
      },
      "source": [
        "#Summarize and recommend three best beers\n",
        "output_summ2 = output_cos2.groupby(['product_name'])['Cosine_review_W2V','Sentiment'].mean()\n",
        "output_summ2['score'] = output_summ2['Cosine_review_W2V']+output_summ2['Sentiment']\n",
        "output_summ2.sort_values('score',ascending=False,inplace=True)\n",
        "output_summ2.head(3)"
      ],
      "id": "4zOHuyeosbT2",
      "execution_count": 20,
      "outputs": [
        {
          "output_type": "execute_result",
          "data": {
            "text/html": [
              "<div>\n",
              "<style scoped>\n",
              "    .dataframe tbody tr th:only-of-type {\n",
              "        vertical-align: middle;\n",
              "    }\n",
              "\n",
              "    .dataframe tbody tr th {\n",
              "        vertical-align: top;\n",
              "    }\n",
              "\n",
              "    .dataframe thead th {\n",
              "        text-align: right;\n",
              "    }\n",
              "</style>\n",
              "<table border=\"1\" class=\"dataframe\">\n",
              "  <thead>\n",
              "    <tr style=\"text-align: right;\">\n",
              "      <th></th>\n",
              "      <th>Cosine_review_W2V</th>\n",
              "      <th>Sentiment</th>\n",
              "      <th>score</th>\n",
              "    </tr>\n",
              "    <tr>\n",
              "      <th>product_name</th>\n",
              "      <th></th>\n",
              "      <th></th>\n",
              "      <th></th>\n",
              "    </tr>\n",
              "  </thead>\n",
              "  <tbody>\n",
              "    <tr>\n",
              "      <th>Mother Of All Storms</th>\n",
              "      <td>0.617127</td>\n",
              "      <td>0.904104</td>\n",
              "      <td>1.521231</td>\n",
              "    </tr>\n",
              "    <tr>\n",
              "      <th>Montmorency Vs Balaton</th>\n",
              "      <td>0.615177</td>\n",
              "      <td>0.890352</td>\n",
              "      <td>1.505529</td>\n",
              "    </tr>\n",
              "    <tr>\n",
              "      <th>Genealogy Of Morals - Bourbon Barrel-Aged</th>\n",
              "      <td>0.599751</td>\n",
              "      <td>0.904492</td>\n",
              "      <td>1.504243</td>\n",
              "    </tr>\n",
              "  </tbody>\n",
              "</table>\n",
              "</div>"
            ],
            "text/plain": [
              "                                           Cosine_review_W2V  ...     score\n",
              "product_name                                                  ...          \n",
              "Mother Of All Storms                                0.617127  ...  1.521231\n",
              "Montmorency Vs Balaton                              0.615177  ...  1.505529\n",
              "Genealogy Of Morals - Bourbon Barrel-Aged           0.599751  ...  1.504243\n",
              "\n",
              "[3 rows x 3 columns]"
            ]
          },
          "metadata": {},
          "execution_count": 20
        }
      ]
    },
    {
      "cell_type": "code",
      "metadata": {
        "colab": {
          "base_uri": "https://localhost:8080/"
        },
        "id": "Ueh58RamqQt4",
        "outputId": "e4f3a709-342c-4fa2-9422-c198a2dd93d5"
      },
      "source": [
        "attr_query"
      ],
      "id": "Ueh58RamqQt4",
      "execution_count": 23,
      "outputs": [
        {
          "output_type": "execute_result",
          "data": {
            "text/plain": [
              "['aggressive', 'hoppy', 'fruity']"
            ]
          },
          "metadata": {},
          "execution_count": 23
        }
      ]
    },
    {
      "cell_type": "markdown",
      "metadata": {
        "id": "CCUnr-rDoTGH"
      },
      "source": [
        "#### Percentage of Top Bag of words reviews mentioning attributes queried"
      ],
      "id": "CCUnr-rDoTGH"
    },
    {
      "cell_type": "code",
      "metadata": {
        "colab": {
          "base_uri": "https://localhost:8080/",
          "height": 173
        },
        "id": "sTDm7aTOojBs",
        "outputId": "e9901657-d4a4-441b-9375-d79847b21885"
      },
      "source": [
        "def percentReviewAttr(text , attr):\n",
        "    count = 0\n",
        "    df_sub = data[data['product_name'] == text]\n",
        "    df_sub['Flag'] = df_sub['product_review'].str.contains(attr)\n",
        "    return 100*df_sub['Flag'].sum()/len(df_sub)\n",
        "\n",
        "list_ = []\n",
        "df_ = []\n",
        "col1=[]\n",
        "col2 = []\n",
        "\n",
        "for i in output_summ.head(3).index.values:\n",
        "    for j in attr_query:\n",
        "        col1.append(i)\n",
        "        col2.append(j)\n",
        "        \n",
        "        list_.append(percentReviewAttr(i,j))\n",
        "        \n",
        "#print(list_)\n",
        "#print(cols)\n",
        "df_ = pd.DataFrame(zip(col1,col2,list_),columns=['Product','Attribute','Percent Occurence'])\n",
        "df_.pivot_table(index=df_.columns[0], columns=df_.columns[1],values=df_.columns[2]).to_csv('AttrFreq_tfidf.csv')\n",
        "df_.pivot_table(index=df_.columns[0], columns=df_.columns[1],values=df_.columns[2])"
      ],
      "id": "sTDm7aTOojBs",
      "execution_count": 48,
      "outputs": [
        {
          "output_type": "execute_result",
          "data": {
            "text/html": [
              "<div>\n",
              "<style scoped>\n",
              "    .dataframe tbody tr th:only-of-type {\n",
              "        vertical-align: middle;\n",
              "    }\n",
              "\n",
              "    .dataframe tbody tr th {\n",
              "        vertical-align: top;\n",
              "    }\n",
              "\n",
              "    .dataframe thead th {\n",
              "        text-align: right;\n",
              "    }\n",
              "</style>\n",
              "<table border=\"1\" class=\"dataframe\">\n",
              "  <thead>\n",
              "    <tr style=\"text-align: right;\">\n",
              "      <th>Attribute</th>\n",
              "      <th>aggressive</th>\n",
              "      <th>fruity</th>\n",
              "      <th>hoppy</th>\n",
              "    </tr>\n",
              "    <tr>\n",
              "      <th>Product</th>\n",
              "      <th></th>\n",
              "      <th></th>\n",
              "      <th></th>\n",
              "    </tr>\n",
              "  </thead>\n",
              "  <tbody>\n",
              "    <tr>\n",
              "      <th>Cable Car</th>\n",
              "      <td>0.0</td>\n",
              "      <td>12.0</td>\n",
              "      <td>0.0</td>\n",
              "    </tr>\n",
              "    <tr>\n",
              "      <th>Cable Car Kriek</th>\n",
              "      <td>0.0</td>\n",
              "      <td>28.0</td>\n",
              "      <td>0.0</td>\n",
              "    </tr>\n",
              "    <tr>\n",
              "      <th>Mother Of All Storms</th>\n",
              "      <td>0.0</td>\n",
              "      <td>16.0</td>\n",
              "      <td>0.0</td>\n",
              "    </tr>\n",
              "  </tbody>\n",
              "</table>\n",
              "</div>"
            ],
            "text/plain": [
              "Attribute             aggressive  fruity  hoppy\n",
              "Product                                        \n",
              "Cable Car                    0.0    12.0    0.0\n",
              "Cable Car Kriek              0.0    28.0    0.0\n",
              "Mother Of All Storms         0.0    16.0    0.0"
            ]
          },
          "metadata": {},
          "execution_count": 48
        }
      ]
    },
    {
      "cell_type": "markdown",
      "metadata": {
        "id": "bQ-FPDZbofZ8"
      },
      "source": [
        "#### Percentage of Top W2V reviews mentioning attributes queried"
      ],
      "id": "bQ-FPDZbofZ8"
    },
    {
      "cell_type": "code",
      "metadata": {
        "colab": {
          "base_uri": "https://localhost:8080/",
          "height": 173
        },
        "id": "FZ4GWD4PojmX",
        "outputId": "1888bd02-8a9e-4c70-e6dd-89151d829c6f"
      },
      "source": [
        "list_ = []\n",
        "df_ = []\n",
        "col1=[]\n",
        "col2 = []\n",
        "\n",
        "for i in output_summ2.head(3).index.values:\n",
        "    for j in attr_query:\n",
        "        col1.append(i)\n",
        "        col2.append(j)\n",
        "        \n",
        "        list_.append(percentReviewAttr(i,j))\n",
        "        \n",
        "#print(list_)\n",
        "#print(cols)\n",
        "df_ = pd.DataFrame(zip(col1,col2,list_),columns=['Product','Attribute','Percent Occurence'])\n",
        "df_.pivot_table(index=df_.columns[0], columns=df_.columns[1],values=df_.columns[2]).to_csv('AttrFreq_w2v.csv')\n",
        "df_.pivot_table(index=df_.columns[0], columns=df_.columns[1],values=df_.columns[2])"
      ],
      "id": "FZ4GWD4PojmX",
      "execution_count": 49,
      "outputs": [
        {
          "output_type": "execute_result",
          "data": {
            "text/html": [
              "<div>\n",
              "<style scoped>\n",
              "    .dataframe tbody tr th:only-of-type {\n",
              "        vertical-align: middle;\n",
              "    }\n",
              "\n",
              "    .dataframe tbody tr th {\n",
              "        vertical-align: top;\n",
              "    }\n",
              "\n",
              "    .dataframe thead th {\n",
              "        text-align: right;\n",
              "    }\n",
              "</style>\n",
              "<table border=\"1\" class=\"dataframe\">\n",
              "  <thead>\n",
              "    <tr style=\"text-align: right;\">\n",
              "      <th>Attribute</th>\n",
              "      <th>aggressive</th>\n",
              "      <th>fruity</th>\n",
              "      <th>hoppy</th>\n",
              "    </tr>\n",
              "    <tr>\n",
              "      <th>Product</th>\n",
              "      <th></th>\n",
              "      <th></th>\n",
              "      <th></th>\n",
              "    </tr>\n",
              "  </thead>\n",
              "  <tbody>\n",
              "    <tr>\n",
              "      <th>Genealogy Of Morals - Bourbon Barrel-Aged</th>\n",
              "      <td>0.0</td>\n",
              "      <td>4.0</td>\n",
              "      <td>0.0</td>\n",
              "    </tr>\n",
              "    <tr>\n",
              "      <th>Montmorency Vs Balaton</th>\n",
              "      <td>4.0</td>\n",
              "      <td>12.0</td>\n",
              "      <td>0.0</td>\n",
              "    </tr>\n",
              "    <tr>\n",
              "      <th>Mother Of All Storms</th>\n",
              "      <td>0.0</td>\n",
              "      <td>16.0</td>\n",
              "      <td>0.0</td>\n",
              "    </tr>\n",
              "  </tbody>\n",
              "</table>\n",
              "</div>"
            ],
            "text/plain": [
              "Attribute                                  aggressive  fruity  hoppy\n",
              "Product                                                             \n",
              "Genealogy Of Morals - Bourbon Barrel-Aged         0.0     4.0    0.0\n",
              "Montmorency Vs Balaton                            4.0    12.0    0.0\n",
              "Mother Of All Storms                              0.0    16.0    0.0"
            ]
          },
          "metadata": {},
          "execution_count": 49
        }
      ]
    },
    {
      "cell_type": "markdown",
      "metadata": {
        "id": "kv7V510ZzkZr"
      },
      "source": [
        "Surprisingly, word2vec not performing better than tf-idf count vectorizer."
      ],
      "id": "kv7V510ZzkZr"
    },
    {
      "cell_type": "markdown",
      "metadata": {
        "id": "YsyZ2VnV1Pnc"
      },
      "source": [
        "### Task G"
      ],
      "id": "YsyZ2VnV1Pnc"
    },
    {
      "cell_type": "code",
      "metadata": {
        "colab": {
          "base_uri": "https://localhost:8080/",
          "height": 173
        },
        "id": "IRxa3u52ztt7",
        "outputId": "0930380e-5ee2-4c55-b502-87affd167585"
      },
      "source": [
        "#Simply user rating based\n",
        "toprated = data.groupby(['product_name'])[['user_rating']].mean().sort_values('user_rating',ascending=False).head(3)\n",
        "toprated"
      ],
      "id": "IRxa3u52ztt7",
      "execution_count": 55,
      "outputs": [
        {
          "output_type": "execute_result",
          "data": {
            "text/html": [
              "<div>\n",
              "<style scoped>\n",
              "    .dataframe tbody tr th:only-of-type {\n",
              "        vertical-align: middle;\n",
              "    }\n",
              "\n",
              "    .dataframe tbody tr th {\n",
              "        vertical-align: top;\n",
              "    }\n",
              "\n",
              "    .dataframe thead th {\n",
              "        text-align: right;\n",
              "    }\n",
              "</style>\n",
              "<table border=\"1\" class=\"dataframe\">\n",
              "  <thead>\n",
              "    <tr style=\"text-align: right;\">\n",
              "      <th></th>\n",
              "      <th>user_rating</th>\n",
              "    </tr>\n",
              "    <tr>\n",
              "      <th>product_name</th>\n",
              "      <th></th>\n",
              "    </tr>\n",
              "  </thead>\n",
              "  <tbody>\n",
              "    <tr>\n",
              "      <th>Chemtrailmix</th>\n",
              "      <td>4.77160</td>\n",
              "    </tr>\n",
              "    <tr>\n",
              "      <th>Vanilla Bean Assassin</th>\n",
              "      <td>4.74625</td>\n",
              "    </tr>\n",
              "    <tr>\n",
              "      <th>Blessed</th>\n",
              "      <td>4.74280</td>\n",
              "    </tr>\n",
              "  </tbody>\n",
              "</table>\n",
              "</div>"
            ],
            "text/plain": [
              "                       user_rating\n",
              "product_name                      \n",
              "Chemtrailmix               4.77160\n",
              "Vanilla Bean Assassin      4.74625\n",
              "Blessed                    4.74280"
            ]
          },
          "metadata": {},
          "execution_count": 55
        }
      ]
    },
    {
      "cell_type": "code",
      "metadata": {
        "colab": {
          "base_uri": "https://localhost:8080/",
          "height": 173
        },
        "id": "u5AMU8zt1Wdt",
        "outputId": "4317acd3-8b41-4ce6-ea63-fd98d687df20"
      },
      "source": [
        "#Checking occurences of attribute query\n",
        "list_ = []\n",
        "df_ = []\n",
        "col1=[]\n",
        "col2 = []\n",
        "\n",
        "for i in toprated.head(3).index.values:\n",
        "    for j in attr_query:\n",
        "        col1.append(i)\n",
        "        col2.append(j)\n",
        "        \n",
        "        list_.append(percentReviewAttr(i,j))\n",
        "        \n",
        "#print(list_)\n",
        "#print(cols)\n",
        "df_ = pd.DataFrame(zip(col1,col2,list_),columns=['Product','Attribute','Percent Occurence'])\n",
        "df_.pivot_table(index=df_.columns[0], columns=df_.columns[1],values=df_.columns[2]).to_csv('AttrFreq_toprated.csv')\n",
        "df_.pivot_table(index=df_.columns[0], columns=df_.columns[1],values=df_.columns[2])"
      ],
      "id": "u5AMU8zt1Wdt",
      "execution_count": 56,
      "outputs": [
        {
          "output_type": "execute_result",
          "data": {
            "text/html": [
              "<div>\n",
              "<style scoped>\n",
              "    .dataframe tbody tr th:only-of-type {\n",
              "        vertical-align: middle;\n",
              "    }\n",
              "\n",
              "    .dataframe tbody tr th {\n",
              "        vertical-align: top;\n",
              "    }\n",
              "\n",
              "    .dataframe thead th {\n",
              "        text-align: right;\n",
              "    }\n",
              "</style>\n",
              "<table border=\"1\" class=\"dataframe\">\n",
              "  <thead>\n",
              "    <tr style=\"text-align: right;\">\n",
              "      <th>Attribute</th>\n",
              "      <th>aggressive</th>\n",
              "      <th>fruity</th>\n",
              "      <th>hoppy</th>\n",
              "    </tr>\n",
              "    <tr>\n",
              "      <th>Product</th>\n",
              "      <th></th>\n",
              "      <th></th>\n",
              "      <th></th>\n",
              "    </tr>\n",
              "  </thead>\n",
              "  <tbody>\n",
              "    <tr>\n",
              "      <th>Blessed</th>\n",
              "      <td>8.0</td>\n",
              "      <td>0.0</td>\n",
              "      <td>0.0</td>\n",
              "    </tr>\n",
              "    <tr>\n",
              "      <th>Chemtrailmix</th>\n",
              "      <td>0.0</td>\n",
              "      <td>0.0</td>\n",
              "      <td>0.0</td>\n",
              "    </tr>\n",
              "    <tr>\n",
              "      <th>Vanilla Bean Assassin</th>\n",
              "      <td>0.0</td>\n",
              "      <td>0.0</td>\n",
              "      <td>0.0</td>\n",
              "    </tr>\n",
              "  </tbody>\n",
              "</table>\n",
              "</div>"
            ],
            "text/plain": [
              "Attribute              aggressive  fruity  hoppy\n",
              "Product                                         \n",
              "Blessed                       8.0     0.0    0.0\n",
              "Chemtrailmix                  0.0     0.0    0.0\n",
              "Vanilla Bean Assassin         0.0     0.0    0.0"
            ]
          },
          "metadata": {},
          "execution_count": 56
        }
      ]
    },
    {
      "cell_type": "markdown",
      "metadata": {
        "id": "80KHgIU_2G1N"
      },
      "source": [
        "Top rated do not meet the user requirements!"
      ],
      "id": "80KHgIU_2G1N"
    }
  ]
}