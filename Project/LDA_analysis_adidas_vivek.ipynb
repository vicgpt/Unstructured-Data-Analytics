{
 "cells": [
  {
   "cell_type": "code",
   "execution_count": 1,
   "id": "b8ab1020",
   "metadata": {},
   "outputs": [],
   "source": [
    "from gensim.models.ldamodel import LdaModel\n",
    "import pandas as pd\n",
    "\n",
    "from gensim.test.utils import common_texts\n",
    "from gensim.corpora.dictionary import Dictionary\n",
    "\n",
    "from gensim.models import TfidfModel\n",
    "\n",
    "from collections import Counter"
   ]
  },
  {
   "cell_type": "markdown",
   "id": "a8218503",
   "metadata": {},
   "source": [
    "# Adidas"
   ]
  },
  {
   "cell_type": "code",
   "execution_count": 2,
   "id": "8248d1cc",
   "metadata": {},
   "outputs": [],
   "source": [
    "def createLDA(column_name, im_cap_tf, n_topics = 5, alpha_val = 0.5, top_n = None):\n",
    "    \n",
    "    if top_n != None:\n",
    "        l = []\n",
    "        for i in im_cap_tf[column_name]:\n",
    "            l+=i\n",
    "    \n",
    "        wc = Counter(l)\n",
    "        wc.most_common()\n",
    "        \n",
    "        mc_adidas = wc.most_common()[top_n:]\n",
    "        mc_adidas_list = [i[0] for i in mc_adidas]\n",
    "        \n",
    "        texts = im_cap_tf[column_name].apply(lambda x : list(set(x).intersection(set(mc_adidas_list))))\n",
    "    \n",
    "    else:\n",
    "        texts = im_cap_tf[column_name]\n",
    "        \n",
    "    # Create a corpus from a list of texts\n",
    "    dictionary = Dictionary(texts)\n",
    "    corpus = [dictionary.doc2bow(text) for text in texts]\n",
    "\n",
    "    # Train the model on the corpus.\n",
    "    lda = LdaModel(corpus, num_topics=n_topics, alpha=alpha_val, id2word = dictionary)\n",
    "    \n",
    "    for p in lda.print_topics(num_topics=n_topics, num_words=10):\n",
    "        print(p[1])\n",
    "    \n",
    "    return lda\n",
    "\n",
    "def createLDA_TFIDF(column_name, im_cap_tf, n_topics = 5, alpha_val = 0.5, top_n = None):\n",
    "    \n",
    "    if top_n != None:\n",
    "        l = []\n",
    "        for i in im_cap_tf[column_name]:\n",
    "            l+=i\n",
    "    \n",
    "        wc = Counter(l)\n",
    "        wc.most_common()\n",
    "        \n",
    "        mc_adidas = wc.most_common()[top_n:]\n",
    "        mc_adidas_list = [i[0] for i in mc_adidas]\n",
    "        \n",
    "        texts = im_cap_tf[column_name].apply(lambda x : list(set(x).intersection(set(mc_adidas_list))))\n",
    "    \n",
    "    else:\n",
    "        texts = im_cap_tf[column_name]\n",
    "        \n",
    "    # Create a corpus from a list of texts\n",
    "    dictionary = Dictionary(texts)\n",
    "    corpus = [dictionary.doc2bow(text) for text in texts]\n",
    "    \n",
    "    model = TfidfModel(corpus)  # fit model\n",
    "\n",
    "    tfidf_corpus = model[corpus]  # apply model to the first corpus document\n",
    "\n",
    "    # Train the model on the corpus.\n",
    "    lda = LdaModel(corpus, num_topics=n_topics, alpha=alpha_val, id2word = dictionary)\n",
    "    \n",
    "    for p in lda.print_topics(num_topics=n_topics, num_words=10):\n",
    "        print(p[1])\n",
    "    \n",
    "    return lda"
   ]
  },
  {
   "cell_type": "markdown",
   "id": "c44011d9",
   "metadata": {},
   "source": [
    "## Only Captions"
   ]
  },
  {
   "cell_type": "code",
   "execution_count": 3,
   "id": "2569bbcd",
   "metadata": {},
   "outputs": [
    {
     "name": "stdout",
     "output_type": "stream",
     "text": [
      "Index(['fearless', 'strongerforit', 'coding', 'jaque1212', 'leomessi',\n",
      "       'coreyrichproduction', 'baller', 'feel', 'unscripte', 'lelylob',\n",
      "       ...\n",
      "       'writer', 'historical', 'distance', 'without', 'ritaora', 'eiger',\n",
      "       'argentinas', 'collide', 'caption', 'caption_list'],\n",
      "      dtype='object', length=2469)\n"
     ]
    }
   ],
   "source": [
    "data = pd.read_csv(\"./Adidas/adidas_caption_tf.csv\", index_col=0)\n",
    "print(data.columns)\n",
    "column_name = 'caption_list'\n",
    "data[column_name] = data[column_name].apply(lambda x : eval(x))"
   ]
  },
  {
   "cell_type": "code",
   "execution_count": 4,
   "id": "80105a9b",
   "metadata": {},
   "outputs": [
    {
     "name": "stdout",
     "output_type": "stream",
     "text": [
      "\n",
      "------------------------LDA without TFIDF ----------------------- \n",
      "\n",
      "0.005*\"never\" + 0.005*\"story\" + 0.004*\"ever\" + 0.004*\"creator\" + 0.004*\"play\" + 0.003*\"narrate\" + 0.003*\"tap\" + 0.003*\"hometeam\" + 0.003*\"together\" + 0.003*\"history\"\n",
      "0.005*\"creativity\" + 0.004*\"start\" + 0.003*\"ultraboost\" + 0.003*\"celebrate\" + 0.003*\"'s\" + 0.003*\"creator\" + 0.003*\"step\" + 0.003*\"together\" + 0.003*\"inspire\" + 0.003*\"build\"\n",
      "0.006*\"speedtakes\" + 0.005*\"champion\" + 0.004*\"go\" + 0.004*\"ready\" + 0.004*\"pack\" + 0.003*\"collection\" + 0.003*\"store\" + 0.003*\"life\" + 0.003*\"'s\" + 0.003*\"win\"\n",
      "0.007*\"store\" + 0.005*\"head\" + 0.004*\"drop\" + 0.004*\"futurecraft\" + 0.004*\"online\" + 0.003*\"home\" + 0.003*\"hometeam\" + 0.003*\"never\" + 0.003*\"adidasfootball\" + 0.003*\"go\"\n",
      "0.004*\"performance\" + 0.004*\"'s\" + 0.003*\"find\" + 0.003*\"street\" + 0.003*\"collection\" + 0.003*\"ever\" + 0.003*\"help\" + 0.003*\"x\" + 0.003*\"training\" + 0.003*\"story\"\n",
      "\n",
      "------------------------LDA with TFIDF ----------------------- \n",
      "\n",
      "0.005*\"speedtakes\" + 0.005*\"drop\" + 0.004*\"performance\" + 0.004*\"ever\" + 0.004*\"never\" + 0.004*\"play\" + 0.003*\"shoe\" + 0.003*\"top\" + 0.003*\"join\" + 0.003*\"collection\"\n",
      "0.004*\"store\" + 0.004*\"creator\" + 0.004*\"head\" + 0.004*\"help\" + 0.004*\"creativity\" + 0.004*\"champion\" + 0.003*\"find\" + 0.003*\"never\" + 0.003*\"set\" + 0.003*\"online\"\n",
      "0.004*\"collection\" + 0.004*\"'s\" + 0.004*\"futurecraft\" + 0.003*\"home\" + 0.003*\"look\" + 0.003*\"go\" + 0.003*\"city\" + 0.003*\"find\" + 0.003*\"play\" + 0.003*\"together\"\n",
      "0.004*\"store\" + 0.004*\"history\" + 0.004*\"'s\" + 0.004*\"speedtakes\" + 0.003*\"football\" + 0.003*\"watch\" + 0.003*\"tap\" + 0.003*\"next\" + 0.003*\"worldwide\" + 0.003*\"go\"\n",
      "0.004*\"ever\" + 0.004*\"story\" + 0.004*\"next\" + 0.004*\"futurecraft\" + 0.003*\"start\" + 0.003*\"together\" + 0.003*\"never\" + 0.003*\"win\" + 0.003*\"creator\" + 0.003*\"inspire\"\n"
     ]
    }
   ],
   "source": [
    "n_topics=5\n",
    "alpha_val=0.5\n",
    "top_n =30\n",
    "\n",
    "print('\\n------------------------LDA without TFIDF ----------------------- \\n')\n",
    "lda_cap = createLDA(column_name=column_name, im_cap_tf=data, n_topics=n_topics, alpha_val=alpha_val, top_n=top_n)\n",
    "\n",
    "print('\\n------------------------LDA with TFIDF ----------------------- \\n')\n",
    "lda_cap_tfidf = createLDA_TFIDF(column_name=column_name, im_cap_tf=data, n_topics=n_topics, alpha_val=alpha_val, top_n=top_n)"
   ]
  },
  {
   "cell_type": "markdown",
   "id": "88817b7b",
   "metadata": {},
   "source": [
    "## Only Image Labels"
   ]
  },
  {
   "cell_type": "code",
   "execution_count": 5,
   "id": "a411ab5c",
   "metadata": {},
   "outputs": [
    {
     "name": "stdout",
     "output_type": "stream",
     "text": [
      "Index(['farmworker', 'photograph', 'symbol', 'portrait', 'eyewear', 'toy',\n",
      "       'flag', 'kickflip', 'concrete', 'bicycles',\n",
      "       ...\n",
      "       'leg', 'tire', 'music', 'sportswear', 'serveware', 'bookcase',\n",
      "       'astronomical', 'freeze', 'labels', 'labels_list'],\n",
      "      dtype='object', length=670)\n"
     ]
    }
   ],
   "source": [
    "data = pd.read_csv(\"./Adidas/adidas_label_tf.csv\", index_col=0)\n",
    "print(data.columns)\n",
    "column_name = 'labels_list'\n",
    "data[column_name] = data[column_name].apply(lambda x : eval(x))"
   ]
  },
  {
   "cell_type": "code",
   "execution_count": 6,
   "id": "a7eb8ab7",
   "metadata": {},
   "outputs": [
    {
     "name": "stdout",
     "output_type": "stream",
     "text": [
      "\n",
      "------------------------LDA without TFIDF ----------------------- \n",
      "\n",
      "0.016*\"street\" + 0.016*\"footwear\" + 0.015*\"gesture\" + 0.014*\"-\" + 0.013*\"blue\" + 0.013*\"people\" + 0.012*\"shorts\" + 0.012*\"plant\" + 0.012*\"thigh\" + 0.012*\"shirt\"\n",
      "0.024*\"happy\" + 0.021*\"gesture\" + 0.017*\"footwear\" + 0.016*\"street\" + 0.015*\"human\" + 0.013*\"forehead\" + 0.013*\"art\" + 0.012*\"chin\" + 0.011*\"jaw\" + 0.011*\"neck\"\n",
      "0.032*\"leg\" + 0.025*\"thigh\" + 0.019*\"human\" + 0.018*\"knee\" + 0.016*\"sport\" + 0.015*\"uniform\" + 0.015*\"-\" + 0.015*\"art\" + 0.015*\"player\" + 0.014*\"short\"\n",
      "\n",
      "------------------------LDA with TFIDF ----------------------- \n",
      "\n",
      "0.026*\"thigh\" + 0.023*\"gesture\" + 0.020*\"leg\" + 0.017*\"blue\" + 0.017*\"human\" + 0.017*\"art\" + 0.017*\"happy\" + 0.013*\"electric\" + 0.012*\"people\" + 0.012*\"in\"\n",
      "0.018*\"sport\" + 0.016*\"player\" + 0.014*\"happy\" + 0.013*\"art\" + 0.013*\"cloud\" + 0.012*\"shorts\" + 0.012*\"leisure\" + 0.012*\"leg\" + 0.011*\"street\" + 0.010*\"-\"\n",
      "0.023*\"footwear\" + 0.018*\"street\" + 0.017*\"leg\" + 0.016*\"outdoor\" + 0.016*\"-\" + 0.015*\"human\" + 0.015*\"uniform\" + 0.013*\"knee\" + 0.013*\"shirt\" + 0.012*\"jersey\"\n"
     ]
    }
   ],
   "source": [
    "n_topics=3\n",
    "alpha_val=0.5\n",
    "top_n = 10\n",
    "\n",
    "print('\\n------------------------LDA without TFIDF ----------------------- \\n')\n",
    "lda_cap = createLDA(column_name=column_name, im_cap_tf=data, n_topics=n_topics, alpha_val=alpha_val, top_n=top_n)\n",
    "\n",
    "print('\\n------------------------LDA with TFIDF ----------------------- \\n')\n",
    "lda_cap_tfidf = createLDA_TFIDF(column_name=column_name, im_cap_tf=data, n_topics=n_topics, alpha_val=alpha_val, top_n=top_n)"
   ]
  },
  {
   "cell_type": "markdown",
   "id": "8ca1d78a",
   "metadata": {},
   "source": [
    "## Image Labels + Caption"
   ]
  },
  {
   "cell_type": "code",
   "execution_count": 7,
   "id": "9b9d7d4a",
   "metadata": {},
   "outputs": [
    {
     "name": "stdout",
     "output_type": "stream",
     "text": [
      "Index(['fearless', 'strongerforit', 'coding', 'jaque1212', 'concrete',\n",
      "       'leomessi', 'coreyrichproduction', 'feel', 'baller', 'unscripte',\n",
      "       ...\n",
      "       'writer', 'historical', 'distance', 'without', 'ritaora', 'bookcase',\n",
      "       'eiger', 'argentinas', 'collide', 'img_cap_list'],\n",
      "      dtype='object', length=2925)\n"
     ]
    }
   ],
   "source": [
    "data = pd.read_csv(\"./Adidas/adidas_img_cap_tf.csv\", index_col=0)\n",
    "print(data.columns)\n",
    "column_name = 'img_cap_list'\n",
    "data[column_name] = data[column_name].apply(lambda x : eval(x))"
   ]
  },
  {
   "cell_type": "code",
   "execution_count": 8,
   "id": "d6ce9ce9",
   "metadata": {},
   "outputs": [
    {
     "name": "stdout",
     "output_type": "stream",
     "text": [
      "\n",
      "------------------------LDA without TFIDF ----------------------- \n",
      "\n",
      "0.008*\"nature\" + 0.007*\"world\" + 0.007*\"in\" + 0.006*\"design\" + 0.005*\"grass\" + 0.005*\"entertainment\" + 0.005*\"white\" + 0.004*\"plant\" + 0.004*\"adidasoriginal\" + 0.004*\"event\"\n",
      "0.007*\"t\" + 0.006*\"shirt\" + 0.006*\"design\" + 0.006*\"black\" + 0.006*\"smile\" + 0.006*\"--\" + 0.005*\"electric\" + 0.005*\"short\" + 0.005*\"world\" + 0.004*\"white\"\n",
      "0.006*\"shorts\" + 0.006*\"joint\" + 0.006*\"shirt\" + 0.006*\"nature\" + 0.005*\"outdoor\" + 0.005*\"body\" + 0.005*\"in\" + 0.005*\"available\" + 0.004*\"t\" + 0.004*\"recreation\"\n",
      "0.005*\"event\" + 0.005*\"short\" + 0.005*\"body\" + 0.005*\"electric\" + 0.004*\"world\" + 0.004*\"plant\" + 0.004*\"active\" + 0.004*\"cloud\" + 0.004*\"new\" + 0.004*\"adidasoriginal\"\n",
      "0.005*\"outdoor\" + 0.005*\"arm\" + 0.005*\"body\" + 0.005*\"black\" + 0.005*\"event\" + 0.005*\"neck\" + 0.005*\"shirt\" + 0.004*\"cloud\" + 0.004*\"plant\" + 0.004*\"available\"\n",
      "0.006*\"design\" + 0.006*\"and\" + 0.006*\"outdoor\" + 0.005*\"waist\" + 0.004*\"athletic\" + 0.004*\"event\" + 0.004*\"shorts\" + 0.004*\"new\" + 0.004*\"white\" + 0.004*\"shirt\"\n",
      "0.006*\"new\" + 0.006*\"shorts\" + 0.005*\"neck\" + 0.005*\"body\" + 0.005*\"leisure\" + 0.005*\"link\" + 0.005*\"white\" + 0.004*\"jaw\" + 0.004*\"bio\" + 0.004*\"arm\"\n",
      "\n",
      "------------------------LDA with TFIDF ----------------------- \n",
      "\n",
      "0.005*\"waist\" + 0.005*\"design\" + 0.005*\"change\" + 0.005*\"black\" + 0.005*\"shirt\" + 0.005*\"event\" + 0.005*\"neck\" + 0.004*\"world\" + 0.004*\"possibility\" + 0.004*\"electric\"\n",
      "0.006*\"plant\" + 0.006*\"design\" + 0.006*\"nature\" + 0.005*\"cloud\" + 0.005*\"in\" + 0.004*\"eyebrow\" + 0.004*\"forehead\" + 0.004*\"and\" + 0.004*\"shorts\" + 0.004*\"run\"\n",
      "0.008*\"body\" + 0.006*\"new\" + 0.006*\"black\" + 0.006*\"neck\" + 0.005*\"chin\" + 0.005*\"get\" + 0.005*\"head\" + 0.004*\"forehead\" + 0.004*\"shoulder\" + 0.004*\"world\"\n",
      "0.006*\"entertainment\" + 0.006*\"world\" + 0.005*\"and\" + 0.005*\"arm\" + 0.004*\"muscle\" + 0.004*\"game\" + 0.004*\"short\" + 0.004*\"electric\" + 0.004*\"run\" + 0.004*\"shirt\"\n",
      "0.005*\"white\" + 0.005*\"nature\" + 0.005*\"future\" + 0.005*\"shirt\" + 0.005*\"available\" + 0.005*\"in\" + 0.004*\"electric\" + 0.004*\"bio\" + 0.004*\"link\" + 0.004*\"--\"\n",
      "0.005*\"plant\" + 0.005*\"design\" + 0.005*\"body\" + 0.005*\"nature\" + 0.004*\"in\" + 0.004*\"adidasoriginal\" + 0.004*\"joint\" + 0.004*\"and\" + 0.004*\"neck\" + 0.004*\"shoulder\"\n",
      "0.009*\"outdoor\" + 0.008*\"event\" + 0.006*\"shirt\" + 0.006*\"t\" + 0.006*\"--\" + 0.005*\"sneakers\" + 0.005*\"world\" + 0.005*\"shorts\" + 0.005*\"recreation\" + 0.005*\"white\"\n"
     ]
    }
   ],
   "source": [
    "n_topics=7\n",
    "alpha_val=0.5\n",
    "top_n = 30\n",
    "\n",
    "print('\\n------------------------LDA without TFIDF ----------------------- \\n')\n",
    "lda_cap = createLDA(column_name=column_name, im_cap_tf=data, n_topics=n_topics, alpha_val=alpha_val, top_n=top_n)\n",
    "\n",
    "print('\\n------------------------LDA with TFIDF ----------------------- \\n')\n",
    "lda_cap_tfidf = createLDA_TFIDF(column_name=column_name, im_cap_tf=data, n_topics=n_topics, alpha_val=alpha_val, top_n=top_n)"
   ]
  },
  {
   "cell_type": "code",
   "execution_count": null,
   "id": "01d4eda3",
   "metadata": {},
   "outputs": [],
   "source": []
  }
 ],
 "metadata": {
  "kernelspec": {
   "display_name": "Python 3 (ipykernel)",
   "language": "python",
   "name": "python3"
  },
  "language_info": {
   "codemirror_mode": {
    "name": "ipython",
    "version": 3
   },
   "file_extension": ".py",
   "mimetype": "text/x-python",
   "name": "python",
   "nbconvert_exporter": "python",
   "pygments_lexer": "ipython3",
   "version": "3.9.6"
  }
 },
 "nbformat": 4,
 "nbformat_minor": 5
}
