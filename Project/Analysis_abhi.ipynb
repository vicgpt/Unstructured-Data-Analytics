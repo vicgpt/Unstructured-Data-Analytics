{
 "cells": [
  {
   "cell_type": "code",
   "execution_count": 1,
   "id": "9d9a3301",
   "metadata": {},
   "outputs": [],
   "source": [
    "import pandas as pd\n",
    "import numpy as np\n",
    "import matplotlib.pyplot as plt\n",
    "%matplotlib inline"
   ]
  },
  {
   "cell_type": "markdown",
   "id": "1e540b10",
   "metadata": {},
   "source": [
    "### Nike : Intra-brand"
   ]
  },
  {
   "cell_type": "code",
   "execution_count": 2,
   "id": "e6cc7424",
   "metadata": {},
   "outputs": [],
   "source": [
    "import os"
   ]
  },
  {
   "cell_type": "code",
   "execution_count": 3,
   "id": "abed3e76",
   "metadata": {},
   "outputs": [
    {
     "data": {
      "text/plain": [
       "'/Users/abhinavsharma/Documents/GitHub/Unstructured-Data-Analytics/Project'"
      ]
     },
     "execution_count": 3,
     "metadata": {},
     "output_type": "execute_result"
    }
   ],
   "source": [
    "os.getcwd()"
   ]
  },
  {
   "cell_type": "code",
   "execution_count": 20,
   "id": "9299f5b1",
   "metadata": {},
   "outputs": [],
   "source": [
    "nike_tf = pd.read_csv('./Nike/nike_caption_tf.csv')"
   ]
  },
  {
   "cell_type": "code",
   "execution_count": 21,
   "id": "6107295b",
   "metadata": {},
   "outputs": [],
   "source": [
    "nike_tf.dropna(inplace=True)"
   ]
  },
  {
   "cell_type": "code",
   "execution_count": 22,
   "id": "9f34d98f",
   "metadata": {},
   "outputs": [
    {
     "data": {
      "text/plain": [
       "(611, 2833)"
      ]
     },
     "execution_count": 22,
     "metadata": {},
     "output_type": "execute_result"
    }
   ],
   "source": [
    "nike_tf.shape"
   ]
  },
  {
   "cell_type": "code",
   "execution_count": 23,
   "id": "a572027a",
   "metadata": {
    "scrolled": true
   },
   "outputs": [],
   "source": [
    "nike_tf.drop(['Unnamed: 0', 'caption_list', 'caption'], inplace=True, axis=1)\n"
   ]
  },
  {
   "cell_type": "code",
   "execution_count": 24,
   "id": "ca27ac19",
   "metadata": {},
   "outputs": [
    {
     "data": {
      "text/plain": [
       "0"
      ]
     },
     "execution_count": 24,
     "metadata": {},
     "output_type": "execute_result"
    }
   ],
   "source": [
    "nike_tf.isna().sum().sum()"
   ]
  },
  {
   "cell_type": "code",
   "execution_count": 25,
   "id": "ca240d6e",
   "metadata": {},
   "outputs": [
    {
     "data": {
      "text/plain": [
       "really             5\n",
       "shawnjohnsons      1\n",
       "toddantonyphoto    1\n",
       "nosajthe           1\n",
       "broken             1\n",
       "                  ..\n",
       "rise               7\n",
       "tomckean           1\n",
       "fencer             1\n",
       "gomofarah          1\n",
       "racer              2\n",
       "Length: 2830, dtype: int64"
      ]
     },
     "execution_count": 25,
     "metadata": {},
     "output_type": "execute_result"
    }
   ],
   "source": [
    "nike_tf.sum(axis=0)"
   ]
  },
  {
   "cell_type": "code",
   "execution_count": 26,
   "id": "2995867c",
   "metadata": {},
   "outputs": [
    {
     "data": {
      "text/plain": [
       "really             5\n",
       "shawnjohnsons      1\n",
       "toddantonyphoto    1\n",
       "nosajthe           1\n",
       "broken             1\n",
       "                  ..\n",
       "rise               7\n",
       "tomckean           1\n",
       "fencer             1\n",
       "gomofarah          1\n",
       "racer              2\n",
       "Length: 2830, dtype: int64"
      ]
     },
     "execution_count": 26,
     "metadata": {},
     "output_type": "execute_result"
    }
   ],
   "source": [
    "nike_tf.sum(axis=0)"
   ]
  },
  {
   "cell_type": "code",
   "execution_count": 27,
   "id": "b5ca70c1",
   "metadata": {},
   "outputs": [
    {
     "data": {
      "text/html": [
       "<div>\n",
       "<style scoped>\n",
       "    .dataframe tbody tr th:only-of-type {\n",
       "        vertical-align: middle;\n",
       "    }\n",
       "\n",
       "    .dataframe tbody tr th {\n",
       "        vertical-align: top;\n",
       "    }\n",
       "\n",
       "    .dataframe thead th {\n",
       "        text-align: right;\n",
       "    }\n",
       "</style>\n",
       "<table border=\"1\" class=\"dataframe\">\n",
       "  <thead>\n",
       "    <tr style=\"text-align: right;\">\n",
       "      <th></th>\n",
       "      <th>index</th>\n",
       "      <th>Frequency</th>\n",
       "    </tr>\n",
       "  </thead>\n",
       "  <tbody>\n",
       "    <tr>\n",
       "      <th>0</th>\n",
       "      <td>really</td>\n",
       "      <td>5</td>\n",
       "    </tr>\n",
       "    <tr>\n",
       "      <th>1</th>\n",
       "      <td>shawnjohnsons</td>\n",
       "      <td>1</td>\n",
       "    </tr>\n",
       "    <tr>\n",
       "      <th>2</th>\n",
       "      <td>toddantonyphoto</td>\n",
       "      <td>1</td>\n",
       "    </tr>\n",
       "    <tr>\n",
       "      <th>3</th>\n",
       "      <td>nosajthe</td>\n",
       "      <td>1</td>\n",
       "    </tr>\n",
       "    <tr>\n",
       "      <th>4</th>\n",
       "      <td>broken</td>\n",
       "      <td>1</td>\n",
       "    </tr>\n",
       "    <tr>\n",
       "      <th>...</th>\n",
       "      <td>...</td>\n",
       "      <td>...</td>\n",
       "    </tr>\n",
       "    <tr>\n",
       "      <th>2825</th>\n",
       "      <td>rise</td>\n",
       "      <td>7</td>\n",
       "    </tr>\n",
       "    <tr>\n",
       "      <th>2826</th>\n",
       "      <td>tomckean</td>\n",
       "      <td>1</td>\n",
       "    </tr>\n",
       "    <tr>\n",
       "      <th>2827</th>\n",
       "      <td>fencer</td>\n",
       "      <td>1</td>\n",
       "    </tr>\n",
       "    <tr>\n",
       "      <th>2828</th>\n",
       "      <td>gomofarah</td>\n",
       "      <td>1</td>\n",
       "    </tr>\n",
       "    <tr>\n",
       "      <th>2829</th>\n",
       "      <td>racer</td>\n",
       "      <td>2</td>\n",
       "    </tr>\n",
       "  </tbody>\n",
       "</table>\n",
       "<p>2830 rows × 2 columns</p>\n",
       "</div>"
      ],
      "text/plain": [
       "                index  Frequency\n",
       "0              really          5\n",
       "1       shawnjohnsons          1\n",
       "2     toddantonyphoto          1\n",
       "3            nosajthe          1\n",
       "4              broken          1\n",
       "...               ...        ...\n",
       "2825             rise          7\n",
       "2826         tomckean          1\n",
       "2827           fencer          1\n",
       "2828        gomofarah          1\n",
       "2829            racer          2\n",
       "\n",
       "[2830 rows x 2 columns]"
      ]
     },
     "execution_count": 27,
     "metadata": {},
     "output_type": "execute_result"
    }
   ],
   "source": [
    "freq_Nike = pd.DataFrame(nike_tf.sum(axis=0),nike_tf.columns,columns=['Frequency']).reset_index()\n",
    "freq_Nike\n"
   ]
  },
  {
   "cell_type": "code",
   "execution_count": 28,
   "id": "7c26c24a",
   "metadata": {
    "scrolled": true
   },
   "outputs": [
    {
     "data": {
      "text/html": [
       "<div>\n",
       "<style scoped>\n",
       "    .dataframe tbody tr th:only-of-type {\n",
       "        vertical-align: middle;\n",
       "    }\n",
       "\n",
       "    .dataframe tbody tr th {\n",
       "        vertical-align: top;\n",
       "    }\n",
       "\n",
       "    .dataframe thead th {\n",
       "        text-align: right;\n",
       "    }\n",
       "</style>\n",
       "<table border=\"1\" class=\"dataframe\">\n",
       "  <thead>\n",
       "    <tr style=\"text-align: right;\">\n",
       "      <th></th>\n",
       "      <th>Frequency</th>\n",
       "    </tr>\n",
       "  </thead>\n",
       "  <tbody>\n",
       "    <tr>\n",
       "      <th>count</th>\n",
       "      <td>2830.000000</td>\n",
       "    </tr>\n",
       "    <tr>\n",
       "      <th>mean</th>\n",
       "      <td>3.577032</td>\n",
       "    </tr>\n",
       "    <tr>\n",
       "      <th>std</th>\n",
       "      <td>8.989659</td>\n",
       "    </tr>\n",
       "    <tr>\n",
       "      <th>min</th>\n",
       "      <td>0.000000</td>\n",
       "    </tr>\n",
       "    <tr>\n",
       "      <th>25%</th>\n",
       "      <td>1.000000</td>\n",
       "    </tr>\n",
       "    <tr>\n",
       "      <th>50%</th>\n",
       "      <td>1.000000</td>\n",
       "    </tr>\n",
       "    <tr>\n",
       "      <th>75%</th>\n",
       "      <td>3.000000</td>\n",
       "    </tr>\n",
       "    <tr>\n",
       "      <th>max</th>\n",
       "      <td>281.000000</td>\n",
       "    </tr>\n",
       "  </tbody>\n",
       "</table>\n",
       "</div>"
      ],
      "text/plain": [
       "         Frequency\n",
       "count  2830.000000\n",
       "mean      3.577032\n",
       "std       8.989659\n",
       "min       0.000000\n",
       "25%       1.000000\n",
       "50%       1.000000\n",
       "75%       3.000000\n",
       "max     281.000000"
      ]
     },
     "execution_count": 28,
     "metadata": {},
     "output_type": "execute_result"
    }
   ],
   "source": [
    "freq_Nike['Frequency'] = freq_Nike['Frequency'].astype(str).astype(int)\n",
    "freq_Nike.describe()"
   ]
  },
  {
   "cell_type": "code",
   "execution_count": 35,
   "id": "3d17e7e1",
   "metadata": {},
   "outputs": [],
   "source": [
    "#FYR\n",
    "freq_Nike.sort_values(by='Frequency',ascending=False)\n",
    "freq_Nike.to_csv('freq_Nike.csv',index=False)"
   ]
  },
  {
   "cell_type": "markdown",
   "id": "f70f54d2",
   "metadata": {},
   "source": [
    "### Adidas\n"
   ]
  },
  {
   "cell_type": "code",
   "execution_count": 36,
   "id": "d39bc037",
   "metadata": {},
   "outputs": [
    {
     "data": {
      "text/plain": [
       "0"
      ]
     },
     "execution_count": 36,
     "metadata": {},
     "output_type": "execute_result"
    }
   ],
   "source": [
    "adidas_tf = pd.read_csv('./Adidas/adidas_caption_tf.csv')\n",
    "adidas_tf.dropna(inplace=True)\n",
    "adidas_tf.drop(['Unnamed: 0', 'caption_list', 'caption'], inplace=True, axis=1)\n",
    "adidas_tf.isna().sum().sum()\n"
   ]
  },
  {
   "cell_type": "code",
   "execution_count": 38,
   "id": "7ff856d8",
   "metadata": {},
   "outputs": [],
   "source": [
    "freq_Adidas = pd.DataFrame(adidas_tf.sum(axis=0),adidas_tf.columns,columns=['Frequency']).reset_index()\n",
    "#freq_Adidas"
   ]
  },
  {
   "cell_type": "code",
   "execution_count": 39,
   "id": "3c5478c4",
   "metadata": {},
   "outputs": [],
   "source": [
    "#FYR\n",
    "freq_Adidas.sort_values(by='Frequency',ascending=False)\n",
    "freq_Adidas.to_csv('freq_Adidas.csv',index=False)"
   ]
  },
  {
   "cell_type": "markdown",
   "id": "c3d602cc",
   "metadata": {},
   "source": [
    "### Nike - Top 20 percent engagement"
   ]
  }
 ],
 "metadata": {
  "hide_input": false,
  "kernelspec": {
   "display_name": "Python 3",
   "language": "python",
   "name": "python3"
  },
  "language_info": {
   "codemirror_mode": {
    "name": "ipython",
    "version": 3
   },
   "file_extension": ".py",
   "mimetype": "text/x-python",
   "name": "python",
   "nbconvert_exporter": "python",
   "pygments_lexer": "ipython3",
   "version": "3.8.8"
  },
  "toc": {
   "base_numbering": 1,
   "nav_menu": {},
   "number_sections": true,
   "sideBar": true,
   "skip_h1_title": false,
   "title_cell": "Table of Contents",
   "title_sidebar": "Contents",
   "toc_cell": false,
   "toc_position": {},
   "toc_section_display": true,
   "toc_window_display": false
  },
  "varInspector": {
   "cols": {
    "lenName": 16,
    "lenType": 16,
    "lenVar": 40
   },
   "kernels_config": {
    "python": {
     "delete_cmd_postfix": "",
     "delete_cmd_prefix": "del ",
     "library": "var_list.py",
     "varRefreshCmd": "print(var_dic_list())"
    },
    "r": {
     "delete_cmd_postfix": ") ",
     "delete_cmd_prefix": "rm(",
     "library": "var_list.r",
     "varRefreshCmd": "cat(var_dic_list()) "
    }
   },
   "types_to_exclude": [
    "module",
    "function",
    "builtin_function_or_method",
    "instance",
    "_Feature"
   ],
   "window_display": false
  }
 },
 "nbformat": 4,
 "nbformat_minor": 5
}
