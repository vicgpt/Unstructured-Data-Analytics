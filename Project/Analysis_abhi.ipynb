{
 "cells": [
  {
   "cell_type": "code",
   "execution_count": 1,
   "id": "1be058a7",
   "metadata": {},
   "outputs": [],
   "source": [
    "import pandas as pd\n",
    "import numpy as np\n",
    "import matplotlib.pyplot as plt\n",
    "%matplotlib inline\n",
    "pd.options.mode.chained_assignment = None  # default='warn'"
   ]
  },
  {
   "cell_type": "markdown",
   "id": "81888477",
   "metadata": {},
   "source": [
    "### Nike : Intra-brand"
   ]
  },
  {
   "cell_type": "code",
   "execution_count": 2,
   "id": "809598e7",
   "metadata": {},
   "outputs": [],
   "source": [
    "import os"
   ]
  },
  {
   "cell_type": "code",
   "execution_count": 3,
   "id": "3b779e7c",
   "metadata": {},
   "outputs": [
    {
     "data": {
      "text/plain": [
       "'/Users/abhinavsharma/Documents/GitHub/Unstructured-Data-Analytics/Project'"
      ]
     },
     "execution_count": 3,
     "metadata": {},
     "output_type": "execute_result"
    }
   ],
   "source": [
    "os.getcwd()"
   ]
  },
  {
   "cell_type": "code",
   "execution_count": 4,
   "id": "2172c3b2",
   "metadata": {},
   "outputs": [],
   "source": [
    "nike_tf = pd.read_csv('./Nike/nike_caption_tf.csv')\n",
    "nike_metrics = pd.read_csv('Nike/nike_data.csv')"
   ]
  },
  {
   "cell_type": "code",
   "execution_count": 5,
   "id": "b5848062",
   "metadata": {},
   "outputs": [
    {
     "data": {
      "text/html": [
       "<div>\n",
       "<style scoped>\n",
       "    .dataframe tbody tr th:only-of-type {\n",
       "        vertical-align: middle;\n",
       "    }\n",
       "\n",
       "    .dataframe tbody tr th {\n",
       "        vertical-align: top;\n",
       "    }\n",
       "\n",
       "    .dataframe thead th {\n",
       "        text-align: right;\n",
       "    }\n",
       "</style>\n",
       "<table border=\"1\" class=\"dataframe\">\n",
       "  <thead>\n",
       "    <tr style=\"text-align: right;\">\n",
       "      <th></th>\n",
       "      <th>Unnamed: 0</th>\n",
       "      <th>really</th>\n",
       "      <th>shawnjohnsons</th>\n",
       "      <th>toddantonyphoto</th>\n",
       "      <th>nosajthe</th>\n",
       "      <th>broken</th>\n",
       "      <th>tired</th>\n",
       "      <th>collect</th>\n",
       "      <th>brasileira</th>\n",
       "      <th>best</th>\n",
       "      <th>...</th>\n",
       "      <th>universal</th>\n",
       "      <th>narrow</th>\n",
       "      <th>bowerman</th>\n",
       "      <th>corner</th>\n",
       "      <th>rise</th>\n",
       "      <th>tomckean</th>\n",
       "      <th>fencer</th>\n",
       "      <th>gomofarah</th>\n",
       "      <th>racer</th>\n",
       "      <th>caption_list</th>\n",
       "    </tr>\n",
       "  </thead>\n",
       "  <tbody>\n",
       "    <tr>\n",
       "      <th>70</th>\n",
       "      <td>70</td>\n",
       "      <td>0</td>\n",
       "      <td>0</td>\n",
       "      <td>0</td>\n",
       "      <td>0</td>\n",
       "      <td>0</td>\n",
       "      <td>0</td>\n",
       "      <td>0</td>\n",
       "      <td>0</td>\n",
       "      <td>0</td>\n",
       "      <td>...</td>\n",
       "      <td>0</td>\n",
       "      <td>0</td>\n",
       "      <td>0</td>\n",
       "      <td>0</td>\n",
       "      <td>0</td>\n",
       "      <td>0</td>\n",
       "      <td>0</td>\n",
       "      <td>0</td>\n",
       "      <td>0</td>\n",
       "      <td>['nan']</td>\n",
       "    </tr>\n",
       "  </tbody>\n",
       "</table>\n",
       "<p>1 rows × 2833 columns</p>\n",
       "</div>"
      ],
      "text/plain": [
       "    Unnamed: 0  really  shawnjohnsons  toddantonyphoto  nosajthe  broken  \\\n",
       "70          70       0              0                0         0       0   \n",
       "\n",
       "    tired  collect  brasileira  best  ...  universal  narrow  bowerman  \\\n",
       "70      0        0           0     0  ...          0       0         0   \n",
       "\n",
       "    corner  rise  tomckean  fencer  gomofarah  racer  caption_list  \n",
       "70       0     0         0       0          0      0       ['nan']  \n",
       "\n",
       "[1 rows x 2833 columns]"
      ]
     },
     "execution_count": 5,
     "metadata": {},
     "output_type": "execute_result"
    }
   ],
   "source": [
    "nike_tf[nike_tf.isnull().any(axis=1)]"
   ]
  },
  {
   "cell_type": "code",
   "execution_count": 6,
   "id": "97d8f1e5",
   "metadata": {},
   "outputs": [
    {
     "data": {
      "text/plain": [
       "(611, 6)"
      ]
     },
     "execution_count": 6,
     "metadata": {},
     "output_type": "execute_result"
    }
   ],
   "source": [
    "nike_metrics.drop(index = nike_tf[nike_tf.isnull().any(axis=1)].index ,inplace=True)\n",
    "nike_metrics.shape"
   ]
  },
  {
   "cell_type": "code",
   "execution_count": 7,
   "id": "a44396d2",
   "metadata": {},
   "outputs": [],
   "source": [
    "nike_tf.dropna(inplace=True)"
   ]
  },
  {
   "cell_type": "code",
   "execution_count": 8,
   "id": "acc66426",
   "metadata": {},
   "outputs": [
    {
     "data": {
      "text/plain": [
       "(611, 2833)"
      ]
     },
     "execution_count": 8,
     "metadata": {},
     "output_type": "execute_result"
    }
   ],
   "source": [
    "nike_tf.shape"
   ]
  },
  {
   "cell_type": "code",
   "execution_count": 9,
   "id": "2d0a60ad",
   "metadata": {
    "scrolled": true
   },
   "outputs": [],
   "source": [
    "nike_tf.drop(['Unnamed: 0', 'caption_list', 'caption'], inplace=True, axis=1)\n"
   ]
  },
  {
   "cell_type": "code",
   "execution_count": 10,
   "id": "e5b407d4",
   "metadata": {},
   "outputs": [
    {
     "data": {
      "text/plain": [
       "0"
      ]
     },
     "execution_count": 10,
     "metadata": {},
     "output_type": "execute_result"
    }
   ],
   "source": [
    "nike_tf.isna().sum().sum()"
   ]
  },
  {
   "cell_type": "code",
   "execution_count": 11,
   "id": "c51225f7",
   "metadata": {},
   "outputs": [
    {
     "data": {
      "text/plain": [
       "really             5\n",
       "shawnjohnsons      1\n",
       "toddantonyphoto    1\n",
       "nosajthe           1\n",
       "broken             1\n",
       "                  ..\n",
       "rise               7\n",
       "tomckean           1\n",
       "fencer             1\n",
       "gomofarah          1\n",
       "racer              2\n",
       "Length: 2830, dtype: int64"
      ]
     },
     "execution_count": 11,
     "metadata": {},
     "output_type": "execute_result"
    }
   ],
   "source": [
    "nike_tf.sum(axis=0)"
   ]
  },
  {
   "cell_type": "code",
   "execution_count": 12,
   "id": "a4af8b21",
   "metadata": {},
   "outputs": [
    {
     "data": {
      "text/plain": [
       "really             5\n",
       "shawnjohnsons      1\n",
       "toddantonyphoto    1\n",
       "nosajthe           1\n",
       "broken             1\n",
       "                  ..\n",
       "rise               7\n",
       "tomckean           1\n",
       "fencer             1\n",
       "gomofarah          1\n",
       "racer              2\n",
       "Length: 2830, dtype: int64"
      ]
     },
     "execution_count": 12,
     "metadata": {},
     "output_type": "execute_result"
    }
   ],
   "source": [
    "nike_tf.sum(axis=0)"
   ]
  },
  {
   "cell_type": "code",
   "execution_count": 13,
   "id": "27ee30b1",
   "metadata": {},
   "outputs": [
    {
     "data": {
      "text/html": [
       "<div>\n",
       "<style scoped>\n",
       "    .dataframe tbody tr th:only-of-type {\n",
       "        vertical-align: middle;\n",
       "    }\n",
       "\n",
       "    .dataframe tbody tr th {\n",
       "        vertical-align: top;\n",
       "    }\n",
       "\n",
       "    .dataframe thead th {\n",
       "        text-align: right;\n",
       "    }\n",
       "</style>\n",
       "<table border=\"1\" class=\"dataframe\">\n",
       "  <thead>\n",
       "    <tr style=\"text-align: right;\">\n",
       "      <th></th>\n",
       "      <th>index</th>\n",
       "      <th>Frequency</th>\n",
       "    </tr>\n",
       "  </thead>\n",
       "  <tbody>\n",
       "    <tr>\n",
       "      <th>0</th>\n",
       "      <td>really</td>\n",
       "      <td>5</td>\n",
       "    </tr>\n",
       "    <tr>\n",
       "      <th>1</th>\n",
       "      <td>shawnjohnsons</td>\n",
       "      <td>1</td>\n",
       "    </tr>\n",
       "    <tr>\n",
       "      <th>2</th>\n",
       "      <td>toddantonyphoto</td>\n",
       "      <td>1</td>\n",
       "    </tr>\n",
       "    <tr>\n",
       "      <th>3</th>\n",
       "      <td>nosajthe</td>\n",
       "      <td>1</td>\n",
       "    </tr>\n",
       "    <tr>\n",
       "      <th>4</th>\n",
       "      <td>broken</td>\n",
       "      <td>1</td>\n",
       "    </tr>\n",
       "    <tr>\n",
       "      <th>...</th>\n",
       "      <td>...</td>\n",
       "      <td>...</td>\n",
       "    </tr>\n",
       "    <tr>\n",
       "      <th>2825</th>\n",
       "      <td>rise</td>\n",
       "      <td>7</td>\n",
       "    </tr>\n",
       "    <tr>\n",
       "      <th>2826</th>\n",
       "      <td>tomckean</td>\n",
       "      <td>1</td>\n",
       "    </tr>\n",
       "    <tr>\n",
       "      <th>2827</th>\n",
       "      <td>fencer</td>\n",
       "      <td>1</td>\n",
       "    </tr>\n",
       "    <tr>\n",
       "      <th>2828</th>\n",
       "      <td>gomofarah</td>\n",
       "      <td>1</td>\n",
       "    </tr>\n",
       "    <tr>\n",
       "      <th>2829</th>\n",
       "      <td>racer</td>\n",
       "      <td>2</td>\n",
       "    </tr>\n",
       "  </tbody>\n",
       "</table>\n",
       "<p>2830 rows × 2 columns</p>\n",
       "</div>"
      ],
      "text/plain": [
       "                index  Frequency\n",
       "0              really          5\n",
       "1       shawnjohnsons          1\n",
       "2     toddantonyphoto          1\n",
       "3            nosajthe          1\n",
       "4              broken          1\n",
       "...               ...        ...\n",
       "2825             rise          7\n",
       "2826         tomckean          1\n",
       "2827           fencer          1\n",
       "2828        gomofarah          1\n",
       "2829            racer          2\n",
       "\n",
       "[2830 rows x 2 columns]"
      ]
     },
     "execution_count": 13,
     "metadata": {},
     "output_type": "execute_result"
    }
   ],
   "source": [
    "freq_Nike = pd.DataFrame(nike_tf.sum(axis=0),nike_tf.columns,columns=['Frequency']).reset_index()\n",
    "freq_Nike\n"
   ]
  },
  {
   "cell_type": "code",
   "execution_count": 14,
   "id": "3ea176d8",
   "metadata": {
    "scrolled": true
   },
   "outputs": [
    {
     "data": {
      "text/html": [
       "<div>\n",
       "<style scoped>\n",
       "    .dataframe tbody tr th:only-of-type {\n",
       "        vertical-align: middle;\n",
       "    }\n",
       "\n",
       "    .dataframe tbody tr th {\n",
       "        vertical-align: top;\n",
       "    }\n",
       "\n",
       "    .dataframe thead th {\n",
       "        text-align: right;\n",
       "    }\n",
       "</style>\n",
       "<table border=\"1\" class=\"dataframe\">\n",
       "  <thead>\n",
       "    <tr style=\"text-align: right;\">\n",
       "      <th></th>\n",
       "      <th>Frequency</th>\n",
       "    </tr>\n",
       "  </thead>\n",
       "  <tbody>\n",
       "    <tr>\n",
       "      <th>count</th>\n",
       "      <td>2830.000000</td>\n",
       "    </tr>\n",
       "    <tr>\n",
       "      <th>mean</th>\n",
       "      <td>3.577032</td>\n",
       "    </tr>\n",
       "    <tr>\n",
       "      <th>std</th>\n",
       "      <td>8.989659</td>\n",
       "    </tr>\n",
       "    <tr>\n",
       "      <th>min</th>\n",
       "      <td>0.000000</td>\n",
       "    </tr>\n",
       "    <tr>\n",
       "      <th>25%</th>\n",
       "      <td>1.000000</td>\n",
       "    </tr>\n",
       "    <tr>\n",
       "      <th>50%</th>\n",
       "      <td>1.000000</td>\n",
       "    </tr>\n",
       "    <tr>\n",
       "      <th>75%</th>\n",
       "      <td>3.000000</td>\n",
       "    </tr>\n",
       "    <tr>\n",
       "      <th>max</th>\n",
       "      <td>281.000000</td>\n",
       "    </tr>\n",
       "  </tbody>\n",
       "</table>\n",
       "</div>"
      ],
      "text/plain": [
       "         Frequency\n",
       "count  2830.000000\n",
       "mean      3.577032\n",
       "std       8.989659\n",
       "min       0.000000\n",
       "25%       1.000000\n",
       "50%       1.000000\n",
       "75%       3.000000\n",
       "max     281.000000"
      ]
     },
     "execution_count": 14,
     "metadata": {},
     "output_type": "execute_result"
    }
   ],
   "source": [
    "freq_Nike['Frequency'] = freq_Nike['Frequency'].astype(str).astype(int)\n",
    "freq_Nike.describe()"
   ]
  },
  {
   "cell_type": "code",
   "execution_count": 15,
   "id": "ab2d3733",
   "metadata": {},
   "outputs": [],
   "source": [
    "#FYR\n",
    "freq_Nike.sort_values(by='Frequency',ascending=False)\n",
    "freq_Nike.to_csv('Nike/freq_Nike.csv',index=False)"
   ]
  },
  {
   "cell_type": "markdown",
   "id": "555f4d4d",
   "metadata": {},
   "source": [
    "### Adidas\n"
   ]
  },
  {
   "cell_type": "code",
   "execution_count": 16,
   "id": "5f9f063a",
   "metadata": {},
   "outputs": [
    {
     "data": {
      "text/plain": [
       "0"
      ]
     },
     "execution_count": 16,
     "metadata": {},
     "output_type": "execute_result"
    }
   ],
   "source": [
    "adidas_tf = pd.read_csv('./Adidas/adidas_caption_tf.csv')\n",
    "adidas_tf.dropna(inplace=True)\n",
    "adidas_tf.drop(['Unnamed: 0', 'caption_list', 'caption'], inplace=True, axis=1)\n",
    "adidas_tf.isna().sum().sum()\n"
   ]
  },
  {
   "cell_type": "code",
   "execution_count": 17,
   "id": "12d92da5",
   "metadata": {},
   "outputs": [],
   "source": [
    "freq_Adidas = pd.DataFrame(adidas_tf.sum(axis=0),adidas_tf.columns,columns=['Frequency']).reset_index()\n",
    "#freq_Adidas"
   ]
  },
  {
   "cell_type": "code",
   "execution_count": 18,
   "id": "9b68bf71",
   "metadata": {},
   "outputs": [],
   "source": [
    "#FYR\n",
    "freq_Adidas.sort_values(by='Frequency',ascending=False)\n",
    "freq_Adidas.to_csv('Adidas/freq_Adidas.csv',index=False)"
   ]
  },
  {
   "cell_type": "markdown",
   "id": "f0522b48",
   "metadata": {},
   "source": [
    "### Nike - Top 20 percent engagement"
   ]
  },
  {
   "cell_type": "code",
   "execution_count": 19,
   "id": "d1de1e28",
   "metadata": {},
   "outputs": [
    {
     "data": {
      "text/plain": [
       "611"
      ]
     },
     "execution_count": 19,
     "metadata": {},
     "output_type": "execute_result"
    }
   ],
   "source": [
    "#nike_tf = pd.read_csv('./Nike/nike_caption_tf.csv')\n",
    "#len(set(nike_metrics['caption']).intersection(set(nike_tf['caption']))) -- 410\n",
    "len(nike_metrics)"
   ]
  },
  {
   "cell_type": "code",
   "execution_count": 22,
   "id": "4a63328e",
   "metadata": {},
   "outputs": [],
   "source": [
    "def likes_conversion(likes):\n",
    "    if 'k' in likes:\n",
    "        return int(likes.replace('k', ''))\n",
    "    elif 'm' in likes:\n",
    "        return 1000*int(likes.replace('m', ''))\n",
    "    elif ('k' not in likes) & ('m' not in likes):\n",
    "        return int(likes.replace('m', ''))/1000\n",
    "    else:\n",
    "        return int(likes)\n",
    "nike_metrics['n_likes_1000'] = nike_metrics['n_likes_1000'].map(likes_conversion)"
   ]
  },
  {
   "cell_type": "code",
   "execution_count": 27,
   "id": "439f790d",
   "metadata": {},
   "outputs": [
    {
     "data": {
      "text/plain": [
       "336.0"
      ]
     },
     "execution_count": 27,
     "metadata": {},
     "output_type": "execute_result"
    }
   ],
   "source": [
    "lower_l = nike_metrics.quantile(0.2)['n_likes_1000']\n",
    "upper_l = nike_metrics.quantile(0.8)['n_likes_1000']\n",
    "upper_l"
   ]
  },
  {
   "cell_type": "code",
   "execution_count": 34,
   "id": "13b49643",
   "metadata": {},
   "outputs": [],
   "source": [
    "nike_tf['Likes'] = nike_metrics['n_likes_1000']\n",
    "intra_nike_low = nike_tf[nike_tf['Likes'] <= lower_l]\n",
    "intra_nike_low.drop('Likes',inplace=True,axis=1)\n",
    "intra_nike_high = nike_tf[nike_tf['Likes'] >= upper_l]\n",
    "intra_nike_high.drop('Likes',inplace=True,axis=1)"
   ]
  },
  {
   "cell_type": "code",
   "execution_count": 37,
   "id": "c32ac5a9",
   "metadata": {},
   "outputs": [
    {
     "data": {
      "text/html": [
       "<div>\n",
       "<style scoped>\n",
       "    .dataframe tbody tr th:only-of-type {\n",
       "        vertical-align: middle;\n",
       "    }\n",
       "\n",
       "    .dataframe tbody tr th {\n",
       "        vertical-align: top;\n",
       "    }\n",
       "\n",
       "    .dataframe thead th {\n",
       "        text-align: right;\n",
       "    }\n",
       "</style>\n",
       "<table border=\"1\" class=\"dataframe\">\n",
       "  <thead>\n",
       "    <tr style=\"text-align: right;\">\n",
       "      <th></th>\n",
       "      <th>index</th>\n",
       "      <th>Frequency</th>\n",
       "    </tr>\n",
       "  </thead>\n",
       "  <tbody>\n",
       "    <tr>\n",
       "      <th>604</th>\n",
       "      <td>nike</td>\n",
       "      <td>104</td>\n",
       "    </tr>\n",
       "    <tr>\n",
       "      <th>2440</th>\n",
       "      <td>run</td>\n",
       "      <td>44</td>\n",
       "    </tr>\n",
       "    <tr>\n",
       "      <th>2775</th>\n",
       "      <td>nikeplus</td>\n",
       "      <td>26</td>\n",
       "    </tr>\n",
       "    <tr>\n",
       "      <th>133</th>\n",
       "      <td>marathon</td>\n",
       "      <td>26</td>\n",
       "    </tr>\n",
       "    <tr>\n",
       "      <th>2737</th>\n",
       "      <td>nikefuel</td>\n",
       "      <td>17</td>\n",
       "    </tr>\n",
       "    <tr>\n",
       "      <th>...</th>\n",
       "      <td>...</td>\n",
       "      <td>...</td>\n",
       "    </tr>\n",
       "    <tr>\n",
       "      <th>1110</th>\n",
       "      <td>sorry</td>\n",
       "      <td>0</td>\n",
       "    </tr>\n",
       "    <tr>\n",
       "      <th>1112</th>\n",
       "      <td>devote</td>\n",
       "      <td>0</td>\n",
       "    </tr>\n",
       "    <tr>\n",
       "      <th>1113</th>\n",
       "      <td>jump</td>\n",
       "      <td>0</td>\n",
       "    </tr>\n",
       "    <tr>\n",
       "      <th>1114</th>\n",
       "      <td>ensine</td>\n",
       "      <td>0</td>\n",
       "    </tr>\n",
       "    <tr>\n",
       "      <th>1415</th>\n",
       "      <td>regret</td>\n",
       "      <td>0</td>\n",
       "    </tr>\n",
       "  </tbody>\n",
       "</table>\n",
       "<p>2830 rows × 2 columns</p>\n",
       "</div>"
      ],
      "text/plain": [
       "         index  Frequency\n",
       "604       nike        104\n",
       "2440       run         44\n",
       "2775  nikeplus         26\n",
       "133   marathon         26\n",
       "2737  nikefuel         17\n",
       "...        ...        ...\n",
       "1110     sorry          0\n",
       "1112    devote          0\n",
       "1113      jump          0\n",
       "1114    ensine          0\n",
       "1415    regret          0\n",
       "\n",
       "[2830 rows x 2 columns]"
      ]
     },
     "execution_count": 37,
     "metadata": {},
     "output_type": "execute_result"
    }
   ],
   "source": [
    "freq_Nike_l = pd.DataFrame(intra_nike_low.sum(axis=0),intra_nike_low.columns,columns=['Frequency']).reset_index()\n",
    "freq_Nike_l['Frequency'] = freq_Nike_l['Frequency'].astype(str).astype(int)\n",
    "freq_Nike_l = freq_Nike_l.sort_values(by='Frequency',ascending=False)\n",
    "freq_Nike_l.to_csv('Nike/freq_Nike_lowlikes.csv',index=False)\n",
    "freq_Nike_l"
   ]
  },
  {
   "cell_type": "code",
   "execution_count": 38,
   "id": "dec0d27e",
   "metadata": {},
   "outputs": [
    {
     "data": {
      "text/html": [
       "<div>\n",
       "<style scoped>\n",
       "    .dataframe tbody tr th:only-of-type {\n",
       "        vertical-align: middle;\n",
       "    }\n",
       "\n",
       "    .dataframe tbody tr th {\n",
       "        vertical-align: top;\n",
       "    }\n",
       "\n",
       "    .dataframe thead th {\n",
       "        text-align: right;\n",
       "    }\n",
       "</style>\n",
       "<table border=\"1\" class=\"dataframe\">\n",
       "  <thead>\n",
       "    <tr style=\"text-align: right;\">\n",
       "      <th></th>\n",
       "      <th>index</th>\n",
       "      <th>Frequency</th>\n",
       "    </tr>\n",
       "  </thead>\n",
       "  <tbody>\n",
       "    <tr>\n",
       "      <th>1943</th>\n",
       "      <td>justdoit</td>\n",
       "      <td>64</td>\n",
       "    </tr>\n",
       "    <tr>\n",
       "      <th>1141</th>\n",
       "      <td>world</td>\n",
       "      <td>25</td>\n",
       "    </tr>\n",
       "    <tr>\n",
       "      <th>1860</th>\n",
       "      <td>dream</td>\n",
       "      <td>18</td>\n",
       "    </tr>\n",
       "    <tr>\n",
       "      <th>1102</th>\n",
       "      <td>woman</td>\n",
       "      <td>14</td>\n",
       "    </tr>\n",
       "    <tr>\n",
       "      <th>604</th>\n",
       "      <td>nike</td>\n",
       "      <td>14</td>\n",
       "    </tr>\n",
       "    <tr>\n",
       "      <th>...</th>\n",
       "      <td>...</td>\n",
       "      <td>...</td>\n",
       "    </tr>\n",
       "    <tr>\n",
       "      <th>1101</th>\n",
       "      <td>saradunlop</td>\n",
       "      <td>0</td>\n",
       "    </tr>\n",
       "    <tr>\n",
       "      <th>1100</th>\n",
       "      <td>force</td>\n",
       "      <td>0</td>\n",
       "    </tr>\n",
       "    <tr>\n",
       "      <th>1099</th>\n",
       "      <td>global</td>\n",
       "      <td>0</td>\n",
       "    </tr>\n",
       "    <tr>\n",
       "      <th>1098</th>\n",
       "      <td>kristina</td>\n",
       "      <td>0</td>\n",
       "    </tr>\n",
       "    <tr>\n",
       "      <th>2829</th>\n",
       "      <td>racer</td>\n",
       "      <td>0</td>\n",
       "    </tr>\n",
       "  </tbody>\n",
       "</table>\n",
       "<p>2830 rows × 2 columns</p>\n",
       "</div>"
      ],
      "text/plain": [
       "           index  Frequency\n",
       "1943    justdoit         64\n",
       "1141       world         25\n",
       "1860       dream         18\n",
       "1102       woman         14\n",
       "604         nike         14\n",
       "...          ...        ...\n",
       "1101  saradunlop          0\n",
       "1100       force          0\n",
       "1099      global          0\n",
       "1098    kristina          0\n",
       "2829       racer          0\n",
       "\n",
       "[2830 rows x 2 columns]"
      ]
     },
     "execution_count": 38,
     "metadata": {},
     "output_type": "execute_result"
    }
   ],
   "source": [
    "freq_Nike_u = pd.DataFrame(intra_nike_high.sum(axis=0),intra_nike_high.columns,columns=['Frequency']).reset_index()\n",
    "freq_Nike_u['Frequency'] = freq_Nike_u['Frequency'].astype(str).astype(int)\n",
    "freq_Nike_u = freq_Nike_u.sort_values(by='Frequency',ascending=False)\n",
    "freq_Nike_u.to_csv('Nike/freq_Nike_highlikes.csv',index=False)\n",
    "freq_Nike_u"
   ]
  },
  {
   "cell_type": "code",
   "execution_count": 50,
   "id": "14525692",
   "metadata": {},
   "outputs": [
    {
     "name": "stderr",
     "output_type": "stream",
     "text": [
      "/Users/abhinavsharma/opt/anaconda3/lib/python3.8/site-packages/seaborn/distributions.py:2557: FutureWarning: `distplot` is a deprecated function and will be removed in a future version. Please adapt your code to use either `displot` (a figure-level function with similar flexibility) or `histplot` (an axes-level function for histograms).\n",
      "  warnings.warn(msg, FutureWarning)\n",
      "/Users/abhinavsharma/opt/anaconda3/lib/python3.8/site-packages/seaborn/distributions.py:2557: FutureWarning: `distplot` is a deprecated function and will be removed in a future version. Please adapt your code to use either `displot` (a figure-level function with similar flexibility) or `histplot` (an axes-level function for histograms).\n",
      "  warnings.warn(msg, FutureWarning)\n"
     ]
    },
    {
     "data": {
      "text/plain": [
       "<AxesSubplot:xlabel='Frequency', ylabel='Density'>"
      ]
     },
     "execution_count": 50,
     "metadata": {},
     "output_type": "execute_result"
    },
    {
     "data": {
      "image/png": "[encoded data removed]",
      "text/plain": [
       "<Figure size 432x288 with 1 Axes>"
      ]
     },
     "metadata": {
      "needs_background": "light"
     },
     "output_type": "display_data"
    }
   ],
   "source": [
    "#Sns histogram - Inter brand\n",
    "import seaborn as sns\n",
    "import numpy as np\n",
    "\n",
    "sns.distplot(np.log(1+freq_Nike['Frequency']))\n",
    "sns.distplot(np.log(1+freq_Adidas['Frequency']))"
   ]
  }
 ],
 "metadata": {
  "hide_input": false,
  "kernelspec": {
   "display_name": "Python 3",
   "language": "python",
   "name": "python3"
  },
  "language_info": {
   "codemirror_mode": {
    "name": "ipython",
    "version": 3
   },
   "file_extension": ".py",
   "mimetype": "text/x-python",
   "name": "python",
   "nbconvert_exporter": "python",
   "pygments_lexer": "ipython3",
   "version": "3.8.8"
  },
  "toc": {
   "base_numbering": 1,
   "nav_menu": {},
   "number_sections": true,
   "sideBar": true,
   "skip_h1_title": false,
   "title_cell": "Table of Contents",
   "title_sidebar": "Contents",
   "toc_cell": false,
   "toc_position": {},
   "toc_section_display": true,
   "toc_window_display": false
  },
  "varInspector": {
   "cols": {
    "lenName": 16,
    "lenType": 16,
    "lenVar": 40
   },
   "kernels_config": {
    "python": {
     "delete_cmd_postfix": "",
     "delete_cmd_prefix": "del ",
     "library": "var_list.py",
     "varRefreshCmd": "print(var_dic_list())"
    },
    "r": {
     "delete_cmd_postfix": ") ",
     "delete_cmd_prefix": "rm(",
     "library": "var_list.r",
     "varRefreshCmd": "cat(var_dic_list()) "
    }
   },
   "types_to_exclude": [
    "module",
    "function",
    "builtin_function_or_method",
    "instance",
    "_Feature"
   ],
   "window_display": false
  }
 },
 "nbformat": 4,
 "nbformat_minor": 5
}
