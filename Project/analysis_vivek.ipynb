{
 "cells": [
  {
   "cell_type": "code",
   "execution_count": 73,
   "id": "57cfc39b",
   "metadata": {},
   "outputs": [],
   "source": [
    "import pandas as pd\n",
    "import re\n",
    "\n",
    "import string\n",
    "import spacy\n",
    "from spacy import displacy"
   ]
  },
  {
   "cell_type": "code",
   "execution_count": 74,
   "id": "fd0f8ad2",
   "metadata": {},
   "outputs": [],
   "source": [
    "NLP = spacy.load(\"en_core_web_sm\")"
   ]
  },
  {
   "cell_type": "code",
   "execution_count": 75,
   "id": "7495d006",
   "metadata": {},
   "outputs": [],
   "source": [
    "nike_data = pd.read_csv('nike_data.csv', index_col=0)\n",
    "nike_data.dropna(inplace = True)"
   ]
  },
  {
   "cell_type": "code",
   "execution_count": 76,
   "id": "9fe86bf5",
   "metadata": {},
   "outputs": [
    {
     "data": {
      "text/plain": [
       "'Meet @azusa25nigo, the founder of @skate_girls_snap. 🛹\\n\\nSkate Girls Snap is a project that celebrates the diversity within Tokyo’s growing women’s skate scene. Through this project, Azusa is creating a more inclusive skate culture and inspiring the \\nnext generation of female skaters to be themselves.\\n\\nLearn more about Skate Girls Snap and Azusa’s skate crew. Link in bio.\\n\\n🎥: @nobu_arakawa @callumhasegawa'"
      ]
     },
     "execution_count": 76,
     "metadata": {},
     "output_type": "execute_result"
    }
   ],
   "source": [
    "nike_data.iloc[1]['caption']"
   ]
  },
  {
   "cell_type": "code",
   "execution_count": 77,
   "id": "00c45867",
   "metadata": {},
   "outputs": [
    {
     "data": {
      "text/plain": [
       "(623, 5)"
      ]
     },
     "execution_count": 77,
     "metadata": {},
     "output_type": "execute_result"
    }
   ],
   "source": [
    "nike_data.shape"
   ]
  },
  {
   "cell_type": "code",
   "execution_count": 78,
   "id": "c6ed7f61",
   "metadata": {},
   "outputs": [
    {
     "data": {
      "text/plain": [
       "Index(['img_url', 'caption', 'n_likes_1000', 'n_comments', 'age'], dtype='object')"
      ]
     },
     "execution_count": 78,
     "metadata": {},
     "output_type": "execute_result"
    }
   ],
   "source": [
    "nike_data.columns"
   ]
  },
  {
   "cell_type": "code",
   "execution_count": 79,
   "id": "28fd79ac",
   "metadata": {},
   "outputs": [
    {
     "data": {
      "text/html": [
       "<div>\n",
       "<style scoped>\n",
       "    .dataframe tbody tr th:only-of-type {\n",
       "        vertical-align: middle;\n",
       "    }\n",
       "\n",
       "    .dataframe tbody tr th {\n",
       "        vertical-align: top;\n",
       "    }\n",
       "\n",
       "    .dataframe thead th {\n",
       "        text-align: right;\n",
       "    }\n",
       "</style>\n",
       "<table border=\"1\" class=\"dataframe\">\n",
       "  <thead>\n",
       "    <tr style=\"text-align: right;\">\n",
       "      <th></th>\n",
       "      <th>img_url</th>\n",
       "      <th>caption</th>\n",
       "      <th>n_likes_1000</th>\n",
       "      <th>n_comments</th>\n",
       "      <th>age</th>\n",
       "    </tr>\n",
       "  </thead>\n",
       "  <tbody>\n",
       "    <tr>\n",
       "      <th>0</th>\n",
       "      <td>https://scontent-waw1-1.cdninstagram.com/v/t51...</td>\n",
       "      <td>“100% of myself is nothing compared to 1% of t...</td>\n",
       "      <td>218k</td>\n",
       "      <td>9590</td>\n",
       "      <td>1 day ago</td>\n",
       "    </tr>\n",
       "    <tr>\n",
       "      <th>1</th>\n",
       "      <td>https://scontent-waw1-1.cdninstagram.com/v/t51...</td>\n",
       "      <td>Meet @azusa25nigo, the founder of @skate_girls...</td>\n",
       "      <td>77k</td>\n",
       "      <td>62680</td>\n",
       "      <td>2 days ago</td>\n",
       "    </tr>\n",
       "    <tr>\n",
       "      <th>2</th>\n",
       "      <td>https://scontent-waw1-1.cdninstagram.com/v/t51...</td>\n",
       "      <td>It takes courage to take the first step 🏃. Jus...</td>\n",
       "      <td>232k</td>\n",
       "      <td>46169</td>\n",
       "      <td>2 days ago</td>\n",
       "    </tr>\n",
       "    <tr>\n",
       "      <th>3</th>\n",
       "      <td>https://scontent-waw1-1.cdninstagram.com/v/t51...</td>\n",
       "      <td>“The climate crisis is affecting my sport and ...</td>\n",
       "      <td>158k</td>\n",
       "      <td>86967</td>\n",
       "      <td>6 days ago</td>\n",
       "    </tr>\n",
       "    <tr>\n",
       "      <th>4</th>\n",
       "      <td>https://scontent-waw1-1.cdninstagram.com/v/t51...</td>\n",
       "      <td>“People like to tell us what we can and can’t ...</td>\n",
       "      <td>251k</td>\n",
       "      <td>67604</td>\n",
       "      <td>1 week ago</td>\n",
       "    </tr>\n",
       "  </tbody>\n",
       "</table>\n",
       "</div>"
      ],
      "text/plain": [
       "                                             img_url  \\\n",
       "0  https://scontent-waw1-1.cdninstagram.com/v/t51...   \n",
       "1  https://scontent-waw1-1.cdninstagram.com/v/t51...   \n",
       "2  https://scontent-waw1-1.cdninstagram.com/v/t51...   \n",
       "3  https://scontent-waw1-1.cdninstagram.com/v/t51...   \n",
       "4  https://scontent-waw1-1.cdninstagram.com/v/t51...   \n",
       "\n",
       "                                             caption n_likes_1000  n_comments  \\\n",
       "0  “100% of myself is nothing compared to 1% of t...         218k        9590   \n",
       "1  Meet @azusa25nigo, the founder of @skate_girls...          77k       62680   \n",
       "2  It takes courage to take the first step 🏃. Jus...         232k       46169   \n",
       "3  “The climate crisis is affecting my sport and ...         158k       86967   \n",
       "4  “People like to tell us what we can and can’t ...         251k       67604   \n",
       "\n",
       "          age  \n",
       "0   1 day ago  \n",
       "1  2 days ago  \n",
       "2  2 days ago  \n",
       "3  6 days ago  \n",
       "4  1 week ago  "
      ]
     },
     "execution_count": 79,
     "metadata": {},
     "output_type": "execute_result"
    }
   ],
   "source": [
    "nike_data.head()"
   ]
  },
  {
   "cell_type": "code",
   "execution_count": 80,
   "id": "618a20df",
   "metadata": {},
   "outputs": [],
   "source": [
    "def wrangle(text):\n",
    "    text = text.replace('“', '\"').replace('”','\"').replace('’', \"'\")\n",
    "    printable = set(string.printable)\n",
    "    text = ''.join(filter(lambda x: x in printable, text))\n",
    "    return text"
   ]
  },
  {
   "cell_type": "code",
   "execution_count": 176,
   "id": "212a98bb",
   "metadata": {},
   "outputs": [],
   "source": [
    "def firstLineQuote(text):\n",
    "    \n",
    "    pattern_qp = r'\\\"(.*?)\\\"[@\\-\\w\\s]+'\n",
    "    pattern_q = r'\\\"(.*?)\\\"'\n",
    "    r_qp = re.fullmatch(pattern_qp,text)\n",
    "    r_q = re.fullmatch(pattern_q, text)\n",
    "    if r_qp != None:\n",
    "        return 'personal_quote'\n",
    "    if r_q != None:\n",
    "        return 'quote'\n",
    "    return ''"
   ]
  },
  {
   "cell_type": "code",
   "execution_count": 109,
   "id": "a52002f5",
   "metadata": {},
   "outputs": [],
   "source": [
    "def generateNER(text):\n",
    "    doc = NLP(text)\n",
    "    \n",
    "    ners = []\n",
    "    for word in doc.ents:\n",
    "        if word.label_.lower() in ['event', 'fac', 'gpe', 'law', 'loc', 'money', 'norp', 'org', 'person', 'product', 'work_of_art']:\n",
    "            ners.append(word.label_.lower())\n",
    "    \n",
    "    return ','.join(ners)\n",
    "    "
   ]
  },
  {
   "cell_type": "code",
   "execution_count": 172,
   "id": "677c97bf",
   "metadata": {},
   "outputs": [],
   "source": [
    "def analyzeText(text):\n",
    "    \n",
    "    print(\"----------- Actual Text ------------\")\n",
    "    print(text)\n",
    "    doc = NLP(text)\n",
    "    \n",
    "#     print(\"----------- Spacy render -----------\")\n",
    "#     displacy.render(doc,style=\"ent\",jupyter=True)\n",
    "    \n",
    "#     print(\"----------- Spacy NERs -------------\")\n",
    "#     for word in doc.ents:\n",
    "#         print(word.text,word.label_)\n",
    "    \n",
    "#     print(\"----------- POS tag ----------------\")\n",
    "#     # Token and Tag\n",
    "#     for token in doc:\n",
    "#         print(token, token.pos_)        "
   ]
  },
  {
   "cell_type": "code",
   "execution_count": null,
   "id": "427cd0ed",
   "metadata": {},
   "outputs": [],
   "source": [
    "def "
   ]
  },
  {
   "cell_type": "code",
   "execution_count": 82,
   "id": "6c283980",
   "metadata": {},
   "outputs": [],
   "source": [
    "nike_data['caption_cleaned'] = nike_data['caption'].apply(lambda x : wrangle(x))"
   ]
  },
  {
   "cell_type": "code",
   "execution_count": 107,
   "id": "f1eabef2",
   "metadata": {},
   "outputs": [],
   "source": [
    "nike_data['NER'] = nike_data['caption_cleaned'].apply(lambda x : generateNER(x))"
   ]
  },
  {
   "cell_type": "code",
   "execution_count": 177,
   "id": "49efa50d",
   "metadata": {},
   "outputs": [],
   "source": [
    "nike_data['firstLineQuote'] = nike_data['caption_cleaned'].apply(lambda x : firstLineQuote(x.strip().split('\\n')[0].strip())) "
   ]
  },
  {
   "cell_type": "code",
   "execution_count": 181,
   "id": "6e06f83a",
   "metadata": {},
   "outputs": [
    {
     "data": {
      "text/html": [
       "<div>\n",
       "<style scoped>\n",
       "    .dataframe tbody tr th:only-of-type {\n",
       "        vertical-align: middle;\n",
       "    }\n",
       "\n",
       "    .dataframe tbody tr th {\n",
       "        vertical-align: top;\n",
       "    }\n",
       "\n",
       "    .dataframe thead th {\n",
       "        text-align: right;\n",
       "    }\n",
       "</style>\n",
       "<table border=\"1\" class=\"dataframe\">\n",
       "  <thead>\n",
       "    <tr style=\"text-align: right;\">\n",
       "      <th></th>\n",
       "      <th>img_url</th>\n",
       "      <th>caption</th>\n",
       "      <th>n_likes_1000</th>\n",
       "      <th>n_comments</th>\n",
       "      <th>age</th>\n",
       "      <th>caption_cleaned</th>\n",
       "      <th>NER</th>\n",
       "      <th>firstLineQuote</th>\n",
       "    </tr>\n",
       "  </thead>\n",
       "  <tbody>\n",
       "    <tr>\n",
       "      <th>0</th>\n",
       "      <td>https://scontent-waw1-1.cdninstagram.com/v/t51...</td>\n",
       "      <td>“100% of myself is nothing compared to 1% of t...</td>\n",
       "      <td>218k</td>\n",
       "      <td>9590</td>\n",
       "      <td>1 day ago</td>\n",
       "      <td>\"100% of myself is nothing compared to 1% of t...</td>\n",
       "      <td>person</td>\n",
       "      <td>personal_quote</td>\n",
       "    </tr>\n",
       "    <tr>\n",
       "      <th>1</th>\n",
       "      <td>https://scontent-waw1-1.cdninstagram.com/v/t51...</td>\n",
       "      <td>Meet @azusa25nigo, the founder of @skate_girls...</td>\n",
       "      <td>77k</td>\n",
       "      <td>62680</td>\n",
       "      <td>2 days ago</td>\n",
       "      <td>Meet @azusa25nigo, the founder of @skate_girls...</td>\n",
       "      <td>person,gpe,org,norp,work_of_art,org</td>\n",
       "      <td></td>\n",
       "    </tr>\n",
       "    <tr>\n",
       "      <th>2</th>\n",
       "      <td>https://scontent-waw1-1.cdninstagram.com/v/t51...</td>\n",
       "      <td>It takes courage to take the first step 🏃. Jus...</td>\n",
       "      <td>232k</td>\n",
       "      <td>46169</td>\n",
       "      <td>2 days ago</td>\n",
       "      <td>It takes courage to take the first step . Just...</td>\n",
       "      <td>org,gpe,org,gpe,norp,work_of_art,org</td>\n",
       "      <td></td>\n",
       "    </tr>\n",
       "    <tr>\n",
       "      <th>3</th>\n",
       "      <td>https://scontent-waw1-1.cdninstagram.com/v/t51...</td>\n",
       "      <td>“The climate crisis is affecting my sport and ...</td>\n",
       "      <td>158k</td>\n",
       "      <td>86967</td>\n",
       "      <td>6 days ago</td>\n",
       "      <td>\"The climate crisis is affecting my sport and ...</td>\n",
       "      <td>person</td>\n",
       "      <td>quote</td>\n",
       "    </tr>\n",
       "    <tr>\n",
       "      <th>4</th>\n",
       "      <td>https://scontent-waw1-1.cdninstagram.com/v/t51...</td>\n",
       "      <td>“People like to tell us what we can and can’t ...</td>\n",
       "      <td>251k</td>\n",
       "      <td>67604</td>\n",
       "      <td>1 week ago</td>\n",
       "      <td>\"People like to tell us what we can and can't ...</td>\n",
       "      <td>org,org,org,org</td>\n",
       "      <td>personal_quote</td>\n",
       "    </tr>\n",
       "  </tbody>\n",
       "</table>\n",
       "</div>"
      ],
      "text/plain": [
       "                                             img_url  \\\n",
       "0  https://scontent-waw1-1.cdninstagram.com/v/t51...   \n",
       "1  https://scontent-waw1-1.cdninstagram.com/v/t51...   \n",
       "2  https://scontent-waw1-1.cdninstagram.com/v/t51...   \n",
       "3  https://scontent-waw1-1.cdninstagram.com/v/t51...   \n",
       "4  https://scontent-waw1-1.cdninstagram.com/v/t51...   \n",
       "\n",
       "                                             caption n_likes_1000  n_comments  \\\n",
       "0  “100% of myself is nothing compared to 1% of t...         218k        9590   \n",
       "1  Meet @azusa25nigo, the founder of @skate_girls...          77k       62680   \n",
       "2  It takes courage to take the first step 🏃. Jus...         232k       46169   \n",
       "3  “The climate crisis is affecting my sport and ...         158k       86967   \n",
       "4  “People like to tell us what we can and can’t ...         251k       67604   \n",
       "\n",
       "          age                                    caption_cleaned  \\\n",
       "0   1 day ago  \"100% of myself is nothing compared to 1% of t...   \n",
       "1  2 days ago  Meet @azusa25nigo, the founder of @skate_girls...   \n",
       "2  2 days ago  It takes courage to take the first step . Just...   \n",
       "3  6 days ago  \"The climate crisis is affecting my sport and ...   \n",
       "4  1 week ago  \"People like to tell us what we can and can't ...   \n",
       "\n",
       "                                    NER  firstLineQuote  \n",
       "0                                person  personal_quote  \n",
       "1   person,gpe,org,norp,work_of_art,org                  \n",
       "2  org,gpe,org,gpe,norp,work_of_art,org                  \n",
       "3                                person           quote  \n",
       "4                       org,org,org,org  personal_quote  "
      ]
     },
     "execution_count": 181,
     "metadata": {},
     "output_type": "execute_result"
    }
   ],
   "source": [
    "nike_data.head()"
   ]
  },
  {
   "cell_type": "code",
   "execution_count": null,
   "id": "324bf6d4",
   "metadata": {},
   "outputs": [],
   "source": []
  }
 ],
 "metadata": {
  "kernelspec": {
   "display_name": "Python 3 (ipykernel)",
   "language": "python",
   "name": "python3"
  },
  "language_info": {
   "codemirror_mode": {
    "name": "ipython",
    "version": 3
   },
   "file_extension": ".py",
   "mimetype": "text/x-python",
   "name": "python",
   "nbconvert_exporter": "python",
   "pygments_lexer": "ipython3",
   "version": "3.9.6"
  }
 },
 "nbformat": 4,
 "nbformat_minor": 5
}
