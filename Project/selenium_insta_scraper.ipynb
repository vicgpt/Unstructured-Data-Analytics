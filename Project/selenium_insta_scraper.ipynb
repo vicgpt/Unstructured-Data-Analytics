{
 "cells": [
  {
   "cell_type": "code",
   "execution_count": null,
   "id": "e88a4542",
   "metadata": {},
   "outputs": [],
   "source": [
    "import os\n",
    "import sys\n",
    "\n",
    "import pandas as pd\n",
    "from datetime import datetime as dt\n",
    "from selenium import webdriver\n",
    "from selenium.common.exceptions import NoSuchElementException\n",
    "import time\n",
    "\n",
    "import collections\n",
    "import string\n",
    "from nltk.tokenize import word_tokenize\n",
    "from nltk.tokenize import sent_tokenize\n",
    "from nltk.corpus import wordnet\n",
    "from nltk import pos_tag\n",
    "\n",
    "import scipy.stats as ss\n",
    "import matplotlib.pyplot as plt\n",
    "import math\n",
    "\n",
    "import re\n",
    "from nltk.corpus import stopwords\n",
    "\n",
    "from sklearn.manifold import MDS\n",
    "\n",
    "chrome_options = webdriver.ChromeOptions()\n",
    "chrome_options.add_argument('--headless')\n",
    "chrome_options.add_argument('--no-sandbox')\n",
    "chrome_options.add_argument('--disable-dev-shm-usage')"
   ]
  },
  {
   "cell_type": "code",
   "execution_count": null,
   "id": "20e3310e",
   "metadata": {},
   "outputs": [],
   "source": [
    "def scrollWindow(driver, n = 3):\n",
    "    SCROLL_PAUSE_TIME = 6\n",
    "\n",
    "    # Get scroll height\n",
    "    last_height = driver.execute_script(\"return document.body.scrollHeight\")\n",
    "    \n",
    "    i = 0\n",
    "    while i<n:\n",
    "        # Scroll down to bottom\n",
    "        driver.execute_script(\"window.scrollTo(0, document.body.scrollHeight);\")\n",
    "\n",
    "        # Wait to load page\n",
    "        time.sleep(SCROLL_PAUSE_TIME)\n",
    "\n",
    "        # Calculate new scroll height and compare with last scroll height\n",
    "        new_height = driver.execute_script(\"return document.body.scrollHeight\")\n",
    "        if new_height == last_height:\n",
    "            break\n",
    "        last_height = new_height\n",
    "        i+=1"
   ]
  },
  {
   "cell_type": "code",
   "execution_count": null,
   "id": "e2103da8",
   "metadata": {},
   "outputs": [],
   "source": [
    "def filterUrl(url):\n",
    "    url = url.replace('https://gramhir.com/hosted-by-instagram/url=', '')\n",
    "    url = url.replace('%3A%7C%7C%7C%7C','://').replace('%7C%7C', '/').replace('%3F', '?').replace('%3D','=').replace('%26', '&')\n",
    "    return url"
   ]
  },
  {
   "cell_type": "code",
   "execution_count": null,
   "id": "5ba04cac",
   "metadata": {},
   "outputs": [],
   "source": [
    "def wrangle(text):\n",
    "    text = text.encode(\"utf-8\").decode('utf-8','ignore')\n",
    "    return text"
   ]
  },
  {
   "cell_type": "code",
   "execution_count": null,
   "id": "8671e310",
   "metadata": {},
   "outputs": [],
   "source": [
    "path_to_driver = os.getcwd() + \"\\\\chromedriver\"\n",
    "sys.path.insert(0,path_to_driver)"
   ]
  },
  {
   "cell_type": "code",
   "execution_count": null,
   "id": "35924f3b",
   "metadata": {},
   "outputs": [],
   "source": [
    "def checkVideo(el):\n",
    "    return el.find_element_by_xpath(\"//div[@class = 'video-icon']\").is_displayed()"
   ]
  },
  {
   "cell_type": "code",
   "execution_count": null,
   "id": "b4dd2dfd",
   "metadata": {},
   "outputs": [],
   "source": [
    "def scrapeData(url, scroll = 3):\n",
    "    wd = webdriver.Chrome('chromedriver',options=chrome_options)\n",
    "    wd.get(url)\n",
    "    \n",
    "    time.sleep(5)\n",
    "    scrollWindow(driver=wd, n=scroll)\n",
    "    \n",
    "    post_ul = wd.find_element_by_xpath(\".//div[@class='content box-photos-wrapper']//ul\")\n",
    "    photoURL_list = post_ul.find_elements_by_xpath(\"//div[@class = 'photo']//img\")\n",
    "    likesComment_list = post_ul.find_elements_by_xpath(\"//div[@class = 'post-footer']\")\n",
    "\n",
    "    insta_list = []\n",
    "    for p, lc in zip(photoURL_list, likesComment_list):\n",
    "        \n",
    "        insta_list.append(\n",
    "            (filterUrl(p.get_attribute('src')), wrangle(p.get_attribute('alt')), *lc.text.split('\\n')))\n",
    "    \n",
    "    data = pd.DataFrame(insta_list, columns = ['img_url', 'caption', 'n_likes_1000', 'n_comments', 'age'])\n",
    "    \n",
    "    return data"
   ]
  },
  {
   "cell_type": "code",
   "execution_count": null,
   "id": "19eea03a",
   "metadata": {},
   "outputs": [],
   "source": [
    "adidas_data = scrapeData(url = 'https://gramhir.com/profile/adidas/20269764', scroll = 50)\n",
    "adidas_data.to_csv('adidas_data.csv')"
   ]
  },
  {
   "cell_type": "code",
   "execution_count": null,
   "id": "e67375d2",
   "metadata": {},
   "outputs": [],
   "source": [
    "nike_url = \"https://gramhir.com/profile/nike/13460080\"\n",
    "nike_data = scrapeData(url = nike_url, scroll = 50)\n",
    "nike_data.to_csv('nike_data.csv')"
   ]
  }
 ],
 "metadata": {
  "kernelspec": {
   "display_name": "Python 3 (ipykernel)",
   "language": "python",
   "name": "python3"
  },
  "language_info": {
   "codemirror_mode": {
    "name": "ipython",
    "version": 3
   },
   "file_extension": ".py",
   "mimetype": "text/x-python",
   "name": "python",
   "nbconvert_exporter": "python",
   "pygments_lexer": "ipython3",
   "version": "3.9.6"
  }
 },
 "nbformat": 4,
 "nbformat_minor": 5
}
